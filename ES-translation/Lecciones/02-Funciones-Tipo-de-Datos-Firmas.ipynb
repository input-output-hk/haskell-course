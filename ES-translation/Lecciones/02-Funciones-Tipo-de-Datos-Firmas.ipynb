{
 "cells": [
  {
   "cell_type": "markdown",
   "metadata": {
    "slideshow": {
     "slide_type": "slide"
    }
   },
   "source": [
    "# Tipos de Datos, Firmas y Polimorfismo"
   ]
  },
  {
   "cell_type": "markdown",
   "metadata": {
    "slideshow": {
     "slide_type": "slide"
    }
   },
   "source": [
    "\n",
    "## Indice\n",
    "\n",
    "- Introducción pragmática a tipos\n",
    "- Firmas de funciones\n",
    "- Trabajando con funciones\n",
    "    - Variables en Haskell\n",
    "    - Funciones infijas y prefijas    \n",
    "- Tipos de Datos comunes\n",
    "- Valores polimórficos y variables de tipo\n",
    "- Diversión con listas!"
   ]
  },
  {
   "cell_type": "markdown",
   "metadata": {
    "slideshow": {
     "slide_type": "slide"
    }
   },
   "source": [
    "## Introducción pragmática a tipos"
   ]
  },
  {
   "cell_type": "markdown",
   "metadata": {
    "slideshow": {
     "slide_type": "slide"
    }
   },
   "source": [
    "### El `::`"
   ]
  },
  {
   "cell_type": "markdown",
   "metadata": {
    "slideshow": {
     "slide_type": "skip"
    }
   },
   "source": [
    "Un tipo es una etiqueta que cada expresión tiene y restringe su uso."
   ]
  },
  {
   "cell_type": "markdown",
   "metadata": {
    "slideshow": {
     "slide_type": "slide"
    }
   },
   "source": [
    "Utilizamos el símbolo *dos puntos duplicado* para mostrar o asignar el tipo de una expresión. Por ejemplo, el código\n",
    "\n",
    "``` haskell\n",
    "miexpresion :: MiTipo\n",
    "```\n",
    "\n",
    "nos indica que la expresión `miexpresión` tiene tipo `MiTipo`."
   ]
  },
  {
   "cell_type": "markdown",
   "metadata": {
    "slideshow": {
     "slide_type": "slide"
    }
   },
   "source": [
    "### Tipos usados frecuentemente"
   ]
  },
  {
   "cell_type": "markdown",
   "metadata": {
    "slideshow": {
     "slide_type": "skip"
    }
   },
   "source": [
    "Existen tipos estándar que son utilizados frecuentemente en Haskell:"
   ]
  },
  {
   "cell_type": "markdown",
   "metadata": {
    "slideshow": {
     "slide_type": "fragment"
    }
   },
   "source": [
    "* `Int` y `Integer` para números enteros.\n",
    "* `Float` y `Double` para números de punto flotante y reales.\n",
    "* `Bool` para `True` y `False`.\n",
    "* `Char` para caracteres.\n",
    "* `String` para cadenas de texto."
   ]
  },
  {
   "cell_type": "markdown",
   "metadata": {
    "slideshow": {
     "slide_type": "slide"
    }
   },
   "source": [
    "### Cómo chequear un tipo?"
   ]
  },
  {
   "cell_type": "markdown",
   "metadata": {
    "slideshow": {
     "slide_type": "fragment"
    }
   },
   "source": [
    "\n",
    "El comando `:type` (o en forma abreviada `:t`) utilizado en el intérprete GHCI, seguido por una expresión válida , nos indicará su tipo.\n",
    " "
   ]
  },
  {
   "cell_type": "code",
   "execution_count": 1,
   "metadata": {
    "scrolled": true,
    "slideshow": {
     "slide_type": "fragment"
    }
   },
   "outputs": [
    {
     "data": {
      "text/html": [
       "<style>/* Styles used for the Hoogle display in the pager */\n",
       ".hoogle-doc {\n",
       "display: block;\n",
       "padding-bottom: 1.3em;\n",
       "padding-left: 0.4em;\n",
       "}\n",
       ".hoogle-code {\n",
       "display: block;\n",
       "font-family: monospace;\n",
       "white-space: pre;\n",
       "}\n",
       ".hoogle-text {\n",
       "display: block;\n",
       "}\n",
       ".hoogle-name {\n",
       "color: green;\n",
       "font-weight: bold;\n",
       "}\n",
       ".hoogle-head {\n",
       "font-weight: bold;\n",
       "}\n",
       ".hoogle-sub {\n",
       "display: block;\n",
       "margin-left: 0.4em;\n",
       "}\n",
       ".hoogle-package {\n",
       "font-weight: bold;\n",
       "font-style: italic;\n",
       "}\n",
       ".hoogle-module {\n",
       "font-weight: bold;\n",
       "}\n",
       ".hoogle-class {\n",
       "font-weight: bold;\n",
       "}\n",
       ".get-type {\n",
       "color: green;\n",
       "font-weight: bold;\n",
       "font-family: monospace;\n",
       "display: block;\n",
       "white-space: pre-wrap;\n",
       "}\n",
       ".show-type {\n",
       "color: green;\n",
       "font-weight: bold;\n",
       "font-family: monospace;\n",
       "margin-left: 1em;\n",
       "}\n",
       ".mono {\n",
       "font-family: monospace;\n",
       "display: block;\n",
       "}\n",
       ".err-msg {\n",
       "color: red;\n",
       "font-style: italic;\n",
       "font-family: monospace;\n",
       "white-space: pre;\n",
       "display: block;\n",
       "}\n",
       "#unshowable {\n",
       "color: red;\n",
       "font-weight: bold;\n",
       "}\n",
       ".err-msg.in.collapse {\n",
       "padding-top: 0.7em;\n",
       "}\n",
       ".highlight-code {\n",
       "white-space: pre;\n",
       "font-family: monospace;\n",
       "}\n",
       ".suggestion-warning { \n",
       "font-weight: bold;\n",
       "color: rgb(200, 130, 0);\n",
       "}\n",
       ".suggestion-error { \n",
       "font-weight: bold;\n",
       "color: red;\n",
       "}\n",
       ".suggestion-name {\n",
       "font-weight: bold;\n",
       "}\n",
       "</style><span class='get-type'>True :: Bool</span>"
      ],
      "text/plain": [
       "True :: Bool"
      ]
     },
     "metadata": {},
     "output_type": "display_data"
    },
    {
     "data": {
      "text/html": [
       "<style>/* Styles used for the Hoogle display in the pager */\n",
       ".hoogle-doc {\n",
       "display: block;\n",
       "padding-bottom: 1.3em;\n",
       "padding-left: 0.4em;\n",
       "}\n",
       ".hoogle-code {\n",
       "display: block;\n",
       "font-family: monospace;\n",
       "white-space: pre;\n",
       "}\n",
       ".hoogle-text {\n",
       "display: block;\n",
       "}\n",
       ".hoogle-name {\n",
       "color: green;\n",
       "font-weight: bold;\n",
       "}\n",
       ".hoogle-head {\n",
       "font-weight: bold;\n",
       "}\n",
       ".hoogle-sub {\n",
       "display: block;\n",
       "margin-left: 0.4em;\n",
       "}\n",
       ".hoogle-package {\n",
       "font-weight: bold;\n",
       "font-style: italic;\n",
       "}\n",
       ".hoogle-module {\n",
       "font-weight: bold;\n",
       "}\n",
       ".hoogle-class {\n",
       "font-weight: bold;\n",
       "}\n",
       ".get-type {\n",
       "color: green;\n",
       "font-weight: bold;\n",
       "font-family: monospace;\n",
       "display: block;\n",
       "white-space: pre-wrap;\n",
       "}\n",
       ".show-type {\n",
       "color: green;\n",
       "font-weight: bold;\n",
       "font-family: monospace;\n",
       "margin-left: 1em;\n",
       "}\n",
       ".mono {\n",
       "font-family: monospace;\n",
       "display: block;\n",
       "}\n",
       ".err-msg {\n",
       "color: red;\n",
       "font-style: italic;\n",
       "font-family: monospace;\n",
       "white-space: pre;\n",
       "display: block;\n",
       "}\n",
       "#unshowable {\n",
       "color: red;\n",
       "font-weight: bold;\n",
       "}\n",
       ".err-msg.in.collapse {\n",
       "padding-top: 0.7em;\n",
       "}\n",
       ".highlight-code {\n",
       "white-space: pre;\n",
       "font-family: monospace;\n",
       "}\n",
       ".suggestion-warning { \n",
       "font-weight: bold;\n",
       "color: rgb(200, 130, 0);\n",
       "}\n",
       ".suggestion-error { \n",
       "font-weight: bold;\n",
       "color: red;\n",
       "}\n",
       ".suggestion-name {\n",
       "font-weight: bold;\n",
       "}\n",
       "</style><span class='get-type'>False :: Bool</span>"
      ],
      "text/plain": [
       "False :: Bool"
      ]
     },
     "metadata": {},
     "output_type": "display_data"
    },
    {
     "data": {
      "text/html": [
       "<style>/* Styles used for the Hoogle display in the pager */\n",
       ".hoogle-doc {\n",
       "display: block;\n",
       "padding-bottom: 1.3em;\n",
       "padding-left: 0.4em;\n",
       "}\n",
       ".hoogle-code {\n",
       "display: block;\n",
       "font-family: monospace;\n",
       "white-space: pre;\n",
       "}\n",
       ".hoogle-text {\n",
       "display: block;\n",
       "}\n",
       ".hoogle-name {\n",
       "color: green;\n",
       "font-weight: bold;\n",
       "}\n",
       ".hoogle-head {\n",
       "font-weight: bold;\n",
       "}\n",
       ".hoogle-sub {\n",
       "display: block;\n",
       "margin-left: 0.4em;\n",
       "}\n",
       ".hoogle-package {\n",
       "font-weight: bold;\n",
       "font-style: italic;\n",
       "}\n",
       ".hoogle-module {\n",
       "font-weight: bold;\n",
       "}\n",
       ".hoogle-class {\n",
       "font-weight: bold;\n",
       "}\n",
       ".get-type {\n",
       "color: green;\n",
       "font-weight: bold;\n",
       "font-family: monospace;\n",
       "display: block;\n",
       "white-space: pre-wrap;\n",
       "}\n",
       ".show-type {\n",
       "color: green;\n",
       "font-weight: bold;\n",
       "font-family: monospace;\n",
       "margin-left: 1em;\n",
       "}\n",
       ".mono {\n",
       "font-family: monospace;\n",
       "display: block;\n",
       "}\n",
       ".err-msg {\n",
       "color: red;\n",
       "font-style: italic;\n",
       "font-family: monospace;\n",
       "white-space: pre;\n",
       "display: block;\n",
       "}\n",
       "#unshowable {\n",
       "color: red;\n",
       "font-weight: bold;\n",
       "}\n",
       ".err-msg.in.collapse {\n",
       "padding-top: 0.7em;\n",
       "}\n",
       ".highlight-code {\n",
       "white-space: pre;\n",
       "font-family: monospace;\n",
       "}\n",
       ".suggestion-warning { \n",
       "font-weight: bold;\n",
       "color: rgb(200, 130, 0);\n",
       "}\n",
       ".suggestion-error { \n",
       "font-weight: bold;\n",
       "color: red;\n",
       "}\n",
       ".suggestion-name {\n",
       "font-weight: bold;\n",
       "}\n",
       "</style><span class='get-type'>(3 < 5) :: Bool</span>"
      ],
      "text/plain": [
       "(3 < 5) :: Bool"
      ]
     },
     "metadata": {},
     "output_type": "display_data"
    },
    {
     "data": {
      "text/html": [
       "<style>/* Styles used for the Hoogle display in the pager */\n",
       ".hoogle-doc {\n",
       "display: block;\n",
       "padding-bottom: 1.3em;\n",
       "padding-left: 0.4em;\n",
       "}\n",
       ".hoogle-code {\n",
       "display: block;\n",
       "font-family: monospace;\n",
       "white-space: pre;\n",
       "}\n",
       ".hoogle-text {\n",
       "display: block;\n",
       "}\n",
       ".hoogle-name {\n",
       "color: green;\n",
       "font-weight: bold;\n",
       "}\n",
       ".hoogle-head {\n",
       "font-weight: bold;\n",
       "}\n",
       ".hoogle-sub {\n",
       "display: block;\n",
       "margin-left: 0.4em;\n",
       "}\n",
       ".hoogle-package {\n",
       "font-weight: bold;\n",
       "font-style: italic;\n",
       "}\n",
       ".hoogle-module {\n",
       "font-weight: bold;\n",
       "}\n",
       ".hoogle-class {\n",
       "font-weight: bold;\n",
       "}\n",
       ".get-type {\n",
       "color: green;\n",
       "font-weight: bold;\n",
       "font-family: monospace;\n",
       "display: block;\n",
       "white-space: pre-wrap;\n",
       "}\n",
       ".show-type {\n",
       "color: green;\n",
       "font-weight: bold;\n",
       "font-family: monospace;\n",
       "margin-left: 1em;\n",
       "}\n",
       ".mono {\n",
       "font-family: monospace;\n",
       "display: block;\n",
       "}\n",
       ".err-msg {\n",
       "color: red;\n",
       "font-style: italic;\n",
       "font-family: monospace;\n",
       "white-space: pre;\n",
       "display: block;\n",
       "}\n",
       "#unshowable {\n",
       "color: red;\n",
       "font-weight: bold;\n",
       "}\n",
       ".err-msg.in.collapse {\n",
       "padding-top: 0.7em;\n",
       "}\n",
       ".highlight-code {\n",
       "white-space: pre;\n",
       "font-family: monospace;\n",
       "}\n",
       ".suggestion-warning { \n",
       "font-weight: bold;\n",
       "color: rgb(200, 130, 0);\n",
       "}\n",
       ".suggestion-error { \n",
       "font-weight: bold;\n",
       "color: red;\n",
       "}\n",
       ".suggestion-name {\n",
       "font-weight: bold;\n",
       "}\n",
       "</style><span class='get-type'>'A' :: Char</span>"
      ],
      "text/plain": [
       "'A' :: Char"
      ]
     },
     "metadata": {},
     "output_type": "display_data"
    },
    {
     "data": {
      "text/html": [
       "<style>/* Styles used for the Hoogle display in the pager */\n",
       ".hoogle-doc {\n",
       "display: block;\n",
       "padding-bottom: 1.3em;\n",
       "padding-left: 0.4em;\n",
       "}\n",
       ".hoogle-code {\n",
       "display: block;\n",
       "font-family: monospace;\n",
       "white-space: pre;\n",
       "}\n",
       ".hoogle-text {\n",
       "display: block;\n",
       "}\n",
       ".hoogle-name {\n",
       "color: green;\n",
       "font-weight: bold;\n",
       "}\n",
       ".hoogle-head {\n",
       "font-weight: bold;\n",
       "}\n",
       ".hoogle-sub {\n",
       "display: block;\n",
       "margin-left: 0.4em;\n",
       "}\n",
       ".hoogle-package {\n",
       "font-weight: bold;\n",
       "font-style: italic;\n",
       "}\n",
       ".hoogle-module {\n",
       "font-weight: bold;\n",
       "}\n",
       ".hoogle-class {\n",
       "font-weight: bold;\n",
       "}\n",
       ".get-type {\n",
       "color: green;\n",
       "font-weight: bold;\n",
       "font-family: monospace;\n",
       "display: block;\n",
       "white-space: pre-wrap;\n",
       "}\n",
       ".show-type {\n",
       "color: green;\n",
       "font-weight: bold;\n",
       "font-family: monospace;\n",
       "margin-left: 1em;\n",
       "}\n",
       ".mono {\n",
       "font-family: monospace;\n",
       "display: block;\n",
       "}\n",
       ".err-msg {\n",
       "color: red;\n",
       "font-style: italic;\n",
       "font-family: monospace;\n",
       "white-space: pre;\n",
       "display: block;\n",
       "}\n",
       "#unshowable {\n",
       "color: red;\n",
       "font-weight: bold;\n",
       "}\n",
       ".err-msg.in.collapse {\n",
       "padding-top: 0.7em;\n",
       "}\n",
       ".highlight-code {\n",
       "white-space: pre;\n",
       "font-family: monospace;\n",
       "}\n",
       ".suggestion-warning { \n",
       "font-weight: bold;\n",
       "color: rgb(200, 130, 0);\n",
       "}\n",
       ".suggestion-error { \n",
       "font-weight: bold;\n",
       "color: red;\n",
       "}\n",
       ".suggestion-name {\n",
       "font-weight: bold;\n",
       "}\n",
       "</style><span class='get-type'>\"Hello world!\" :: [Char]</span>"
      ],
      "text/plain": [
       "\"Hello world!\" :: [Char]"
      ]
     },
     "metadata": {},
     "output_type": "display_data"
    }
   ],
   "source": [
    ":type True\n",
    "\n",
    ":type False\n",
    "\n",
    ":t (3 < 5)\n",
    "\n",
    ":t 'A'\n",
    "\n",
    ":t \"Hello world!\"    "
   ]
  },
  {
   "cell_type": "markdown",
   "metadata": {
    "slideshow": {
     "slide_type": "slide"
    }
   },
   "source": [
    "## Firma de una función"
   ]
  },
  {
   "cell_type": "markdown",
   "metadata": {
    "slideshow": {
     "slide_type": "skip"
    }
   },
   "source": [
    "El símbolo `::` debe ser leído como \"es del tipo\", e indica el tipo de la *firma*. Expliquemos que es el el tipo de la firma con el siguiente ejemplo. En Haskell, una función que eleva al cuadrado su argumento se define de la siguiente forma:"
   ]
  },
  {
   "cell_type": "code",
   "execution_count": null,
   "metadata": {
    "slideshow": {
     "slide_type": "fragment"
    }
   },
   "outputs": [],
   "source": [
    "cuadrado :: Int -> Int\n",
    "cuadrado v = v * v"
   ]
  },
  {
   "cell_type": "markdown",
   "metadata": {
    "slideshow": {
     "slide_type": "fragment"
    }
   },
   "source": [
    "La primera línea contiene la  **firma**, la segunda línea contiene la  **definición** de la función `cuadrado`.\n"
   ]
  },
  {
   "cell_type": "markdown",
   "metadata": {
    "slideshow": {
     "slide_type": "skip"
    }
   },
   "source": [
    "* La **firma** de una función es un mensaje a todo elmundo de la existencia de dicha función, este es su nombre y estos son los tipos con los cuales trabaja. \n",
    "\n",
    "* La **definición** de una función es información respecto a lo que exactamente hace dicha función"
   ]
  },
  {
   "cell_type": "markdown",
   "metadata": {
    "slideshow": {
     "slide_type": "skip"
    }
   },
   "source": [
    "En la firma"
   ]
  },
  {
   "cell_type": "markdown",
   "metadata": {
    "slideshow": {
     "slide_type": "skip"
    }
   },
   "source": [
    "```haskell\n",
    "cuadrado :: Int -> Int\n",
    "```"
   ]
  },
  {
   "cell_type": "markdown",
   "metadata": {
    "slideshow": {
     "slide_type": "skip"
    }
   },
   "source": [
    "dos partes están *separadas* por doble dos puntos en "
   ]
  },
  {
   "cell_type": "markdown",
   "metadata": {
    "slideshow": {
     "slide_type": "skip"
    }
   },
   "source": [
    "\n",
    "* el **nombre** de la función a la izquierda\n",
    "\n",
    "* el **tipo de función** a la derecha."
   ]
  },
  {
   "cell_type": "markdown",
   "metadata": {
    "slideshow": {
     "slide_type": "fragment"
    }
   },
   "source": [
    "**Todo dato en un programa Haskell es de un tipo específico.** Y considerando que las funciones trabajan con datos, su **firma contiene los tipos de sus entradas y salidas, separadas por flechas `->`**."
   ]
  },
  {
   "cell_type": "markdown",
   "metadata": {
    "slideshow": {
     "slide_type": "notes"
    }
   },
   "source": [
    "La firma de la función para elevar al cuadrado `cuadrado` nos indica que acepta un *único* argumento del tipo `Int` y retorna un valor del mismo tipo `Int`."
   ]
  },
  {
   "cell_type": "markdown",
   "metadata": {
    "slideshow": {
     "slide_type": "slide"
    }
   },
   "source": [
    "Si hay más de un argumento, la firma se adapta. Por ejemplo, la firma de la función `producto` que retorna el producto de dos enteros recibidos como argumentos, puede verse así: "
   ]
  },
  {
   "cell_type": "code",
   "execution_count": 2,
   "metadata": {
    "slideshow": {
     "slide_type": "fragment"
    }
   },
   "outputs": [],
   "source": [
    "producto :: Int -> Int -> Int\n",
    "producto x y = x * y"
   ]
  },
  {
   "cell_type": "markdown",
   "metadata": {
    "slideshow": {
     "slide_type": "fragment"
    }
   },
   "source": [
    "Tiene dos argumentos de tipo `Int` , y su salida también es de tipo `Int`. "
   ]
  },
  {
   "cell_type": "markdown",
   "metadata": {
    "slideshow": {
     "slide_type": "skip"
    }
   },
   "source": [
    "En la  **definición** de una función, el signo de `=` separa el código en dos partes."
   ]
  },
  {
   "cell_type": "markdown",
   "metadata": {
    "slideshow": {
     "slide_type": "skip"
    }
   },
   "source": [
    "\n",
    "* **Cabezal** es el código a la izquierda de `=` y consiste en el  **nombre de una función** y **nombres de argumentos** (nombres, no tipos!), separados por espacios.\n",
    " \n",
    "* **Cuerpo** es el código a la derecha de `=` expresa la esencia de la función, su contenido."
   ]
  },
  {
   "cell_type": "markdown",
   "metadata": {
    "slideshow": {
     "slide_type": "skip"
    }
   },
   "source": [
    "### Que nos indica la firma de una función?"
   ]
  },
  {
   "cell_type": "markdown",
   "metadata": {
    "slideshow": {
     "slide_type": "skip"
    }
   },
   "source": [
    "Haskell es un lenguaje de programación *funcional* y cada programa consiste en *funciones*. Cada función toma un número fijo de parámetros de ciertos tipos y retorna un valor que también tiene un tipo determinado. Por ejemplo, la función"
   ]
  },
  {
   "cell_type": "markdown",
   "metadata": {
    "slideshow": {
     "slide_type": "skip"
    }
   },
   "source": [
    "``` haskell\n",
    "not :: Bool -> Bool\n",
    "``` "
   ]
  },
  {
   "cell_type": "markdown",
   "metadata": {
    "slideshow": {
     "slide_type": "skip"
    }
   },
   "source": [
    "toma un parámtero de tipo `Bool` y retorna su negación, la cual también es de tipo `Bool`. \n"
   ]
  },
  {
   "cell_type": "markdown",
   "metadata": {
    "slideshow": {
     "slide_type": "skip"
    }
   },
   "source": [
    "Observando la *flecha más a la derecha `->`* en la firma, se entiende que\n",
    "* todo lo que está a la izquierda de ella son **tipos de argumentos**, los cuales a su vez también pueden estar separados por flechas `->`,\n",
    "* todo lo que está a la derecha de ella es **el tipo del valor calculado**."
   ]
  },
  {
   "cell_type": "markdown",
   "metadata": {
    "slideshow": {
     "slide_type": "slide"
    }
   },
   "source": [
    "## Trabajando con funciones"
   ]
  },
  {
   "cell_type": "markdown",
   "metadata": {
    "slideshow": {
     "slide_type": "slide"
    }
   },
   "source": [
    "### Variables en Haskell (nombres/definiciones)"
   ]
  },
  {
   "cell_type": "markdown",
   "metadata": {},
   "source": [
    "Observa la siguiente función:"
   ]
  },
  {
   "cell_type": "code",
   "execution_count": 1,
   "metadata": {
    "slideshow": {
     "slide_type": "fragment"
    }
   },
   "outputs": [],
   "source": [
    "nombre = \"Bob\""
   ]
  },
  {
   "cell_type": "markdown",
   "metadata": {
    "slideshow": {
     "slide_type": "fragment"
    }
   },
   "source": [
    "Si no tenemos parámetros, tenemos una función que siempre retorna el mismo valor -un `String`-"
   ]
  },
  {
   "cell_type": "markdown",
   "metadata": {
    "slideshow": {
     "slide_type": "skip"
    }
   },
   "source": [
    "O sea, tenemos una expresión de tipo:"
   ]
  },
  {
   "cell_type": "code",
   "execution_count": 2,
   "metadata": {
    "slideshow": {
     "slide_type": "skip"
    }
   },
   "outputs": [],
   "source": [
    "nombre :: String\n",
    "nombre = \"Bob\""
   ]
  },
  {
   "cell_type": "markdown",
   "metadata": {
    "slideshow": {
     "slide_type": "fragment"
    }
   },
   "source": [
    "**Este tipo de funciones que no toman parámetros son llamadas usualmente definición o nombre**"
   ]
  },
  {
   "cell_type": "markdown",
   "metadata": {
    "slideshow": {
     "slide_type": "skip"
    }
   },
   "source": [
    "De todas formas, también pueden ser llamadas variables, ya que así son llamadas en la mayoría de los lenguajes de programación. Pero \"variable\" no siempre significa lo mismo."
   ]
  },
  {
   "cell_type": "markdown",
   "metadata": {
    "slideshow": {
     "slide_type": "skip"
    }
   },
   "source": [
    "Considerando que no podemos cambiar el valor de una definición (la expresión a la derecha de `=` siempre evaluará al mismo resultado), `nombre`y `Bob` son esencialmente la misma cosa. Y los podemos utilizar indistintamente."
   ]
  },
  {
   "cell_type": "markdown",
   "metadata": {
    "slideshow": {
     "slide_type": "skip"
    }
   },
   "source": [
    "Cuando hablamos de los lenguajes de programación en general, una variable es como una caja que contiene un valor. El nombre de la variable se encuentra escrito al costado de la caja. Se pueden poner valores adentro de la caja, y -en la mayoría de los lenguajes de programación- se podrá cambiar el valor dentro de la caja."
   ]
  },
  {
   "cell_type": "markdown",
   "metadata": {
    "slideshow": {
     "slide_type": "slide"
    }
   },
   "source": [
    "```haskell\n",
    "-- ESTO NO ES CODIGO HASKELL VALIDO!!!\n",
    "x = 3\n",
    "7 + x   -- 10\n",
    "x = 5\n",
    "7 + x   -- 12\n",
    "```"
   ]
  },
  {
   "cell_type": "markdown",
   "metadata": {
    "slideshow": {
     "slide_type": "skip"
    }
   },
   "source": [
    "OOOOOOOOhhhhhh pero no con Haskell, no, no, no! Una vez se le ha indicado a Haskell que `x` significa `3`, el `3` se mantendrá para siempre!\n"
   ]
  },
  {
   "cell_type": "markdown",
   "metadata": {
    "slideshow": {
     "slide_type": "skip"
    }
   },
   "source": [
    "En términos técnicos: "
   ]
  },
  {
   "cell_type": "markdown",
   "metadata": {
    "slideshow": {
     "slide_type": "slide"
    }
   },
   "source": [
    "Las variables en Haskell son **inmutables.**"
   ]
  },
  {
   "cell_type": "markdown",
   "metadata": {
    "slideshow": {
     "slide_type": "notes"
    }
   },
   "source": [
    "En Haskell el concepto de variable es diferente. Haskell tiene variables, pero en un sentido matemático. En el sentido de cuando decimos: "
   ]
  },
  {
   "cell_type": "markdown",
   "metadata": {
    "slideshow": {
     "slide_type": "fragment"
    }
   },
   "source": [
    "```Haskell\n",
    "x = 3\n",
    "pais = \"Paris\"\n",
    "letra = 'a'\n",
    "esVerdadero = True\n",
    "```"
   ]
  },
  {
   "cell_type": "markdown",
   "metadata": {
    "slideshow": {
     "slide_type": "fragment"
    }
   },
   "source": [
    "Estamos estableciendo que los términos a la izquierda del signo `=` son **intercambiables** con los términos a la derecha. "
   ]
  },
  {
   "cell_type": "markdown",
   "metadata": {
    "slideshow": {
     "slide_type": "slide"
    }
   },
   "source": [
    "Y esto también aplica a los parámetros de la función:"
   ]
  },
  {
   "cell_type": "code",
   "execution_count": null,
   "metadata": {
    "slideshow": {
     "slide_type": "fragment"
    }
   },
   "outputs": [],
   "source": [
    "volumenCilindro r h = pi * r^2 * h "
   ]
  },
  {
   "cell_type": "markdown",
   "metadata": {
    "slideshow": {
     "slide_type": "skip"
    }
   },
   "source": [
    "En este caso, una vez que le pasamos los valores a los parámetros de `volumenCilindro`, no podemos cambiarlos en el cuerpo de la función. Podemos utilizar la función nuevamente y pasarle parámetros diferentes, pero no los podemos *cambiar* una vez que los hemos pasado."
   ]
  },
  {
   "cell_type": "markdown",
   "metadata": {
    "slideshow": {
     "slide_type": "slide"
    }
   },
   "source": [
    "## Notación Prefija e Infija"
   ]
  },
  {
   "cell_type": "markdown",
   "metadata": {
    "slideshow": {
     "slide_type": "skip"
    }
   },
   "source": [
    "Las funciones pueden ser aplicadas (utilizadas) en dos notaciones diferentes: prefija e infija."
   ]
  },
  {
   "cell_type": "markdown",
   "metadata": {
    "slideshow": {
     "slide_type": "slide"
    }
   },
   "source": [
    "### Prefija"
   ]
  },
  {
   "cell_type": "markdown",
   "metadata": {
    "slideshow": {
     "slide_type": "skip"
    }
   },
   "source": [
    "Observemos la siguiente expresión: "
   ]
  },
  {
   "cell_type": "code",
   "execution_count": null,
   "metadata": {
    "slideshow": {
     "slide_type": "fragment"
    }
   },
   "outputs": [],
   "source": [
    "prod x y = x * y\n",
    "prod 4  5"
   ]
  },
  {
   "cell_type": "markdown",
   "metadata": {
    "slideshow": {
     "slide_type": "fragment"
    }
   },
   "source": [
    "`prod` es utilizada en **forma prefija**, o sea **antes de sus argumentos**. "
   ]
  },
  {
   "cell_type": "markdown",
   "metadata": {
    "slideshow": {
     "slide_type": "slide"
    }
   },
   "source": [
    "### Infija\n"
   ]
  },
  {
   "cell_type": "markdown",
   "metadata": {
    "slideshow": {
     "slide_type": "skip"
    }
   },
   "source": [
    "Observemos la siguiente expresión: "
   ]
  },
  {
   "cell_type": "code",
   "execution_count": null,
   "metadata": {
    "slideshow": {
     "slide_type": "fragment"
    }
   },
   "outputs": [],
   "source": [
    "1 + 2"
   ]
  },
  {
   "cell_type": "markdown",
   "metadata": {
    "slideshow": {
     "slide_type": "fragment"
    }
   },
   "source": [
    "`+` es de hecho una función! Y está siendo utilizada en su **forma infija**, o sea **entre sus argumentos**."
   ]
  },
  {
   "cell_type": "markdown",
   "metadata": {
    "slideshow": {
     "slide_type": "skip"
    }
   },
   "source": [
    "Las funciones definidas para una forma de aplicación infija son llamadas **operadores.**"
   ]
  },
  {
   "cell_type": "markdown",
   "metadata": {
    "slideshow": {
     "slide_type": "skip"
    }
   },
   "source": [
    "Y como sabemos si una función es infija o prefija? Bueno..."
   ]
  },
  {
   "cell_type": "markdown",
   "metadata": {
    "slideshow": {
     "slide_type": "slide"
    }
   },
   "source": [
    "Las funciones definidas **solamente con símbolos** serán automáticamente consideradas como **funciones infijas**, sino serán funciones prefijas."
   ]
  },
  {
   "cell_type": "markdown",
   "metadata": {
    "slideshow": {
     "slide_type": "skip"
    }
   },
   "source": [
    "De todas formas una función infija puede ser utilizada en su forma prefija y visceversa."
   ]
  },
  {
   "cell_type": "markdown",
   "metadata": {
    "slideshow": {
     "slide_type": "slide"
    }
   },
   "source": [
    "### Infija a Prefija y visceversa"
   ]
  },
  {
   "cell_type": "markdown",
   "metadata": {
    "slideshow": {
     "slide_type": "skip"
    }
   },
   "source": [
    "Utilizaremos paréntesis en torno a una función infija para utilizarla en forma prefija: "
   ]
  },
  {
   "cell_type": "code",
   "execution_count": null,
   "metadata": {
    "slideshow": {
     "slide_type": "fragment"
    }
   },
   "outputs": [],
   "source": [
    "(+) 1 2"
   ]
  },
  {
   "cell_type": "markdown",
   "metadata": {},
   "source": [
    "Para chequear el tipo de una función infija, también debemos rodearla con paréntesis:"
   ]
  },
  {
   "cell_type": "code",
   "execution_count": null,
   "metadata": {},
   "outputs": [],
   "source": [
    ":t (+)"
   ]
  },
  {
   "cell_type": "markdown",
   "metadata": {},
   "source": [
    "<div class=\"alert alert-block alert-info\">\n",
    "Estoy seguro que habrás notado que el tipo en la firma de `+` luce diferente a otros previos. Esto se debe a que utiliza tipos polimórficos y tipos de clases. Estudiaremos los tipos polimórficos en el día de hoy y tipos de clasees en lecciones futuras. Por ahora, no te preocupes demasiado.\n",
    "</div>"
   ]
  },
  {
   "cell_type": "markdown",
   "metadata": {
    "slideshow": {
     "slide_type": "skip"
    }
   },
   "source": [
    "Utilizamos el tilde invertido \\` rodeando una función prefija para utilizarla como infija:"
   ]
  },
  {
   "cell_type": "code",
   "execution_count": null,
   "metadata": {
    "slideshow": {
     "slide_type": "fragment"
    }
   },
   "outputs": [],
   "source": [
    "4 `prod` 5"
   ]
  },
  {
   "cell_type": "markdown",
   "metadata": {
    "slideshow": {
     "slide_type": "slide"
    }
   },
   "source": [
    "## Tipos de datos comunes"
   ]
  },
  {
   "cell_type": "markdown",
   "metadata": {
    "slideshow": {
     "slide_type": "slide"
    }
   },
   "source": [
    "\n",
    "### Tipos de datos Enteros: `Int` y `Integer`\n"
   ]
  },
  {
   "cell_type": "markdown",
   "metadata": {
    "slideshow": {
     "slide_type": "fragment"
    }
   },
   "source": [
    "- `Integer` es un tipo con precisión arbitraria: podrá contener cualquier entero -sin importar cuan grande sea- hasta el límite de la memoria de la máquina."
   ]
  },
  {
   "cell_type": "markdown",
   "metadata": {
    "slideshow": {
     "slide_type": "skip"
    }
   },
   "source": [
    "Esto significa que nunca tendrás desbordamientos (overflows) aritméticos, pero eso también implica que la aritmética es relativamente lenta."
   ]
  },
  {
   "cell_type": "markdown",
   "metadata": {
    "slideshow": {
     "slide_type": "fragment"
    }
   },
   "source": [
    "- En cambio los valores de tipo `Int`, encuentran acotados en el rango $±2^{63}$ *(para CPUs de 64-bit)*."
   ]
  },
  {
   "cell_type": "markdown",
   "metadata": {
    "slideshow": {
     "slide_type": "skip"
    }
   },
   "source": [
    "Esto limita los valores que `Int` puede contener, pero lo hace más eficiente."
   ]
  },
  {
   "cell_type": "markdown",
   "metadata": {
    "slideshow": {
     "slide_type": "skip"
    }
   },
   "source": [
    "Veamos esto en la práctica:"
   ]
  },
  {
   "cell_type": "code",
   "execution_count": null,
   "metadata": {
    "slideshow": {
     "slide_type": "slide"
    }
   },
   "outputs": [],
   "source": [
    "2^62 :: Int -- Todo bien"
   ]
  },
  {
   "cell_type": "code",
   "execution_count": null,
   "metadata": {
    "slideshow": {
     "slide_type": "fragment"
    }
   },
   "outputs": [],
   "source": [
    "2^64 :: Int -- Oh no!"
   ]
  },
  {
   "cell_type": "code",
   "execution_count": null,
   "metadata": {
    "slideshow": {
     "slide_type": "fragment"
    }
   },
   "outputs": [],
   "source": [
    "2^127 :: Integer -- Todo bien nuevamente"
   ]
  },
  {
   "cell_type": "markdown",
   "metadata": {
    "slideshow": {
     "slide_type": "skip"
    }
   },
   "source": [
    "Pero y que pasa con los números reales? Números con lugares decimales?. Para ello tenemos `Float` y `Double`."
   ]
  },
  {
   "cell_type": "markdown",
   "metadata": {
    "slideshow": {
     "slide_type": "slide"
    }
   },
   "source": [
    "### Tipos de número con punto flotante: `Float` y ` Double`"
   ]
  },
  {
   "cell_type": "markdown",
   "metadata": {
    "slideshow": {
     "slide_type": "fragment"
    }
   },
   "source": [
    "`Float` es un tipo real de punto flotante con precisión simple (32 bits), mientras `Double` es un tipo real de punto flotante con precisión doble (64 bits)."
   ]
  },
  {
   "cell_type": "markdown",
   "metadata": {
    "slideshow": {
     "slide_type": "skip"
    }
   },
   "source": [
    "Veamos que ocurre si queremos mostrar los primeros 20 dígitos de pi (π) en ambos casos: "
   ]
  },
  {
   "cell_type": "code",
   "execution_count": null,
   "metadata": {
    "scrolled": true,
    "slideshow": {
     "slide_type": "fragment"
    }
   },
   "outputs": [],
   "source": [
    "3.14159265358979323846 :: Float\n",
    "\n",
    "3.14159265358979323846 :: Double"
   ]
  },
  {
   "cell_type": "markdown",
   "metadata": {
    "slideshow": {
     "slide_type": "skip"
    }
   },
   "source": [
    "Puedes decir que `Double` es muuuuucho más preciso que `Float`."
   ]
  },
  {
   "cell_type": "markdown",
   "metadata": {
    "slideshow": {
     "slide_type": "skip"
    }
   },
   "source": [
    "Teóricamente, las razones para utilizar un tipo u otro son de alguna forma análogas a los casos `Int` y `Integer`.\n",
    "`Double` tiene doble precisión, pero consume más memoria ya que utiliza el doble de bits para representar los números. \n",
    "\n",
    "PERO!"
   ]
  },
  {
   "cell_type": "markdown",
   "metadata": {
    "slideshow": {
     "slide_type": "skip"
    }
   },
   "source": [
    "Recomendación basada en usos reales:\n",
    "\n",
    "- **Aunque no te importen especialmente los valores exactos, utiliza `Double.`** En las computadoras modernas, rara vez hay una desventaja respecto a la velocidad, y con `Double`, tienes mucha menos probabilidad de pegarte un tiro en el pie por errores de redondeo."
   ]
  },
  {
   "cell_type": "markdown",
   "metadata": {
    "slideshow": {
     "slide_type": "skip"
    }
   },
   "source": [
    "- Si te encuentras en una configuración en la cual **las cantidades exactas son críticas** (p.ej: finanzas y contabilidad), una buena idea puede ser **utiliza los tipos de datos `Rational` o `Decimal`**. Estos tipos evitan por completo los errores de redondeo. Los veremos en futuras lecciones."
   ]
  },
  {
   "cell_type": "markdown",
   "metadata": {
    "slideshow": {
     "slide_type": "slide"
    }
   },
   "source": [
    "### Tipo de datos Booleano `Bool`\n",
    "\n"
   ]
  },
  {
   "cell_type": "markdown",
   "metadata": {
    "slideshow": {
     "slide_type": "fragment"
    }
   },
   "source": [
    "El tipo de datos `Bool` contiene únicamente dos valores: `True` y `False`."
   ]
  },
  {
   "cell_type": "markdown",
   "metadata": {
    "slideshow": {
     "slide_type": "slide"
    }
   },
   "source": [
    "Números, caracteres y cadenas de caracteres pueden ser comparados utilizando los usuales **operadores de comparación** para producir un valor `Bool`: $$==,~~/=,~~<=,~~>=,~~<,~~>$$"
   ]
  },
  {
   "cell_type": "code",
   "execution_count": null,
   "metadata": {
    "slideshow": {
     "slide_type": "fragment"
    }
   },
   "outputs": [],
   "source": [
    "\n",
    "5 /= 0 -- True\n",
    "\n",
    "3 >= 0 -- True\n",
    "\n",
    "7.2 < 6.1 -- False\n",
    "\n",
    "pi > 3.14 -- True"
   ]
  },
  {
   "cell_type": "markdown",
   "metadata": {
    "slideshow": {
     "slide_type": "slide"
    }
   },
   "source": [
    "También tenemos los operadores `&&` (**AND**) y `||` (**OR**) que nos permiten la combinación de valores:"
   ]
  },
  {
   "cell_type": "markdown",
   "metadata": {
    "slideshow": {
     "slide_type": "notes"
    }
   },
   "source": [
    "- El operador `&&` (AND) returna `True` si ambos booleanos a su izquierda y derecha son `True`.\n",
    "- El operador `||` (OR) returna `True` si alguno de ellos es `True`."
   ]
  },
  {
   "cell_type": "code",
   "execution_count": null,
   "metadata": {
    "slideshow": {
     "slide_type": "fragment"
    }
   },
   "outputs": [],
   "source": [
    ":t (&&)\n",
    ":t (||)\n",
    "\n",
    "True && False\n",
    "True || False"
   ]
  },
  {
   "cell_type": "markdown",
   "metadata": {
    "slideshow": {
     "slide_type": "slide"
    }
   },
   "source": [
    "### Tipo de datos Carácter  `Char`"
   ]
  },
  {
   "cell_type": "markdown",
   "metadata": {
    "slideshow": {
     "slide_type": "fragment"
    }
   },
   "source": [
    "`Char` es el tipo que usamos para representar un caráctere *Unicode*"
   ]
  },
  {
   "cell_type": "markdown",
   "metadata": {
    "slideshow": {
     "slide_type": "notes"
    }
   },
   "source": [
    "<div class=\"alert alert-block alert-info\">\n",
    "<p>\n",
    "El estándar Unicode (Unicode) es un conjunto de reglas que imponen una forma de tratar y expresar texto. Esto es necesario debido a que las computadoras piensan en números (ceros y unos), y debemos decidir colectivamente que números representan que caracteres.\n",
    "</p>\n",
    "<p>\n",
    "Actualmente es un poco complicado (ver: <a href=\"https://en.wikipedia.org/wiki/Character_encoding\">Character encoding</a>). Pero para nuestro propósito, sólo nos interesa saber que podemos utilizar casi cualquier símbolo que alguna vez necesitaremos utilizando caracteres Unicode. Letras, números y más 140K símbolos.\n",
    "</p>\n",
    "</div>"
   ]
  },
  {
   "cell_type": "markdown",
   "metadata": {
    "slideshow": {
     "slide_type": "notes"
    }
   },
   "source": [
    "Escribimos valores del tipo Char (caracteres Unicode) entre tildes simples. Así: "
   ]
  },
  {
   "cell_type": "code",
   "execution_count": null,
   "metadata": {
    "slideshow": {
     "slide_type": "fragment"
    }
   },
   "outputs": [],
   "source": [
    "'a'\n",
    "'@'\n",
    "'7'"
   ]
  },
  {
   "cell_type": "markdown",
   "metadata": {
    "slideshow": {
     "slide_type": "notes"
    }
   },
   "source": [
    "Notar que si tu escribes un número rodeado de tildes simpoles (como en la última expresión), Haskell no lo tratará como un número. Lo tratará como cualquier otro carácter. O sea no se puede realizar matemática con `'7'` (con tildes simples), pero sí se puede con `7` (sin tildes simples)."
   ]
  },
  {
   "cell_type": "markdown",
   "metadata": {
    "slideshow": {
     "slide_type": "fragment"
    }
   },
   "source": [
    "<div class=\"alert alert-block alert-warning\">\n",
    "Importante: Puedes escribir caracteres simples uno por vez! Algo como <code>'hi'</code> no es un <code>Char</code>valido! \n",
    "</div>"
   ]
  },
  {
   "cell_type": "markdown",
   "metadata": {
    "slideshow": {
     "slide_type": "notes"
    }
   },
   "source": [
    "Entonces, como puedes escribir oraciones enteras? Ya te lo diré, pero antes de eso debes aprender acerca de listas."
   ]
  },
  {
   "cell_type": "markdown",
   "metadata": {
    "slideshow": {
     "slide_type": "slide"
    }
   },
   "source": [
    "### Listas"
   ]
  },
  {
   "cell_type": "markdown",
   "metadata": {
    "slideshow": {
     "slide_type": "fragment"
    }
   },
   "source": [
    "En Haskell, **las listas son una estructura de datos homogénea**"
   ]
  },
  {
   "cell_type": "markdown",
   "metadata": {
    "slideshow": {
     "slide_type": "notes"
    }
   },
   "source": [
    "Esta simplemente es una forma elegante de decir que las listas almacenan elementos del mismo tipo. O sea, podemos tener un lista de `Int` o una lista de `Char`, pero no una lista de una mezcla de ellos."
   ]
  },
  {
   "cell_type": "markdown",
   "metadata": {
    "slideshow": {
     "slide_type": "notes"
    }
   },
   "source": [
    "* Las listas se indican mediante paréntesis rectos `[1,5,3,-4,0]` y los valores dentro de las listas  **se separan con comas**."
   ]
  },
  {
   "cell_type": "markdown",
   "metadata": {
    "slideshow": {
     "slide_type": "notes"
    }
   },
   "source": [
    "* El tipo de una lista se expresa como el tipo de los elementos que la misma contiene, redeados de corchetes rectos. Una lista de tipo `[Int]` contiene números de tipo `Int`. Una lista de tipo `[Char]` contiene elementos de tipo `Char`."
   ]
  },
  {
   "cell_type": "code",
   "execution_count": null,
   "metadata": {
    "slideshow": {
     "slide_type": "fragment"
    }
   },
   "outputs": [],
   "source": [
    ":t ['a', 'b', 'c', 'd']\n",
    "\n",
    ":t [True,False, 3 > 2, 'a' == 'b']"
   ]
  },
  {
   "cell_type": "markdown",
   "metadata": {
    "slideshow": {
     "slide_type": "slide"
    }
   },
   "source": [
    "### Strings"
   ]
  },
  {
   "cell_type": "markdown",
   "metadata": {
    "slideshow": {
     "slide_type": "fragment"
    }
   },
   "source": [
    "**Strings respresenta lista de caracteres.** Puedes utilizar el tipo `String` para escribir mensajes, valores alfanuméricos, símbolos, etc. A diferencia de `Char`s, los `String`s deben ser escritos entre **tildes dobles** así:"
   ]
  },
  {
   "cell_type": "code",
   "execution_count": null,
   "metadata": {
    "slideshow": {
     "slide_type": "fragment"
    }
   },
   "outputs": [],
   "source": [
    "\"Hellooooooo!\""
   ]
  },
  {
   "cell_type": "markdown",
   "metadata": {
    "slideshow": {
     "slide_type": "notes"
    }
   },
   "source": [
    "Lo cual siginifica que los siguientes dos valores son lo mismo!:"
   ]
  },
  {
   "cell_type": "code",
   "execution_count": null,
   "metadata": {
    "slideshow": {
     "slide_type": "fragment"
    }
   },
   "outputs": [],
   "source": [
    "['H','i','!'] == \"Hi!\""
   ]
  },
  {
   "cell_type": "markdown",
   "metadata": {
    "slideshow": {
     "slide_type": "notes"
    }
   },
   "source": [
    "Y también que `String` y `[Char]` son el mismo tipo! Más específicamente, `String` es azúcar sintáctico (sintaxis diseñada para facilitar la lectura y expresión) para `[Char]`! Por lo tanto pueden ser utilizados indistintamente!"
   ]
  },
  {
   "cell_type": "markdown",
   "metadata": {
    "slideshow": {
     "slide_type": "notes"
    }
   },
   "source": [
    "Lo que no es intercambiable en Haskell son los tildes simples con los dobles. `String` (escrito entre tildes dobles) son listas de `Char` (escrito entre tildes simples). No son lo mismo!:"
   ]
  },
  {
   "cell_type": "code",
   "execution_count": null,
   "metadata": {
    "slideshow": {
     "slide_type": "fragment"
    }
   },
   "outputs": [],
   "source": [
    ":t \"A\"\n",
    ":t 'A'"
   ]
  },
  {
   "cell_type": "markdown",
   "metadata": {
    "slideshow": {
     "slide_type": "notes"
    }
   },
   "source": [
    "Todo codificador sabe que las listas son extremadamente útiles. Pero y si queremos colocar juntos valores de tipos diferentes? Ahí es cuando las tuples son útiles!"
   ]
  },
  {
   "cell_type": "markdown",
   "metadata": {
    "slideshow": {
     "slide_type": "slide"
    }
   },
   "source": [
    "### Tuplas"
   ]
  },
  {
   "cell_type": "markdown",
   "metadata": {
    "slideshow": {
     "slide_type": "fragment"
    }
   },
   "source": [
    "Las Tuplas son estructuras utilizadas para almacenar **elementos heterogéneos** como un solo valor."
   ]
  },
  {
   "cell_type": "markdown",
   "metadata": {
    "slideshow": {
     "slide_type": "notes"
    }
   },
   "source": [
    "Representamos las tuplas comenzando con un paréntesis de apertura, escribiendo todos los elementos separadso por una coma y finalizamos con un paréntesis de cierre. Este es un ejemplo de una tupla con 3 elementos:"
   ]
  },
  {
   "cell_type": "code",
   "execution_count": null,
   "metadata": {
    "slideshow": {
     "slide_type": "fragment"
    }
   },
   "outputs": [],
   "source": [
    "('a', 3, True)"
   ]
  },
  {
   "cell_type": "markdown",
   "metadata": {
    "slideshow": {
     "slide_type": "slide"
    }
   },
   "source": [
    "Se parecen mucho a las listas, pero son hay dos diferencias esenciales: "
   ]
  },
  {
   "cell_type": "markdown",
   "metadata": {
    "slideshow": {
     "slide_type": "fragment"
    }
   },
   "source": [
    "* **Las tuplas pueden almacenar elementos de tipos diferentes:** como puedes ver en el ejemplo previo, las tuplas pueden almacenar elementos de diferentes tipos, mientras que las listas no."
   ]
  },
  {
   "cell_type": "markdown",
   "metadata": {
    "slideshow": {
     "slide_type": "fragment"
    }
   },
   "source": [
    "* **Las tuplas tienen un tamaño fijo:**. Tu puedes incrementar el tamaño de una lista mediante la concatenación o de otras formas, pero el tamaño de una tupla no puede ser incrementado o disminuído. Una vez se ha indicado que una tupla tiene N elementos, permanece siempre teniendo N elementos."
   ]
  },
  {
   "cell_type": "markdown",
   "metadata": {
    "slideshow": {
     "slide_type": "notes"
    }
   },
   "source": [
    "**Y estas diferencias esenciales se reflejan en el tipo de las tuplas**"
   ]
  },
  {
   "cell_type": "markdown",
   "metadata": {
    "slideshow": {
     "slide_type": "notes"
    }
   },
   "source": [
    "El tipo tupla depende de: \n",
    "- El tipo de sus elementos\n",
    "- El orden de los elementos\n",
    "- La cantidad de elementos"
   ]
  },
  {
   "cell_type": "markdown",
   "metadata": {
    "slideshow": {
     "slide_type": "slide"
    }
   },
   "source": [
    "Por ejemplo:"
   ]
  },
  {
   "cell_type": "code",
   "execution_count": null,
   "metadata": {
    "slideshow": {
     "slide_type": "fragment"
    }
   },
   "outputs": [],
   "source": [
    ":t ('a', True)\n",
    "\n",
    ":t (True, 'a')\n",
    "\n",
    ":t (True, 'a', 'b')\n",
    "\n",
    ":t (True)"
   ]
  },
  {
   "cell_type": "markdown",
   "metadata": {
    "slideshow": {
     "slide_type": "notes"
    }
   },
   "source": [
    "Como puedes ver `('a', True) :: (Char, Bool)`, `(True, 'a') :: (Bool, Char)`, y `('a', True, True) :: (Char, Bool, Bool)` todos tiene diferentes tipos. En lo que respecta al compilador, esas tres tuplas son tan diferentes entre ellas como lo son `Float` y `Char`.\n",
    "\n",
    "Te has dado cuenta que si tratas de crear una tupla con un solo elemneto, GHCi retorna solamente el elemento? (Ver las últimas dos expresiones del bloque de código anterior). Esto se debe a que no hay tuplas de un solo elmento! Tener una tupla de un solo elemento no aportaría ningún valor extra. Por lo tanto, Haskell ignora la tupla y evalúa sólo el elemento."
   ]
  },
  {
   "cell_type": "markdown",
   "metadata": {
    "slideshow": {
     "slide_type": "slide"
    }
   },
   "source": [
    "## Valores Polimórficos y variables de Tipo"
   ]
  },
  {
   "cell_type": "markdown",
   "metadata": {
    "slideshow": {
     "slide_type": "notes"
    }
   },
   "source": [
    "Lo grandeza de los tipos es que nos protegen de nosotros mismos! Si decimos que una función toma como tipo de entrada `[Char]`, Haskell chequeará que cumplamos con dicho requerimiento cada vez que usemos dicha función. Si le pasamos un `Double` el compilador nos gritará para que corrijamos el error!"
   ]
  },
  {
   "cell_type": "markdown",
   "metadata": {
    "slideshow": {
     "slide_type": "notes"
    }
   },
   "source": [
    "Pero ahora tenemos un problema! Imagina que creamos la función `prod`:"
   ]
  },
  {
   "cell_type": "code",
   "execution_count": null,
   "metadata": {
    "slideshow": {
     "slide_type": "fragment"
    }
   },
   "outputs": [],
   "source": [
    "prod :: Int -> Int -> Int\n",
    "prod x y = x * y"
   ]
  },
  {
   "cell_type": "markdown",
   "metadata": {
    "slideshow": {
     "slide_type": "notes"
    }
   },
   "source": [
    "La misma funciona perfectamente para valores de tipo `Int`. ¿Pero que pasa si la precisamos para valores de tipo `Double`? Sabemos que funcionará debido a siguen siendo números y la fórmula proveerá la respuesta correcta."
   ]
  },
  {
   "cell_type": "markdown",
   "metadata": {
    "slideshow": {
     "slide_type": "notes"
    }
   },
   "source": [
    "*Podríamos* crear una nueva función que haga lo mismo pero especificando un tipo diferente:"
   ]
  },
  {
   "cell_type": "code",
   "execution_count": null,
   "metadata": {
    "slideshow": {
     "slide_type": "fragment"
    }
   },
   "outputs": [],
   "source": [
    "prodForDubles :: Double -> Double -> Double\n",
    "prodForDoubles x y = x * y"
   ]
  },
  {
   "cell_type": "markdown",
   "metadata": {
    "slideshow": {
     "slide_type": "notes"
    }
   },
   "source": [
    "Técnicamente funciona. Pero y que pasa con los tipos `Float`y `Integer`? Si tenemos que duplicar las funciones para cada caso, eso se vuelve rápidamente insostenible!\n",
    "\n",
    "**Tipos Polimórficos al rescate!**"
   ]
  },
  {
   "cell_type": "markdown",
   "metadata": {
    "slideshow": {
     "slide_type": "slide"
    }
   },
   "source": [
    "Polimórfico significa que algo tiene muchas formas. Y **un valor polimórfico es un valor que puede tener múltiples tipos** (Por ejemplo, `4` puede ser `Int`, `Integer`, `Float`, ...)"
   ]
  },
  {
   "cell_type": "markdown",
   "metadata": {
    "slideshow": {
     "slide_type": "notes"
    }
   },
   "source": [
    "Por ejemplo, imagina que queremos crear una función que toma una tupla con dos valores (también llamada par) y retorna el primer valor. Como esto: "
   ]
  },
  {
   "cell_type": "code",
   "execution_count": null,
   "metadata": {
    "slideshow": {
     "slide_type": "fragment"
    }
   },
   "outputs": [],
   "source": [
    "first (x,y) = x"
   ]
  },
  {
   "cell_type": "markdown",
   "metadata": {
    "slideshow": {
     "slide_type": "notes"
    }
   },
   "source": [
    "¿Que tipo debe tener? No me preocupan particularmente los tipos de los elementos, ya que no hacemos nada con ellos! No hago operaciones aritméticas, manipulación de texto o alguna otra cosa! Es más, solamente retorno el primer elemento y listo!"
   ]
  },
  {
   "cell_type": "markdown",
   "metadata": {
    "slideshow": {
     "slide_type": "notes"
    }
   },
   "source": [
    "En estos casos, especificamos una firma con variables de Tipo!"
   ]
  },
  {
   "cell_type": "code",
   "execution_count": null,
   "metadata": {
    "slideshow": {
     "slide_type": "fragment"
    }
   },
   "outputs": [],
   "source": [
    "first :: (a, b) -> a\n",
    "first (x,y) = x\n",
    "\n",
    "first ('a', \"hi!\")"
   ]
  },
  {
   "cell_type": "markdown",
   "metadata": {
    "slideshow": {
     "slide_type": "fragment"
    }
   },
   "source": [
    "Esta firma se le de la siguiente forma: \"La función `first` recibe un par de tipo (a,b) y retorna un valor del tipo `a`.\""
   ]
  },
  {
   "cell_type": "markdown",
   "metadata": {
    "slideshow": {
     "slide_type": "notes"
    }
   },
   "source": [
    "<div class=\"alert alert-block alert-warning\">\n",
    "<b>Importante:</b> Tipos específicos (p.ej., <code>Char</code>, <code>Bool</code>, <code>Int</code>) comienzan con mayúsculas. Pero los tipos polimórficos comienzan con minúsculas. Podemos utilizar nombres largos para los tipos polimórficos, pero lo usual es utilizar una letra.(p.ej., <code>a</code>, <code>b</code>, <code>c</code>).\n",
    "</div>"
   ]
  },
  {
   "cell_type": "markdown",
   "metadata": {
    "slideshow": {
     "slide_type": "notes"
    }
   },
   "source": [
    "Esta función \"`first`\" que hemos creado actualemente ya viene con Haskell, pero su nombre es `fst`! Y viene con su contraparte `snd`!:"
   ]
  },
  {
   "cell_type": "code",
   "execution_count": null,
   "metadata": {
    "slideshow": {
     "slide_type": "slide"
    }
   },
   "outputs": [],
   "source": [
    ":t fst\n",
    ":t snd\n",
    "\n",
    "fst (1,2)\n",
    "snd (1,2)"
   ]
  },
  {
   "cell_type": "markdown",
   "metadata": {
    "slideshow": {
     "slide_type": "notes"
    }
   },
   "source": [
    "`a` y `b` son variables de tipo, lo que significa que pueden ser de cualquier tipos. Independientemente del tipo, el valor retornado por `first` tiene que ser del mismo tipo que el primer elemento del par (ya que los dos son de tipo `a`).\n",
    "\n",
    "Al utilizar variables de tipo, podemos utilizar la función `first` con pares de cualquier tipo (valores polimórficos)!\n",
    "\n",
    "Observa que `a` y `b` ambos PUEDEN ser de cualquier tipo Y de tipos diferentes. Pero no TIENEN que serlo. Puedes utilizar `first` en una tupla con valores del mismo tipo: `('a','b') :: (Char, Char)`."
   ]
  },
  {
   "cell_type": "markdown",
   "metadata": {
    "slideshow": {
     "slide_type": "slide"
    }
   },
   "source": [
    "Otro ejemplo de funciones polimórficas son las funciones `head` y `tail`."
   ]
  },
  {
   "cell_type": "markdown",
   "metadata": {
    "slideshow": {
     "slide_type": "notes"
    }
   },
   "source": [
    "Puedes utilizar `head` para obtener el primer elemento de una lista y `tail` para obtener todos los elementos de una lista *excepto* el primero."
   ]
  },
  {
   "cell_type": "code",
   "execution_count": null,
   "metadata": {
    "slideshow": {
     "slide_type": "fragment"
    }
   },
   "outputs": [],
   "source": [
    "list = [1,2,3,4]\n",
    "list\n",
    "\n",
    ":t head\n",
    "head list\n",
    "\n",
    ":t tail\n",
    "tail list"
   ]
  },
  {
   "cell_type": "markdown",
   "metadata": {
    "slideshow": {
     "slide_type": "notes"
    }
   },
   "source": [
    "No nos importan los tipos específicos. Estamos simplemente extrayendo un elemento. Entonces, el parámetro es una lista polimórfica (una lista de cualquier tipo, llamémosla `[a]`). El resultado tiene que ser un elemento del mismo tipo que los elementos de la lista. Por ese motivo tiene que ser `a`."
   ]
  },
  {
   "cell_type": "markdown",
   "metadata": {
    "slideshow": {
     "slide_type": "notes"
    }
   },
   "source": [
    "Ahora que nos hemos familiarizado con todos esetos tipos, tengamos un poco de diversión con listas! (Dejaremos la diversión con tuplas una vez que estudiemos concordancia de patrones (pattern matching). De esa forma será más divertido.)"
   ]
  },
  {
   "cell_type": "markdown",
   "metadata": {
    "slideshow": {
     "slide_type": "slide"
    }
   },
   "source": [
    "## Diversión con listas!"
   ]
  },
  {
   "cell_type": "markdown",
   "metadata": {
    "slideshow": {
     "slide_type": "notes"
    }
   },
   "source": [
    " Cada elemento tiene un índice determinado por su posición en la lista - comenzando en 0 (cero)."
   ]
  },
  {
   "cell_type": "markdown",
   "metadata": {
    "slideshow": {
     "slide_type": "slide"
    }
   },
   "source": [
    "Utilizaremos el operador `!!` para acceder a un elemento específico adentro de la lista utiliando su índice:"
   ]
  },
  {
   "cell_type": "code",
   "execution_count": null,
   "metadata": {
    "slideshow": {
     "slide_type": "fragment"
    }
   },
   "outputs": [],
   "source": [
    ":t (!!)\n",
    "\"abc\" !! 1         \n",
    "[12,13,16,18] !! 3 "
   ]
  },
  {
   "cell_type": "markdown",
   "metadata": {
    "slideshow": {
     "slide_type": "fragment"
    }
   },
   "source": [
    "Las tuplas no tienen índices, o sea que no es posible extraer elementos de una tupla de esa forma. Pero podemos utilizar `fst` y `snd` para pares y concordancia de patrones para tuplas con más elementos. (Ver lección concordancia de patrones.)"
   ]
  },
  {
   "cell_type": "markdown",
   "metadata": {
    "slideshow": {
     "slide_type": "notes"
    }
   },
   "source": [
    "Las listas pueden ser definidas por un rango: "
   ]
  },
  {
   "cell_type": "code",
   "execution_count": null,
   "metadata": {
    "slideshow": {
     "slide_type": "slide"
    }
   },
   "outputs": [],
   "source": [
    "[3..22]"
   ]
  },
  {
   "cell_type": "markdown",
   "metadata": {
    "slideshow": {
     "slide_type": "notes"
    }
   },
   "source": [
    "También podemos especificar el paso de incremento entre los elementos del rango:"
   ]
  },
  {
   "cell_type": "code",
   "execution_count": null,
   "metadata": {
    "slideshow": {
     "slide_type": "fragment"
    }
   },
   "outputs": [],
   "source": [
    "[3,5..22]\n",
    "['a','c'..'z']"
   ]
  },
  {
   "cell_type": "markdown",
   "metadata": {
    "slideshow": {
     "slide_type": "notes"
    }
   },
   "source": [
    "El resultado de la primer expresión contendrá todos los elementos comenzando en `3` con un paso `2=5-3` que no exceden el `22` (si el último elemento no se ajusa al patrón del paso definido, será omitido del resultado final).\n",
    "\n",
    "El resultado de la segunda expresión contendrá todas las minúsculas del alfabeto, excepto la `b`.\n",
    "\n",
    "Es importante destacar que sólo es posible especificar un tamaño de paso!"
   ]
  },
  {
   "cell_type": "markdown",
   "metadata": {
    "slideshow": {
     "slide_type": "notes"
    }
   },
   "source": [
    "Si el incremento es negativo, los elementos serán en orden decreciente:"
   ]
  },
  {
   "cell_type": "code",
   "execution_count": null,
   "metadata": {
    "slideshow": {
     "slide_type": "fragment"
    }
   },
   "outputs": [],
   "source": [
    "[17,14..3]"
   ]
  },
  {
   "cell_type": "markdown",
   "metadata": {
    "slideshow": {
     "slide_type": "notes"
    }
   },
   "source": [
    "También puedes utilizar rangos para crear listas infinitas, simplemente no indicando el límite superior."
   ]
  },
  {
   "cell_type": "markdown",
   "metadata": {
    "slideshow": {
     "slide_type": "slide"
    }
   },
   "source": [
    "* `[1..]` is the infinite list $[1,2,3,4,5,...]$.\n",
    "\n"
   ]
  },
  {
   "cell_type": "markdown",
   "metadata": {
    "slideshow": {
     "slide_type": "fragment"
    }
   },
   "source": [
    "* `[1,3..]` is the infinite list $[1,3,5,7,9,...]$. "
   ]
  },
  {
   "cell_type": "markdown",
   "metadata": {
    "slideshow": {
     "slide_type": "notes"
    }
   },
   "source": [
    "Ahora, si simplemente evaluamos la lista por si misma, el programa se ejecutará para siempre (o hasta que aborte). Entonces, las listas infinitas usualmente son utilizadas como parte de expresiones."
   ]
  },
  {
   "cell_type": "markdown",
   "metadata": {
    "slideshow": {
     "slide_type": "notes"
    }
   },
   "source": [
    "También tenemos la función `take` que retorna una lista conteniendo los primeros `n` elementos de una lista `l` (potencialmente infinita)."
   ]
  },
  {
   "cell_type": "code",
   "execution_count": null,
   "metadata": {
    "slideshow": {
     "slide_type": "fragment"
    }
   },
   "outputs": [],
   "source": [
    ":t take\n",
    "\n",
    "take 3 ['x'..]\n",
    "\n",
    "take 20 [1,3..]\n",
    "\n",
    "take 7 [5,3..]  "
   ]
  },
  {
   "cell_type": "markdown",
   "metadata": {
    "slideshow": {
     "slide_type": "slide"
    }
   },
   "source": [
    "Utilizamos el operador *cons* (notación `:`) para añadir un elemento al inicio de la lista:"
   ]
  },
  {
   "cell_type": "code",
   "execution_count": null,
   "metadata": {
    "slideshow": {
     "slide_type": "fragment"
    }
   },
   "outputs": [],
   "source": [
    ":t (:)\n",
    "2 : [3,4,5]"
   ]
  },
  {
   "cell_type": "markdown",
   "metadata": {
    "slideshow": {
     "slide_type": "slide"
    }
   },
   "source": [
    " Y utilizamos el operador `++` para la **concatenación** de dos listas:"
   ]
  },
  {
   "cell_type": "code",
   "execution_count": null,
   "metadata": {
    "slideshow": {
     "slide_type": "fragment"
    }
   },
   "outputs": [],
   "source": [
    ":t (++)\n",
    "[1,3,7,9] ++ [3,3,1]"
   ]
  },
  {
   "cell_type": "markdown",
   "metadata": {
    "slideshow": {
     "slide_type": "notes"
    }
   },
   "source": [
    "Observar que `++` es una función que tomas dos listas, y `:` es una función que toma un elemento y una lista. "
   ]
  },
  {
   "cell_type": "markdown",
   "metadata": {
    "slideshow": {
     "slide_type": "notes"
    }
   },
   "source": [
    "**Atención** El uso repetido del operador `++` en listas largas (independientemente que estés anexando un solo elemento a una lista, (p.ej: `[1,2,3] ++ [4]`), fuerza a Haskell a **recorrer toda la lista** de la parte izquierad de `++`.  Entonces, anexar algo al final de una lista con cincuenta millones de elementos, tomará un tiempo! Sin embargo, añadir algo al comienzo de una lista utilizando el operador cons `:` es instantáneo!"
   ]
  },
  {
   "cell_type": "markdown",
   "metadata": {
    "slideshow": {
     "slide_type": "notes"
    }
   },
   "source": [
    "Entre las varias funciones definidas sobre listas, mencionamos brevemente las siguientes:\n",
    "\n",
    "* `length` recibe una lista y retorna su largo;\n",
    "\n",
    "* `null` chequea si una lista es vacía;\n",
    "\n",
    "* `sum` recibe una lista de númerso y retorna su suma;\n",
    "\n",
    "* `elem` recibe un elemento `x` y una lista de elementos `l` del mismo tipo y chequea si `x` es un elemento de la lista `l`."
   ]
  },
  {
   "cell_type": "code",
   "execution_count": null,
   "metadata": {
    "slideshow": {
     "slide_type": "slide"
    }
   },
   "outputs": [],
   "source": [
    "length [2,4,5,6,7]\n",
    "\n",
    "null [2]\n",
    "\n",
    "sum [-1,0,1,6,-5,-1]\n",
    "\n",
    "5 `elem` [6,3,5,7,5]"
   ]
  },
  {
   "cell_type": "markdown",
   "metadata": {
    "slideshow": {
     "slide_type": "notes"
    }
   },
   "source": [
    "Esto es todo sobre listas por ahora. Durante el curso seguiremos aprendiendo más acerca de ellas!"
   ]
  },
  {
   "cell_type": "markdown",
   "metadata": {
    "slideshow": {
     "slide_type": "slide"
    }
   },
   "source": [
    "### Juntando y separando texto"
   ]
  },
  {
   "cell_type": "markdown",
   "metadata": {
    "slideshow": {
     "slide_type": "notes"
    }
   },
   "source": [
    "Existen situaciones en las cuales lo que quieres hacer con tu lista son cosas específicamente relacionadas con texto. Haskell tiene funciones específicas para ese tipo de situaciones."
   ]
  },
  {
   "cell_type": "markdown",
   "metadata": {
    "slideshow": {
     "slide_type": "notes"
    }
   },
   "source": [
    "Por ejemplo:"
   ]
  },
  {
   "cell_type": "markdown",
   "metadata": {
    "slideshow": {
     "slide_type": "fragment"
    }
   },
   "source": [
    "* `words :: String -> [String]`    separa a `String` en una lisa de palabras, delimitadas por espacio en blanco.\n",
    "\n",
    "* `unwords :: [String] -> String`  es la operación inversa a words. Junta las palabras delimitándolas con un espacio en blanco.\n",
    "\n",
    "* `lines :: String -> [String]`    divide el argumento en una lista de líneas, utilizando el carácter nueva línea (`\\n`) como separador.\n",
    "\n",
    "* `unlines :: [String] -> String`  crea un `String` a partir de una lista de strings, agregando el carácter nueva línea (`\\n`) entre las líneas originales."
   ]
  },
  {
   "cell_type": "code",
   "execution_count": null,
   "metadata": {
    "slideshow": {
     "slide_type": "slide"
    }
   },
   "outputs": [],
   "source": [
    "words \"Ser o no ser?\"\n",
    "\n",
    "lines \"Cómo has estado?? \\n Estoy bien, y tú?\""
   ]
  }
 ],
 "metadata": {
  "celltoolbar": "Slideshow",
  "kernelspec": {
   "display_name": "Haskell",
   "language": "haskell",
   "name": "haskell"
  },
  "language_info": {
   "codemirror_mode": "ihaskell",
   "file_extension": ".hs",
   "mimetype": "text/x-haskell",
   "name": "haskell",
   "pygments_lexer": "Haskell",
   "version": "8.10.7"
  },
  "rise": {
   "enable_chalkboard": true,
   "header": "<img style=\"position: relative; left: 1230px; width: 200px; top: 10px;\" src=\"https://raw.githubusercontent.com/rober-m/haskell-bootcamp/main/images/input-output.svg\"/>"
  },
  "vscode": {
   "interpreter": {
    "hash": "31f2aee4e71d21fbe5cf8b01ff0e069b9275f58929596ceb00d14d90e3e16cd6"
   }
  }
 },
 "nbformat": 4,
 "nbformat_minor": 4
}
