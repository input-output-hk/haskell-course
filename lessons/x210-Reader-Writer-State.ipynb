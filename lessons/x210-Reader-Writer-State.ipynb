{
 "cells": [
  {
   "cell_type": "code",
   "execution_count": 1,
   "metadata": {
    "slideshow": {
     "slide_type": "skip"
    }
   },
   "outputs": [],
   "source": [
    ":opt no-lint"
   ]
  },
  {
   "cell_type": "markdown",
   "metadata": {
    "slideshow": {
     "slide_type": "slide"
    }
   },
   "source": [
    "# `Writer`, `Reader`, and `State` Monads"
   ]
  },
  {
   "cell_type": "markdown",
   "metadata": {
    "slideshow": {
     "slide_type": "slide"
    }
   },
   "source": [
    "## Outline\n",
    "\n",
    "* Introduction\n",
    "* Logs `Writer` (based on `Log`)\n",
    "    * Incentive\n",
    "    * Generalizing `Log`\n",
    "    * Helper functions\n",
    "* Environment `Reader`\n",
    "    * Interacting with a (fake) Database\n",
    "    * Extracting the pattern\n",
    "    * Using the `Reader` Monad\n",
    "* The `State` of things\n",
    "    * Implementing a vending machine\n",
    "    * Extracting the pattern\n",
    "    * Using the `State` Monad"
   ]
  },
  {
   "cell_type": "markdown",
   "metadata": {
    "slideshow": {
     "slide_type": "skip"
    }
   },
   "source": [
    "In this lesson, we will learn about... //TODO"
   ]
  },
  {
   "cell_type": "markdown",
   "metadata": {
    "slideshow": {
     "slide_type": "slide"
    }
   },
   "source": [
    "# Logs `Writer`"
   ]
  },
  {
   "cell_type": "markdown",
   "metadata": {
    "slideshow": {
     "slide_type": "skip"
    }
   },
   "source": [
    "This one will be super easy because we did most of the work in the previous lesson.\n",
    "The `Writer` monad represents the effect of writing some information alongside your main computation."
   ]
  },
  {
   "cell_type": "markdown",
   "metadata": {
    "slideshow": {
     "slide_type": "slide"
    }
   },
   "source": [
    "## Incentive"
   ]
  },
  {
   "cell_type": "markdown",
   "metadata": {
    "slideshow": {
     "slide_type": "skip"
    }
   },
   "source": [
    "In the previous lesson we defined the `Log` type like this:"
   ]
  },
  {
   "cell_type": "code",
   "execution_count": 4,
   "metadata": {
    "slideshow": {
     "slide_type": "slide"
    },
    "vscode": {
     "languageId": "plaintext"
    }
   },
   "outputs": [],
   "source": [
    "data Log a = Log [String] a deriving (Show, Eq)"
   ]
  },
  {
   "cell_type": "markdown",
   "metadata": {
    "slideshow": {
     "slide_type": "skip"
    }
   },
   "source": [
    "And then, we defined its `Functor`, `Applicative`, and `Monad` instance taking into account what we chose the effect to mean:"
   ]
  },
  {
   "cell_type": "code",
   "execution_count": 5,
   "metadata": {
    "slideshow": {
     "slide_type": "fragment"
    },
    "vscode": {
     "languageId": "plaintext"
    }
   },
   "outputs": [],
   "source": [
    "instance Functor Log where\n",
    "  fmap f (Log logs a) = Log logs (f a)\n",
    "\n",
    "instance Applicative Log where\n",
    "  pure = Log []\n",
    "  (Log l1 f) <*> (Log l2 a) = Log (l1 ++ l2) (f a)\n",
    "\n",
    "instance Monad Log where\n",
    "    (Log l1 a) >>= k =\n",
    "      case k a of\n",
    "        Log l2 b -> Log (l1 ++ l2) b"
   ]
  },
  {
   "cell_type": "markdown",
   "metadata": {
    "slideshow": {
     "slide_type": "skip"
    }
   },
   "source": [
    "But there's one thing that bothers me about this. We use a list of `Strings` as logs and combine them using the `++` function. However, there's no good reason to specialize this type to lists when we already have the `Monoid` type class!"
   ]
  },
  {
   "cell_type": "markdown",
   "metadata": {
    "slideshow": {
     "slide_type": "skip"
    }
   },
   "source": [
    "By locking our logs implementation to a specific data type, such as lists, we can't use a different structure for the logs. Maybe a tree-like structure would've been better for our use case, for example.\n",
    "\n",
    "All we need is a value for the concept of empty, which is what `mempty` from `Monoid` represents, and an associative operation to combine them, which is what `<>` from `Semigroup` represents.\n",
    "\n",
    "So, let's generalize our `Log` implementation."
   ]
  },
  {
   "cell_type": "markdown",
   "metadata": {
    "slideshow": {
     "slide_type": "slide"
    }
   },
   "source": [
    "## Generalizing `Log`"
   ]
  },
  {
   "cell_type": "markdown",
   "metadata": {
    "slideshow": {
     "slide_type": "skip"
    }
   },
   "source": [
    "We'll define a new type called `Writer` that will generalize the logs from a list of `Strings` to anything that is an instance of `Monoid`:"
   ]
  },
  {
   "cell_type": "code",
   "execution_count": 6,
   "metadata": {
    "slideshow": {
     "slide_type": "slide"
    },
    "vscode": {
     "languageId": "plaintext"
    }
   },
   "outputs": [],
   "source": [
    "-- data Log a = Log [String] a\n",
    "\n",
    "-- data Writer a = Writer [String] a\n",
    "\n",
    "-- data Writer w a = Writer w a\n",
    "\n",
    "-- newtype Writer w a = Writer (a, w)\n",
    "\n",
    "newtype Writer w a = Writer { runWriter :: (a, w)} deriving (Show, Eq)"
   ]
  },
  {
   "cell_type": "markdown",
   "metadata": {
    "slideshow": {
     "slide_type": "skip"
    }
   },
   "source": [
    "Here I laid out the transformation from our original `Log` type into the final `Writer` type:\n",
    "1. The first change we'll make is to rename the type and constructor to `Writer`.\n",
    "2. Then, because we could use anything that is an instance of `Monoid` as logs, we have to add the type variable `w` for whatever type the log will be and replace the list of `String`s with a value `w`. \n",
    "3. Then, instead of using two fields, we'll combine the value and logs into a single tuple, which allows us to use `newtype` instead of `data`. We'll also swap `a` and `w` at the value-level tuple. This has no meaninful reason other than so our type looks the same as the `Writer` type you'll see at libraries. So, don't mind it.\n",
    "4. And, finally, because we need an easy way to extract the wrapped value without pattern-matching, we use record-syntax and name the tuple `runWriter`. The `run` before the type name is a convention that you'll see often. It reads nicely when using the Monad instance since it's used at the end of the \"effect chain\" and can be interpreted as \"running the `Writer` effect\" to extract the final value. \n",
    "\n",
    "We'll also derive the `Show` and `Eq` instances to check the laws and print values. \n",
    "\n",
    "Now that we have our datatype, let's start creating the instances. Starting, of course, with the `Functor` instance:"
   ]
  },
  {
   "cell_type": "code",
   "execution_count": 7,
   "metadata": {
    "slideshow": {
     "slide_type": "slide"
    },
    "vscode": {
     "languageId": "plaintext"
    }
   },
   "outputs": [
    {
     "data": {
      "text/plain": [
       "True"
      ]
     },
     "metadata": {},
     "output_type": "display_data"
    }
   ],
   "source": [
    "instance Functor (Writer w) where\n",
    "  fmap f (Writer (x, w)) = Writer (f x, w)\n",
    "\n",
    "-- Check Functor law\n",
    "fmap id (Writer (1, \"hello\")) == id (Writer (1, \"hello\"))"
   ]
  },
  {
   "cell_type": "markdown",
   "metadata": {
    "slideshow": {
     "slide_type": "skip"
    }
   },
   "source": [
    "The `Functor` instance is pretty straightforward. We pattern match to access the inner tuple and apply the function to the value while avoiding modifying the structure. \n",
    "\n",
    "And, as you can see, our instance follows the `Functor` laws.\n",
    "\n",
    "Now let's define the `Applicative` instance:"
   ]
  },
  {
   "cell_type": "code",
   "execution_count": 8,
   "metadata": {
    "slideshow": {
     "slide_type": "slide"
    },
    "vscode": {
     "languageId": "plaintext"
    }
   },
   "outputs": [],
   "source": [
    "instance Monoid w => Applicative (Writer w) where\n",
    "    pure x = Writer (x, mempty)\n",
    "    Writer (f, w1) <*> Writer (x, w2) = Writer (f x, w1 <> w2)"
   ]
  },
  {
   "cell_type": "markdown",
   "metadata": {
    "slideshow": {
     "slide_type": "skip"
    }
   },
   "source": [
    "This one is a bit more complex, but I hope it is still intuitive.\n",
    "\n",
    "The pure function has to lift the value but produce no effect. So, we create a new `Writer` value holding `x` but with a `mempty` log. Because we use `mempty`, we have to constrain the type of `w` to be an instance of `Monoid`.\n",
    "\n",
    "For the `<*>` operator, we pattern match both parameters to extract the internal values. Then, we create a new `Writer` value where the value it holds is the result of applying the function of the first parameter to the value of the second, and the writer (or logs) is the result of combining both writers in the correct order using the `<>` binary operator. We don't need to add the `Semigroup` constraint because it comes implicitly with the `Monoid` constraint.\n",
    "\n",
    "Now, let's check if we're following the `Applicative` laws:"
   ]
  },
  {
   "cell_type": "code",
   "execution_count": 9,
   "metadata": {
    "slideshow": {
     "slide_type": "fragment"
    },
    "vscode": {
     "languageId": "plaintext"
    }
   },
   "outputs": [
    {
     "data": {
      "text/plain": [
       "True"
      ]
     },
     "metadata": {},
     "output_type": "display_data"
    },
    {
     "data": {
      "text/plain": [
       "True"
      ]
     },
     "metadata": {},
     "output_type": "display_data"
    },
    {
     "data": {
      "text/plain": [
       "True"
      ]
     },
     "metadata": {},
     "output_type": "display_data"
    },
    {
     "data": {
      "text/plain": [
       "True"
      ]
     },
     "metadata": {},
     "output_type": "display_data"
    }
   ],
   "source": [
    "valueW = Writer (6, [\"some value\"])\n",
    "timesTwoW = Writer ((*2), [\"times two\"])\n",
    "showW = Writer (show, [\"show it\"])\n",
    "\n",
    "(pure id <*> valueW) == valueW -- Identity\n",
    "\n",
    "(pure show <*> pure 3) == (pure (show 3) :: Writer String String) -- Homomorphism\n",
    "\n",
    "((pure (.) <*> showW <*> timesTwoW) <*> valueW) == (showW <*> (timesTwoW <*> valueW)) -- Composition\n",
    "\n",
    "(timesTwoW <*> pure 3) == (pure (\\f -> f 3) <*> timesTwoW) -- Interchange"
   ]
  },
  {
   "cell_type": "markdown",
   "metadata": {
    "slideshow": {
     "slide_type": "skip"
    }
   },
   "source": [
    "Everything seems to be in order. Finally, let's create the instance for the `Monad` type class:"
   ]
  },
  {
   "cell_type": "code",
   "execution_count": 10,
   "metadata": {
    "slideshow": {
     "slide_type": "slide"
    },
    "vscode": {
     "languageId": "plaintext"
    }
   },
   "outputs": [],
   "source": [
    "instance Monoid w => Monad (Writer w) where\n",
    "    Writer (x, w1) >>= k = \n",
    "        case k x of\n",
    "            Writer (y, w2) -> Writer (y, w1 <> w2)"
   ]
  },
  {
   "cell_type": "markdown",
   "metadata": {
    "slideshow": {
     "slide_type": "skip"
    }
   },
   "source": [
    "I defined the implementation following the same patterns we followed in the previous lesson. And, this would be a good enough implementation. However, we're evaluating a case expression that will always have a single case. We can write this more simply by pattern-matching that unique expression with a let binding like this:"
   ]
  },
  {
   "cell_type": "code",
   "execution_count": 11,
   "metadata": {
    "slideshow": {
     "slide_type": "fragment"
    },
    "vscode": {
     "languageId": "plaintext"
    }
   },
   "outputs": [],
   "source": [
    "instance Monoid w => Monad (Writer w) where\n",
    "    Writer (x, w1) >>= k = let Writer (y, w2) = k x \n",
    "                           in  Writer (y, w1 <> w2)"
   ]
  },
  {
   "cell_type": "markdown",
   "metadata": {
    "slideshow": {
     "slide_type": "skip"
    }
   },
   "source": [
    "These two instances are essentially the same; however, the second is more succinct and explicit about `Writer` being a single-constructor wrapper around a tuple. You could also have done the same with a `where` clause.\n",
    "\n",
    "Now, let's quickly check the monad laws:"
   ]
  },
  {
   "cell_type": "code",
   "execution_count": 12,
   "metadata": {
    "slideshow": {
     "slide_type": "slide"
    },
    "vscode": {
     "languageId": "plaintext"
    }
   },
   "outputs": [
    {
     "data": {
      "text/plain": [
       "True"
      ]
     },
     "metadata": {},
     "output_type": "display_data"
    },
    {
     "data": {
      "text/plain": [
       "True"
      ]
     },
     "metadata": {},
     "output_type": "display_data"
    },
    {
     "data": {
      "text/plain": [
       "True"
      ]
     },
     "metadata": {},
     "output_type": "display_data"
    }
   ],
   "source": [
    "m = Writer (5, [\"initial\"])\n",
    "k x = Writer (x*2, [show x ++ \" times two\"])\n",
    "h x = Writer (x + 3, [show x ++ \" plus three\"])\n",
    "\n",
    "(return 3 >>= k) == k 3  -- left identity\n",
    "(m >>= return) == m  -- right identity\n",
    "(m >>= (\\x -> k x >>= h)) == ((m >>= k) >>= h) -- associativity"
   ]
  },
  {
   "cell_type": "markdown",
   "metadata": {
    "slideshow": {
     "slide_type": "skip"
    }
   },
   "source": [
    "Awesome! It follows the monad laws, so it seems we have a valid `Writer` instance."
   ]
  },
  {
   "cell_type": "markdown",
   "metadata": {
    "slideshow": {
     "slide_type": "slide"
    }
   },
   "source": [
    "## Helper functions"
   ]
  },
  {
   "cell_type": "markdown",
   "metadata": {
    "slideshow": {
     "slide_type": "skip"
    }
   },
   "source": [
    "Of course, even though we now have all the helper functions related to `Functor`, `Applicative`, and `Monad` available, nothing stops us from creating our own specialized helper functions for this type.\n",
    "\n",
    "Let's see an example of how we could potentially use this instance:"
   ]
  },
  {
   "cell_type": "code",
   "execution_count": 13,
   "metadata": {
    "slideshow": {
     "slide_type": "slide"
    },
    "vscode": {
     "languageId": "plaintext"
    }
   },
   "outputs": [
    {
     "data": {
      "text/plain": [
       "(\"9\",[\"3 times two\",\"6 plus three\",\"show it\"])"
      ]
     },
     "metadata": {},
     "output_type": "display_data"
    }
   ],
   "source": [
    "timesTwoW x = Writer (x*2, [show x ++ \" times two\"])\n",
    "plusThreeW x = Writer (x + 3, [show x ++ \" plus three\"])\n",
    "showW x = Writer (show x, [\"show it\"])\n",
    "\n",
    "example :: Int -> Writer [String] String\n",
    "example x = do\n",
    "  y <- timesTwoW x\n",
    "  z <- plusThreeW y\n",
    "  showW z\n",
    "\n",
    "\n",
    "runWriter $ example 3"
   ]
  },
  {
   "cell_type": "markdown",
   "metadata": {
    "slideshow": {
     "slide_type": "skip"
    }
   },
   "source": [
    "Here we see three functions that manipulate values in various ways. Then, in the `example` function, we take an `Int` and apply these monadic functions one at a time to get the final value."
   ]
  },
  {
   "cell_type": "markdown",
   "metadata": {
    "slideshow": {
     "slide_type": "skip"
    }
   },
   "source": [
    "This works well, but there are two things wrong in the first three functions:\n",
    "- It surfaces the effect at the logic level, which, of course, is what we are trying to avoid by abstracting away the effect.\n",
    "- It exposes the internal representation of the `Writer` type, which might not be available or might be extremely complicated, depending on the type.\n",
    "\n",
    "So, what we can do is to create the helper function `tell` that will write new logs in our monad without modifying the value:"
   ]
  },
  {
   "cell_type": "code",
   "execution_count": 14,
   "metadata": {
    "slideshow": {
     "slide_type": "slide"
    },
    "vscode": {
     "languageId": "plaintext"
    }
   },
   "outputs": [],
   "source": [
    "tell w = Writer ((), w)"
   ]
  },
  {
   "cell_type": "markdown",
   "metadata": {
    "slideshow": {
     "slide_type": "skip"
    }
   },
   "source": [
    "And now, we can write the same functions like this:"
   ]
  },
  {
   "cell_type": "code",
   "execution_count": 15,
   "metadata": {
    "slideshow": {
     "slide_type": "fragment"
    },
    "vscode": {
     "languageId": "plaintext"
    }
   },
   "outputs": [
    {
     "data": {
      "text/plain": [
       "(\"9\",[\"3 times two\",\"6 plus three\",\"show it\"])"
      ]
     },
     "metadata": {},
     "output_type": "display_data"
    }
   ],
   "source": [
    "timesTwoW x = do\n",
    "   tell [show x ++ \" times two\"]\n",
    "   pure $ x*2\n",
    "\n",
    "plusThreeW x = do\n",
    "   tell [show x ++ \" plus three\"]\n",
    "   pure $ x + 3\n",
    "\n",
    "showW x = do\n",
    "   tell [\"show it\"]\n",
    "   pure $ show x\n",
    "\n",
    "example :: Int -> Writer [String] String\n",
    "example x = do\n",
    "  y <- timesTwoW x\n",
    "  z <- plusThreeW y\n",
    "  showW z\n",
    "\n",
    "\n",
    "runWriter $ example 3"
   ]
  },
  {
   "cell_type": "markdown",
   "metadata": {
    "slideshow": {
     "slide_type": "skip"
    }
   },
   "source": [
    "Now we can write logic independently of the effect, and if we want to add something to the logs at any point in time, we use `tell` and the monad instance will handle the rest.\n",
    "\n",
    "This concludes the transformation of `Log` into the `Writer` type that generalizes into writing with any `Monoid` along the result of a computation. However, this generalization also opened new dors. It can be used for more things besides logging:\n",
    "- You can use it to emit intermediate representations in code-generating tools\n",
    "- To output accumulation for domain-specific languages\n",
    "- And other use cases.\n",
    "\n",
    "Also, other implementations that you might encounter in the wild have more helper functions besides `tell`. But we'll only cover the most commonly used ones because I don't want this to be a super-long lesson. Don't worry, though. They are easy to pick up now that you learned how the `Writer` monad works.\n",
    "\n",
    "As a final side note about `Writer`: It is useful but has some performance issues, so it's not as widely used as the other two monads we'll learn about today. Speaking of which:"
   ]
  },
  {
   "cell_type": "markdown",
   "metadata": {
    "slideshow": {
     "slide_type": "slide"
    }
   },
   "source": [
    "# Context `Reader`"
   ]
  },
  {
   "cell_type": "markdown",
   "metadata": {
    "slideshow": {
     "slide_type": "skip"
    }
   },
   "source": [
    "## Interacting with a (fake) Database"
   ]
  },
  {
   "cell_type": "markdown",
   "metadata": {
    "slideshow": {
     "slide_type": "skip"
    }
   },
   "source": [
    "For the `Writer` `Monad`, we could rely on the `Log` `Monad` we developed in the previous lesson, but from now on, we have to start from scratch. So, let's do a short setup.\n",
    "\n",
    "Let's say we're running a website that has a Haskell backend. This website has free and paid users, and we need to define some logic for sending emails from our backend. We can start by defining an entry point:"
   ]
  },
  {
   "cell_type": "markdown",
   "metadata": {
    "slideshow": {
     "slide_type": "slide"
    }
   },
   "source": [
    "```haskell\n",
    "main :: IO ()\n",
    "main = do\n",
    "  env <- parseEnv <$> readFile \".env\"\n",
    "  sendReminderToPayInvoice env \n",
    "```"
   ]
  },
  {
   "cell_type": "markdown",
   "metadata": {
    "slideshow": {
     "slide_type": "skip"
    }
   },
   "source": [
    "Because we need to read from our database to get information about our users, we have to connect to it somehow. However, we don't want to hardcode the address and password of our database in the code, for obvious reasons. So, what do we do? We create an environment file, just like everyone else, and read the information from there. \n",
    "\n",
    "So, we create this file:"
   ]
  },
  {
   "cell_type": "code",
   "execution_count": 16,
   "metadata": {
    "slideshow": {
     "slide_type": "slide"
    },
    "vscode": {
     "languageId": "plaintext"
    }
   },
   "outputs": [],
   "source": [
    "-- Write an `.env` file containing:\n",
    "-- DB_HOST=localhost\n",
    "-- DB_PORT=5432\n",
    "-- DB_PASSWORD=lazyness123\n",
    "\n",
    "writeFile \".env\" \"DB_HOST=localhost\\nDB_PORT=5432\\nDB_PASSWORD=lazyness123\""
   ]
  },
  {
   "cell_type": "markdown",
   "metadata": {
    "slideshow": {
     "slide_type": "skip"
    }
   },
   "source": [
    "Now that we have our values there, we read them using the default `readFile` function, and then we `fmap` the custom `parseEnv` function to transform plain text into a key-value map:"
   ]
  },
  {
   "cell_type": "code",
   "execution_count": 17,
   "metadata": {
    "slideshow": {
     "slide_type": "fragment"
    },
    "vscode": {
     "languageId": "plaintext"
    }
   },
   "outputs": [
    {
     "data": {
      "text/plain": [
       "fromList [(\"KEY_1\",\"value1\"),(\"KEY_2\",\"value2\")]"
      ]
     },
     "metadata": {},
     "output_type": "display_data"
    },
    {
     "data": {
      "text/plain": [
       "fromList [(\"DB_HOST\",\"localhost\"),(\"DB_PASSWORD\",\"lazyness123\"),(\"DB_PORT\",\"5432\")]"
      ]
     },
     "metadata": {},
     "output_type": "display_data"
    }
   ],
   "source": [
    "import Data.Map (Map, fromList)\n",
    "\n",
    "parseEnv :: String -> Map String String\n",
    "parseEnv str = fromList $ map ((\\(k, v) -> (k, drop 1 v)) . break (== '=')) (lines str)\n",
    "\n",
    "\n",
    "parseEnv \"KEY_1=value1\\nKEY_2=value2\"\n",
    "parseEnv <$> readFile \".env\""
   ]
  },
  {
   "cell_type": "markdown",
   "metadata": {
    "slideshow": {
     "slide_type": "skip"
    }
   },
   "source": [
    "Once we have those key-value pairs, we can pass them down to other functions. However, the type `Map String String` will always be the same in this case. But it's verbose and lacks meaning in this particular program, so let's name it `Env` for \"environment\":"
   ]
  },
  {
   "cell_type": "code",
   "execution_count": 18,
   "metadata": {
    "slideshow": {
     "slide_type": "slide"
    },
    "vscode": {
     "languageId": "plaintext"
    }
   },
   "outputs": [],
   "source": [
    "type Env = Map String String"
   ]
  },
  {
   "cell_type": "markdown",
   "metadata": {
    "slideshow": {
     "slide_type": "skip"
    }
   },
   "source": [
    "And since we're defining the domain of our program, and we know we'll deal with users, let's define the user type:"
   ]
  },
  {
   "cell_type": "code",
   "execution_count": 19,
   "metadata": {
    "slideshow": {
     "slide_type": "fragment"
    },
    "vscode": {
     "languageId": "plaintext"
    }
   },
   "outputs": [],
   "source": [
    "data User = MkUser\n",
    "    { userName :: String\n",
    "    , userEmail :: String\n",
    "    , isPaid :: Bool\n",
    "    , hasDebt :: Bool\n",
    "    }\n",
    "    deriving (Show)"
   ]
  },
  {
   "cell_type": "markdown",
   "metadata": {
    "slideshow": {
     "slide_type": "skip"
    }
   },
   "source": [
    "Now that we have our domain modeled (sort of), we can keep going by defining all the functions we need. I couldn't run the first code block because the `sendReminderToPayInvoice` function doesn't exist. So, let's define it:"
   ]
  },
  {
   "cell_type": "markdown",
   "metadata": {
    "slideshow": {
     "slide_type": "slide"
    }
   },
   "source": [
    "```haskell\n",
    "sendReminderToPayInvoice :: Env -> IO ()\n",
    "sendReminderToPayInvoice env = do\n",
    "    debtors <- getDebtorsInfo env\n",
    "    print \"We sent emails to:\"\n",
    "    print debtors\n",
    "```"
   ]
  },
  {
   "cell_type": "markdown",
   "metadata": {
    "slideshow": {
     "slide_type": "skip"
    }
   },
   "source": [
    "We get all the debtors using the `getDebtorsInfo` action that we'll define after this one. Then, instead of actually sending emails, we print a message saying that we did (because this is obviously a dummy implementation). And after that, we print all the debtors. As you can see, we didn't use the `env` variable yet because we didn't connect to the database, but we will eventually, so we pass it along to the `getDebtorsInfo` function.\n",
    "\n",
    "Now, let's go deeper and define `getDebtorsInfo`:"
   ]
  },
  {
   "cell_type": "markdown",
   "metadata": {
    "slideshow": {
     "slide_type": "slide"
    }
   },
   "source": [
    "```haskell\n",
    "getDebtorsInfo :: Env -> IO [User]\n",
    "getDebtorsInfo env = do\n",
    "    users <- getUsersInfo env\n",
    "    pure $ filter (\\u -> isPaid u && hasDebt u) users\n",
    "```"
   ]
  },
  {
   "cell_type": "markdown",
   "metadata": {
    "slideshow": {
     "slide_type": "skip"
    }
   },
   "source": [
    "As you can see, the first thing we do is get a list of all of our users using the `getUsersInfo` action, which takes the `env` variable and returns the users in the database. Once we have the users, we can filter them using the `filter` function and lift the filtered users again to the `IO` monad before returning.\n",
    "\n",
    "Again, we didn't use `env`, but we'll need to eventually connect to the database to get the users. So, we'll provide it to the next function.\n",
    "\n",
    "Now, let's define the `getUsersInfo` action:"
   ]
  },
  {
   "cell_type": "markdown",
   "metadata": {
    "slideshow": {
     "slide_type": "slide"
    }
   },
   "source": [
    "```haskell\n",
    "getUsersInfo :: Env -> IO [User]\n",
    "getUsersInfo env = do\n",
    "    let query = \"SELECT * FROM public.users\"\n",
    "    callDatabase query env\n",
    "```"
   ]
  },
  {
   "cell_type": "markdown",
   "metadata": {
    "slideshow": {
     "slide_type": "skip"
    }
   },
   "source": [
    "Okay! It's getting warmer! It seems our database is a classic SQL database. In this function, we define the SQL query we wan to run, the `query` value. Then, we use the more generic `callDatabase` function, which takes the `query` and the `env` variable and returns a list of `Users`.\n",
    "\n",
    "Let's define the `callDatabase` function now:"
   ]
  },
  {
   "cell_type": "markdown",
   "metadata": {
    "slideshow": {
     "slide_type": "slide"
    }
   },
   "source": [
    "```haskell\n",
    "callDatabase :: Env -> String -> IO [User]\n",
    "callDatabase env query = do\n",
    "    let dbHost = getEnvVar env \"DB_HOST\"\n",
    "    let dbPort = getEnvVar env \"DB_PORT\"\n",
    "    let dbPass = getEnvVar env \"DB_PASSWORD\"\n",
    "    do\n",
    "        -- Fake call to the database using dbHost, dbPort, and dbPass\n",
    "        putStrLn $ \"Connecting to database at \" ++ dbHost ++ \":\" ++ dbPort\n",
    "        putStrLn $ \"Using password: \" ++ dbPass\n",
    "        putStrLn $ \"Fetching data with query: \" ++ query\n",
    "        pure\n",
    "            [ MkUser \"alice\" \"alice@example.com\" True False\n",
    "            , MkUser \"bob\" \"bob@example.com\" False False\n",
    "            , MkUser \"charlie\" \"charlie@example.com\" True True\n",
    "            , MkUser \"dave\" \"dave@example.com\" False False\n",
    "            ]\n",
    "```"
   ]
  },
  {
   "cell_type": "markdown",
   "metadata": {
    "slideshow": {
     "slide_type": "skip"
    }
   },
   "source": [
    "There you go!! We do connect to the database in this one! As you can see, we take all the information we need from the environment variable using the `getEnvVar` function and the key we want to get the value from. Then, we do a fake call to a database using these values and return a list of four dummy users.\n",
    "\n",
    "One interesting thing to notice is that we're not really using `env` in this function either. We're just passing it along to the `getEnvVar` function. So, now, let's define our last function:"
   ]
  },
  {
   "cell_type": "code",
   "execution_count": 20,
   "metadata": {
    "slideshow": {
     "slide_type": "slide"
    },
    "vscode": {
     "languageId": "plaintext"
    }
   },
   "outputs": [],
   "source": [
    "import Prelude hiding (lookup)\n",
    "import Data.Map (lookup)\n",
    "import Data.Maybe (fromJust)\n",
    "\n",
    "getEnvVar :: Env -> String -> String\n",
    "getEnvVar env key = fromJust . lookup key $ env"
   ]
  },
  {
   "cell_type": "markdown",
   "metadata": {
    "slideshow": {
     "slide_type": "skip"
    }
   },
   "source": [
    "The `getEnvVar` function takes the environment variable as the first argument and the key of the variable we want to use as the second argument.\n",
    "\n",
    "Then, we simply `lookup` the `key` within our environment and extract it from the `Maybe` value. The lack of this value means we can't connect to the database, which would cause the application to crash. This is not handled gracefully, but it would do for this example. Plus, you can't do much if your deployment can't connect to the database.\n",
    "\n",
    "Ok! Let's put everything together:"
   ]
  },
  {
   "cell_type": "code",
   "execution_count": 21,
   "metadata": {
    "slideshow": {
     "slide_type": "slide"
    },
    "vscode": {
     "languageId": "plaintext"
    }
   },
   "outputs": [],
   "source": [
    "import Data.Map (Map, fromList, lookup)\n",
    "import Data.Maybe (fromJust)\n",
    "import Prelude hiding (lookup)\n",
    "\n",
    "type Env = Map String String\n",
    "\n",
    "data User = MkUser\n",
    "    { userName :: String\n",
    "    , userEmail :: String\n",
    "    , isPaid :: Bool\n",
    "    , hasDebt :: Bool\n",
    "    }\n",
    "    deriving (Show)\n",
    "\n",
    "main :: IO ()\n",
    "main = do\n",
    "    env <- parseEnv <$> readFile \".env\"\n",
    "    sendReminderToPayInvoice env\n",
    "\n",
    "parseEnv :: String -> Env\n",
    "parseEnv str = fromList $ map ((\\(k, v) -> (k, drop 1 v)) . break (== '=')) (lines str)\n",
    "\n",
    "sendReminderToPayInvoice :: Env -> IO ()\n",
    "sendReminderToPayInvoice env = do\n",
    "    debtors <- getDebtorsInfo env\n",
    "    print \"We sent emails to:\"\n",
    "    print debtors\n",
    "\n",
    "getDebtorsInfo :: Env -> IO [User]\n",
    "getDebtorsInfo env = do\n",
    "    users <- getUsersInfo env\n",
    "    pure $ filter (\\u -> isPaid u && hasDebt u) users\n",
    "\n",
    "getUsersInfo :: Env -> IO [User]\n",
    "getUsersInfo env = do\n",
    "    let query = \"SELECT * FROM public.users\"\n",
    "    callDatabase env query\n",
    "\n",
    "callDatabase :: Env -> String -> IO [User]\n",
    "callDatabase env query = do\n",
    "    let dbHost = getEnvVar env \"DB_HOST\"\n",
    "    let dbPort = getEnvVar env \"DB_PORT\"\n",
    "    let dbPass = getEnvVar env \"DB_PASSWORD\"\n",
    "    do\n",
    "        -- Fake call to the database using dbHost, dbPort, and dbPass\n",
    "        putStrLn $ \"Connecting to database at \" ++ dbHost ++ \":\" ++ dbPort\n",
    "        putStrLn $ \"Using password: \" ++ dbPass\n",
    "        putStrLn $ \"Fetching data with query: \" ++ query\n",
    "        pure\n",
    "            [ MkUser \"alice\" \"alice@example.com\" True False\n",
    "            , MkUser \"bob\" \"bob@example.com\" False False\n",
    "            , MkUser \"charlie\" \"charlie@example.com\" True True\n",
    "            , MkUser \"dave\" \"dave@example.com\" False False\n",
    "            ]\n",
    "\n",
    "getEnvVar :: Env -> String -> String\n",
    "getEnvVar env key = fromJust . lookup key $ env"
   ]
  },
  {
   "cell_type": "markdown",
   "metadata": {
    "slideshow": {
     "slide_type": "skip"
    }
   },
   "source": [
    "And now, we can run \"main\":"
   ]
  },
  {
   "cell_type": "code",
   "execution_count": 22,
   "metadata": {
    "slideshow": {
     "slide_type": "slide"
    },
    "vscode": {
     "languageId": "plaintext"
    }
   },
   "outputs": [
    {
     "data": {
      "text/plain": [
       "Connecting to database at localhost:5432\n",
       "Using password: lazyness123\n",
       "Fetching data with query: SELECT * FROM public.users\n",
       "\"We sent emails to:\"\n",
       "[MkUser {userName = \"charlie\", userEmail = \"charlie@example.com\", isPaid = True, hasDebt = True}]"
      ]
     },
     "metadata": {},
     "output_type": "display_data"
    }
   ],
   "source": [
    "main"
   ]
  },
  {
   "cell_type": "markdown",
   "metadata": {
    "slideshow": {
     "slide_type": "skip"
    }
   },
   "source": [
    "And that's it! We scaffolded the implemenation to send emails to users who didn't pay on time. This is a dummy implementation, of course, but is not that far from reality, and one notable thing is that, if you look closely, we pass along the `env` variable five different times before actually using it. This is bad for several reasons:"
   ]
  },
  {
   "cell_type": "markdown",
   "metadata": {
    "slideshow": {
     "slide_type": "slide"
    }
   },
   "source": [
    "- A lot of unnecessary noise."
   ]
  },
  {
   "cell_type": "markdown",
   "metadata": {
    "slideshow": {
     "slide_type": "fragment"
    }
   },
   "source": [
    "- Creates a rigid hierarchical structure that is hard to refactor or modify."
   ]
  },
  {
   "cell_type": "markdown",
   "metadata": {
    "slideshow": {
     "slide_type": "fragment"
    }
   },
   "source": [
    "- What if I want to add another value that I only use deep down, like a `debug` flag, or user preferences? Another thing I have to pass through all those functions! 😫"
   ]
  },
  {
   "cell_type": "markdown",
   "metadata": {
    "slideshow": {
     "slide_type": "skip"
    }
   },
   "source": [
    "Let's see what we can do about it."
   ]
  },
  {
   "cell_type": "markdown",
   "metadata": {
    "slideshow": {
     "slide_type": "slide"
    }
   },
   "source": [
    "## Extracting the pattern"
   ]
  },
  {
   "cell_type": "markdown",
   "metadata": {
    "slideshow": {
     "slide_type": "skip"
    }
   },
   "source": [
    "If we look at the types of all our functions, we'll see a pattern:"
   ]
  },
  {
   "cell_type": "markdown",
   "metadata": {
    "slideshow": {
     "slide_type": "slide"
    }
   },
   "source": [
    "```haskell\n",
    "sendReminderToPayInvoice :: Env -> IO ()\n",
    "getDebtorsInfo           :: Env -> IO [User]\n",
    "getUsersInfo             :: Env -> IO [User]\n",
    "callDatabase             :: Env -> String -> IO [User]\n",
    "getEnvVar                :: Env -> String -> String\n",
    "```"
   ]
  },
  {
   "cell_type": "markdown",
   "metadata": {
    "slideshow": {
     "slide_type": "skip"
    }
   },
   "source": [
    "In all cases, it's a function that takes the `Env` type and returns something else, which could either be a value or a function that takes more arguments. We could represent this concept by defining a generic function that takes the environment variable like this:"
   ]
  },
  {
   "cell_type": "markdown",
   "metadata": {
    "slideshow": {
     "slide_type": "fragment"
    }
   },
   "source": [
    "```haskell\n",
    "functionWithEnv :: Env -> a\n",
    "```"
   ]
  },
  {
   "cell_type": "markdown",
   "metadata": {
    "slideshow": {
     "slide_type": "skip"
    }
   },
   "source": [
    "Now, how can we capture this in a type? Well, we could have something like this:"
   ]
  },
  {
   "cell_type": "markdown",
   "metadata": {
    "slideshow": {
     "slide_type": "slide"
    }
   },
   "source": [
    "```haskell\n",
    "newtype WithEnv env a = WithEnv (env -> a)\n",
    "```"
   ]
  },
  {
   "cell_type": "markdown",
   "metadata": {
    "slideshow": {
     "slide_type": "skip"
    }
   },
   "source": [
    "In this type, we capture the concept of a function that takes an environment and returns something, wrapping it around a type constructor. We also provide both the environment and the return value as type parameters to have full flexibility regarding which types we could use.\n",
    "\n",
    "The names seem a bit constrained, though. Let's go with the default definition everyone uses:"
   ]
  },
  {
   "cell_type": "code",
   "execution_count": 24,
   "metadata": {
    "slideshow": {
     "slide_type": "fragment"
    },
    "vscode": {
     "languageId": "plaintext"
    }
   },
   "outputs": [],
   "source": [
    "newtype Reader r a = Reader { runReader :: r -> a}"
   ]
  },
  {
   "cell_type": "markdown",
   "metadata": {
    "slideshow": {
     "slide_type": "skip"
    }
   },
   "source": [
    "We just renamed the type variables and changed the constructor to a record type. That way, we can unwrap the function without pattern matching. We call the type `Reader` because we're \"reading\" the value from somewhere. Following that logic, the first parameter `r` is the value read, and the second parameter `a` is whatever the function returns once we provide `r`.\n",
    "\n",
    "Now, whenever we see the `Reader r a` type somewhere, we know this `r` value is available for us. And, of course, this value doesn't appear out of nowhere. What is really happening under the hood is that we're asking for that `r` all the way up to the first function that uses this type. And that's where we have to provide the actual value. So, we're basically doing the same we just did with the database example, but we're hiding it inside the type. If that didn't click, it'll become clear when we start using it.\n",
    "\n",
    "Now that we have the type, let's implement `Functor`, `Applicative`, and `Monad`. That way, we can implicitly sequence `Reader` values and extract them whenever we need them. Let's start with the `Functor` instance:"
   ]
  },
  {
   "cell_type": "code",
   "execution_count": 25,
   "metadata": {
    "slideshow": {
     "slide_type": "slide"
    },
    "vscode": {
     "languageId": "plaintext"
    }
   },
   "outputs": [],
   "source": [
    "instance Functor (Reader r) where\n",
    "--  fmap :: (a -> b) -> Reader r a -> Reader r b\n",
    "    fmap f (Reader g) = Reader (f . g)\n",
    "    \n",
    "-- Remember: g :: r -> a"
   ]
  },
  {
   "cell_type": "markdown",
   "metadata": {
    "slideshow": {
     "slide_type": "skip"
    }
   },
   "source": [
    "To implement `fmap`, we have to understand that the environment variable `r` is part of the structure, so we don't want to modify it. We only modify the actual value of type `a` that we return at the end. So, we implement the `Functor` instance for the type `Reader r`.\n",
    "\n",
    "The actual implementation is super simple. We need to return a function of type `r -> b` wrapped in a `Reader` constructor because that's a value of type `Reader r b`. So, we first pattern match to extract the function `g` of type `r -> a`, and, since we have the function `f` of type `a -> b`, we compose them to get a function of type `r -> b` and wrap the result in a `Reader` constructor.\n",
    "\n",
    "Done! We now have a way to `fmap` `Reader r` values. If you look closely, the `Reader` constructor wraps a function. Since we remember from the `Functor` lesson that `fmap` for a function is just function composition, it makes sense that `fmap` for a function wrapped in a constructor is just function composition with the extra hassle of unwrapping and wrapping the functions in a constructor. Nothing crazy, plus, we just followed the types. Once we had the types, almost no brainpower was needed for the implementation. This will be a recurrent theme.\n",
    "\n",
    "Now, let's move into implementing the `Applicative` instance:"
   ]
  },
  {
   "cell_type": "code",
   "execution_count": 26,
   "metadata": {
    "slideshow": {
     "slide_type": "slide"
    },
    "vscode": {
     "languageId": "plaintext"
    }
   },
   "outputs": [],
   "source": [
    "instance Applicative (Reader r) where\n",
    "    -- pure :: a -> Reader r a\n",
    "    pure x = undefined\n",
    "    -- Reader r (a -> b) -> Reader r a -> Reader r b\n",
    "    Reader f <*> Reader g = undefined"
   ]
  },
  {
   "cell_type": "markdown",
   "metadata": {
    "slideshow": {
     "slide_type": "skip"
    }
   },
   "source": [
    "We have to implement both `pure` and `<*>`. Let's start with `pure`. The effect of `Reader r` is to read a value and have it available for use within the function. So, how would a `Reader r` value that has no effect look like?\n",
    "\n",
    "There's just one way to interpret this: The value will be provided at the top function, when we use our first `Reader`, so we can't avoid having it as an input, however we can ignore it! So, we can implement `pure` like this:"
   ]
  },
  {
   "cell_type": "code",
   "execution_count": 27,
   "metadata": {
    "slideshow": {
     "slide_type": "slide"
    },
    "vscode": {
     "languageId": "plaintext"
    }
   },
   "outputs": [],
   "source": [
    "instance Applicative (Reader r) where\n",
    "    -- pure :: a -> Reader r a\n",
    "    pure x = Reader (\\_ -> x) -- Same as: Reader (const x)\n",
    "    -- Reader r (a -> b) -> Reader r a -> Reader r b\n",
    "    Reader f <*> Reader g = undefined"
   ]
  },
  {
   "cell_type": "markdown",
   "metadata": {
    "slideshow": {
     "slide_type": "skip"
    }
   },
   "source": [
    "If the effect is having the `r` value available, we can remove the effect by ignoring the `r` and wrapping it with the `Reader` constructor. That way, the function is independent of the `r` value; hence, no effect is performed.\n",
    "\n",
    "Moving on to the `<*>` operator, I kid you not, we just need to follow the types again until GHC stops complaining:"
   ]
  },
  {
   "cell_type": "code",
   "execution_count": null,
   "metadata": {
    "slideshow": {
     "slide_type": "slide"
    },
    "vscode": {
     "languageId": "plaintext"
    }
   },
   "outputs": [],
   "source": [
    "instance Applicative (Reader r) where\n",
    "    -- pure :: a -> Reader r a\n",
    "    pure x = Reader (\\_ -> x) -- Same as: Reader (const x)\n",
    "    -- Reader r (a -> b) -> Reader r a -> Reader r b\n",
    "    Reader f <*> Reader g = undefined\n",
    "\n",
    "-- Reminder:\n",
    "-- f :: r -> a -> b\n",
    "-- g :: r -> a \n",
    "-- result needed: Reader wrapping a function of type r -> b"
   ]
  },
  {
   "cell_type": "markdown",
   "metadata": {
    "slideshow": {
     "slide_type": "skip"
    }
   },
   "source": [
    "I added the types of the wrapped functions and the desired result below as a reminder, but if you try to implement it yourself, GHC will make sure you respect those.\n",
    "\n",
    "As always, we use pattern matching to extract the value inside the `Reader` constructors. Because we know `f` is a function inside a `Reader` constructor and that it's supposed to be applied to `g`, we know that the type of `f` is `f :: r -> a -> b`. And, for the same reasons as before, we know the type of `g` is `g :: r -> a`.\n",
    "\n",
    "So, we need to return a `Reader` value that takes an `r` and returns a `b`. The first part is easy: We return a `Reader` constructor that wraps a function that takes an `r`:"
   ]
  },
  {
   "cell_type": "code",
   "execution_count": null,
   "metadata": {
    "slideshow": {
     "slide_type": "slide"
    },
    "vscode": {
     "languageId": "plaintext"
    }
   },
   "outputs": [],
   "source": [
    "\n",
    "instance Applicative (Reader r) where\n",
    "    -- pure :: a -> Reader r a\n",
    "    pure x = Reader (\\_ -> x) -- Same as: Reader (const x)\n",
    "    -- Reader r (a -> b) -> Reader r a -> Reader r b\n",
    "    Reader f <*> Reader g = Reader (\\r -> undefined)\n",
    "\n",
    "-- Reminder:\n",
    "-- f :: r -> a -> b\n",
    "-- g :: r -> a \n",
    "-- result needed: Reader wrapping a function of type r -> b"
   ]
  },
  {
   "cell_type": "markdown",
   "metadata": {
    "slideshow": {
     "slide_type": "skip"
    }
   },
   "source": [
    "Now, all we have to do is figure out a way to combine `f`, `g`, and `r` to get a value of type `b`. \n",
    "\n",
    "We know that we want to use `f` since it returns exactly what we need: a value of type `b`. We could also apply it to the first parameter of type `r`, since we already have it as well:"
   ]
  },
  {
   "cell_type": "code",
   "execution_count": null,
   "metadata": {
    "slideshow": {
     "slide_type": "slide"
    },
    "vscode": {
     "languageId": "plaintext"
    }
   },
   "outputs": [],
   "source": [
    "\n",
    "instance Applicative (Reader r) where\n",
    "    -- pure :: a -> Reader r a\n",
    "    pure x = Reader (\\_ -> x) -- Same as: Reader (const x)\n",
    "    -- Reader r (a -> b) -> Reader r a -> Reader r b\n",
    "    Reader f <*> Reader g = Reader (\\r -> f r undefined)\n",
    "\n",
    "-- Reminder:\n",
    "-- f :: r -> a -> b\n",
    "-- g :: r -> a \n",
    "-- result needed: Reader wrapping a function of type r -> b"
   ]
  },
  {
   "cell_type": "markdown",
   "metadata": {
    "slideshow": {
     "slide_type": "skip"
    }
   },
   "source": [
    "Now, we need a value of type `a` as the second argument, which we can obtain by applying `g` to `r`, so we do that:"
   ]
  },
  {
   "cell_type": "code",
   "execution_count": 28,
   "metadata": {
    "slideshow": {
     "slide_type": "slide"
    },
    "vscode": {
     "languageId": "plaintext"
    }
   },
   "outputs": [],
   "source": [
    "instance Applicative (Reader r) where\n",
    "    -- pure :: a -> Reader r a\n",
    "    pure x = Reader (\\_ -> x) -- Same as: Reader (const x)\n",
    "    -- Reader r (a -> b) -> Reader r a -> Reader r b\n",
    "    Reader f <*> Reader g = Reader (\\r -> f r (g r))\n",
    "\n",
    "-- Reminder:\n",
    "-- f :: r -> a -> b\n",
    "-- g :: r -> a \n",
    "-- result needed: Reader wrapping a function of type r -> b"
   ]
  },
  {
   "cell_type": "markdown",
   "metadata": {
    "slideshow": {
     "slide_type": "skip"
    }
   },
   "source": [
    "And we're done! We now have the effect of reading a value from the environment! To shorten this lesson as much as possible, I won't check the laws or provide usage examples of the `<*>` operator. However, I'll show you the original example using `do` notation once we implement the `Monad` instance. \n",
    "\n",
    "Speaking of which:"
   ]
  },
  {
   "cell_type": "code",
   "execution_count": null,
   "metadata": {
    "slideshow": {
     "slide_type": "slide"
    },
    "vscode": {
     "languageId": "plaintext"
    }
   },
   "outputs": [],
   "source": [
    "instance Monad (Reader r) where\n",
    "    -- Reader r a -> (a -> Reader r b) -> Reader r b\n",
    "    Reader f >>= g = undefined\n",
    "\n",
    "-- Reminder:\n",
    "-- f :: r -> a\n",
    "-- result needed: Reader wrapping a function of type r -> b"
   ]
  },
  {
   "cell_type": "markdown",
   "metadata": {
    "slideshow": {
     "slide_type": "skip"
    }
   },
   "source": [
    "We need to implement the `>>=` operator. We can pattern match the first parameter to extract the internal function `f`, and then we can follow the types as in previous examples.\n",
    "\n",
    "Since we need to return a `Reader r b` type, we can start by wrapping the result of our work in the `Reader` constructor containing a function that takes `r` and somehow produces a `b`:"
   ]
  },
  {
   "cell_type": "code",
   "execution_count": null,
   "metadata": {
    "slideshow": {
     "slide_type": "slide"
    },
    "vscode": {
     "languageId": "plaintext"
    }
   },
   "outputs": [],
   "source": [
    "instance Monad (Reader r) where\n",
    "    -- Reader r a -> (a -> Reader r b) -> Reader r b\n",
    "    Reader f >>= g = Reader (\\r -> undefined)\n",
    "\n",
    "-- Reminder:\n",
    "-- f :: r -> a\n",
    "-- result needed: Reader wrapping a function of type r -> b"
   ]
  },
  {
   "cell_type": "markdown",
   "metadata": {
    "slideshow": {
     "slide_type": "skip"
    }
   },
   "source": [
    "We know that the only way of getting a value of type `b` is to somehow run the effect `Reader r b` that is returned by `g` when applied to a value of type `a`. So, there's some work to do.\n",
    "\n",
    "We can obtain a value of type `a` by applying `f` to `r`, so we'll do just that:"
   ]
  },
  {
   "cell_type": "markdown",
   "metadata": {
    "slideshow": {
     "slide_type": "slide"
    },
    "vscode": {
     "languageId": "plaintext"
    }
   },
   "source": [
    "```haskell\n",
    "instance Monad (Reader r) where\n",
    "    -- Reader r a -> (a -> Reader r b) -> Reader r b\n",
    "    Reader f >>= g = Reader (\\r -> g (f r)) -- Won't compile! ⚠️\n",
    "\n",
    "-- Reminder:\n",
    "-- f :: r -> a\n",
    "-- result needed: Reader wrapping a function of type r -> b\n",
    "```"
   ]
  },
  {
   "cell_type": "markdown",
   "metadata": {
    "slideshow": {
     "slide_type": "skip"
    }
   },
   "source": [
    "This won't compile, but we're closer to our objective. Now, we have a value of type `Reader r b` inside another `Reader r` value. However, what we need is the actual value `b` returned after the effect, so what we do is run the effect! We have the `runReader` function to extract the inner function from the constructor, so we'll do that:"
   ]
  },
  {
   "cell_type": "markdown",
   "metadata": {
    "slideshow": {
     "slide_type": "slide"
    },
    "vscode": {
     "languageId": "plaintext"
    }
   },
   "source": [
    "```haskell\n",
    "instance Monad (Reader r) where\n",
    "    -- Reader r a -> (a -> Reader r b) -> Reader r b\n",
    "    Reader f >>= g = Reader (\\r -> runReader (g (f r)) undefined) -- Won't compile!\n",
    "\n",
    "-- Reminder:\n",
    "-- f :: r -> a\n",
    "-- result needed: Reader wrapping a function of type r -> b\n",
    "```"
   ]
  },
  {
   "cell_type": "markdown",
   "metadata": {
    "slideshow": {
     "slide_type": "skip"
    }
   },
   "source": [
    "We're almost there. Now we have a function that takes a value of type `r` and returns a value of type `b`, but we just need the `b`, so we apply the resulting function of running `runReader` to `r` to get the final expression:"
   ]
  },
  {
   "cell_type": "code",
   "execution_count": 29,
   "metadata": {
    "slideshow": {
     "slide_type": "slide"
    },
    "vscode": {
     "languageId": "plaintext"
    }
   },
   "outputs": [],
   "source": [
    "instance Monad (Reader r) where\n",
    "    -- Reader r a -> (a -> Reader r b) -> Reader r b\n",
    "    Reader f >>= g = Reader (\\r -> runReader (g (f r)) r)\n",
    "\n",
    "-- Reminder:\n",
    "-- f :: r -> a\n",
    "-- result needed: Reader wrapping a function of type r -> b"
   ]
  },
  {
   "cell_type": "markdown",
   "metadata": {
    "slideshow": {
     "slide_type": "skip"
    }
   },
   "source": [
    "And we're done! The expression might look a bit cryptic, but if you follow the types, everything clicks like brand-new Legos."
   ]
  },
  {
   "cell_type": "markdown",
   "metadata": {
    "slideshow": {
     "slide_type": "skip"
    }
   },
   "source": [
    "You might notice that we haven't checked any of the `Functor`, `Applicative`, and `Monad` laws. I trust you'll do it as homework to make sure I'm not deceiving you into thinking these are correct implementations when, in reality, they are not."
   ]
  },
  {
   "cell_type": "markdown",
   "metadata": {
    "slideshow": {
     "slide_type": "skip"
    }
   },
   "source": [
    "Now that we have our new `Reader` monad, we can refactor our old code with it! "
   ]
  },
  {
   "cell_type": "markdown",
   "metadata": {
    "slideshow": {
     "slide_type": "slide"
    }
   },
   "source": [
    "## Using the `Reader` Monad"
   ]
  },
  {
   "cell_type": "markdown",
   "metadata": {
    "slideshow": {
     "slide_type": "skip"
    }
   },
   "source": [
    "Let's start with the entry point. This is our new `main` function:"
   ]
  },
  {
   "cell_type": "markdown",
   "metadata": {
    "slideshow": {
     "slide_type": "slide"
    }
   },
   "source": [
    "```haskell\n",
    "main :: IO ()\n",
    "main = do\n",
    "  env <- parseEnv <$> readFile \".env\"\n",
    "  runReader sendReminderToPayInvoice env\n",
    "```"
   ]
  },
  {
   "cell_type": "markdown",
   "metadata": {
    "slideshow": {
     "slide_type": "skip"
    }
   },
   "source": [
    "The only change from the original implementation is that we added the `runReader` function at the beginning of the last line. If you remember correctly, the type of `runReader` is:"
   ]
  },
  {
   "cell_type": "markdown",
   "metadata": {
    "slideshow": {
     "slide_type": "fragment"
    }
   },
   "source": [
    "```haskell\n",
    "runReader :: Reader r a -> r -> a\n",
    "```"
   ]
  },
  {
   "cell_type": "markdown",
   "metadata": {
    "slideshow": {
     "slide_type": "skip"
    }
   },
   "source": [
    "So, if we have to provide a `Reader r a` as the first parameter and a value of type `r` as the second parameter to obtain the final value of type `a`.\n",
    "\n",
    "We provide the `sendReminderToPayInvoice` function as the value of type `Reader r a` and the `env` value as value of type `r`. From now on, all the functions inside the `sendReminderToPayInvoice` function will have the `env` value we're providing here available to them.\n",
    "\n",
    "Another thing we'll do is to change the `Env` type synonym:"
   ]
  },
  {
   "cell_type": "code",
   "execution_count": 30,
   "metadata": {
    "slideshow": {
     "slide_type": "slide"
    },
    "vscode": {
     "languageId": "plaintext"
    }
   },
   "outputs": [],
   "source": [
    "-- Used to be: type Env = Map String String\n",
    "\n",
    "type Env = Reader (Map String String)"
   ]
  },
  {
   "cell_type": "markdown",
   "metadata": {
    "slideshow": {
     "slide_type": "skip"
    }
   },
   "source": [
    "Since we're inside the `Reader` monad, and we provided the `env` value of type `Map String String`, we'd have to write that huge type on every type signature. This gets old quickly, so we'll add this type synonym to signal that the `Env` type is a `Reader` monad that provides a value of type `Map String String` as an environment variable whenever needed. `Env` is a type constructor that still needs `Reader`'s second type parameter to become a fully saturated type. However, we don't specify that second type parameter (the return type) because it continuously changes throughout each function. So we have to provide the type of the returned value every time we use this type synonym.\n",
    "\n",
    "Now that we have that, let's quickly refactor each function following the compiler's errors:"
   ]
  },
  {
   "cell_type": "markdown",
   "metadata": {
    "slideshow": {
     "slide_type": "slide"
    }
   },
   "source": [
    "```haskell\n",
    "sendReminderToPayInvoice :: Env (IO ())\n",
    "sendReminderToPayInvoice = do\n",
    "    debtors <- getDebtorsInfo -- debtors :: IO [User]\n",
    "    pure $ do\n",
    "        print \"We sent emails to:\"\n",
    "        debtors >>= print\n",
    "```"
   ]
  },
  {
   "cell_type": "markdown",
   "metadata": {
    "slideshow": {
     "slide_type": "skip"
    }
   },
   "source": [
    "Now, the `sendReminderToPayInvoice` function is of type `Env` and returns an `IO ()` as a result.\n",
    "\n",
    "Since we are inside the `Reader` monad, we can run the `getDebtorsInfo` function to get the final `debtors`. We don't have to provide anything to `getDebtorsInfo` because it already has access to `env` by virtue of being a function inside the `Env` `Reader` monad.\n",
    "\n",
    "Something that can be tricky to work with in cases like this is nested monads. In this case, the `debtors` value is pure regarding the `Reader` monad but impure regarding the `IO` monad since it's a value of type `IO [User]`. So, we need another `do` block inside the initial one to work within the `IO` monad. And since we can't return values outside the `Reader` monad, we'll lift that whole `IO` `do` block using the `Reader` monad's `pure` method from the `Applicative` instance we just defined.\n",
    "\n",
    "Now that we're inside the `IO` `do` block, we can do `IO` stuff like print, send emails, and launch missiles."
   ]
  },
  {
   "cell_type": "markdown",
   "metadata": {
    "slideshow": {
     "slide_type": "skip"
    }
   },
   "source": [
    "Moving on to updating the next two functions, we have:"
   ]
  },
  {
   "cell_type": "markdown",
   "metadata": {
    "slideshow": {
     "slide_type": "slide"
    }
   },
   "source": [
    "```haskell\n",
    "getDebtorsInfo :: Env (IO [User])\n",
    "getDebtorsInfo = do\n",
    "    users <- getUsersInfo\n",
    "    pure $ filter (\\u -> isPaid u && hasDebt u) <$> users\n",
    "\n",
    "getUsersInfo :: Env (IO [User])\n",
    "getUsersInfo = do\n",
    "    let query = \"SELECT * FROM public.users\"\n",
    "    callDatabase query\n",
    "```"
   ]
  },
  {
   "cell_type": "markdown",
   "metadata": {
    "slideshow": {
     "slide_type": "skip"
    }
   },
   "source": [
    "The `getDebtorsInfo` function now takes no parameters and runs the `getUsersInfo` function to get the users, which also takes no parameters.\n",
    "\n",
    "Since the list of `User`s is inside the `IO` monad, we have to `fmap` the filter function to get a value of type `IO [User]` back and then use `pure` to lift the value to the `Env` monad.\n",
    "\n",
    "On the `getUsersInfo` side, the only changes were removing the now unnecessary parameter and changing the type; everything else remained the same.\n",
    "\n",
    "Moving into the `callDatabase` function, the change is also quite minimal:"
   ]
  },
  {
   "cell_type": "markdown",
   "metadata": {
    "slideshow": {
     "slide_type": "slide"
    }
   },
   "source": [
    "```haskell\n",
    "callDatabase :: String -> Env (IO [User])\n",
    "callDatabase table = do\n",
    "    dbHost <- getEnvVar \"DB_HOST\"\n",
    "    dbPort <- getEnvVar \"DB_PORT\"\n",
    "    dbPass <- getEnvVar \"DB_PASSWORD\"\n",
    "    pure $ do\n",
    "        -- Fake call to the database using dbHost, dbPort, and dbPass\n",
    "        putStrLn $ \"Connecting to database at \" ++ dbHost ++ \":\" ++ dbPort\n",
    "        putStrLn $ \"Using password: \" ++ dbPass\n",
    "        putStrLn $ \"Fetching data with query: \" ++ query\n",
    "        pure\n",
    "            [ MkUser \"alice\" \"alice@example.com\" True False\n",
    "            , MkUser \"bob\" \"bob@example.com\" False False\n",
    "            , MkUser \"charlie\" \"charlie@example.com\" True True\n",
    "            , MkUser \"dave\" \"dave@example.com\" False False\n",
    "            ]\n",
    "```"
   ]
  },
  {
   "cell_type": "markdown",
   "metadata": {
    "slideshow": {
     "slide_type": "skip"
    }
   },
   "source": [
    "We removed the unnecessary parameter, and instead of `let` bindings to get the environment values, we have to run them so we can access the environment variable.\n",
    "\n",
    "In this case, we also do some stuff at the `IO` level, so we have to again do the `IO` `do` block within the `Reader` `do` block to be able to run `IO` effects in sequence. This is the second example of sequencing two different monads in the same function body. They are quite simple, but it can get complicated when working with many stacked monads. After this course, make sure to explore how to combine effects using monad transformers and similar libraries.\n",
    "\n",
    "Finally, the last function we have to refactor is the `getEnvVar` function, which now takes a single parameter, the name of the `key` we want to search for:"
   ]
  },
  {
   "cell_type": "markdown",
   "metadata": {
    "slideshow": {
     "slide_type": "slide"
    }
   },
   "source": [
    "```haskell\n",
    "getEnvVar :: String -> Env String\n",
    "getEnvVar var = undefined\n",
    "```"
   ]
  },
  {
   "cell_type": "markdown",
   "metadata": {
    "slideshow": {
     "slide_type": "skip"
    }
   },
   "source": [
    "However, now we're in a pickle. Even though the `Reader` monad implicitly passes the environment, now we actually need to surface and use the value!\n",
    "\n",
    "Think about it. How could we do this? \n",
    "\n",
    "Well, we know that any value of type `Reader r` receives the `r` value as a parameter, so all we have to do is create a value of that type that takes `r` and returns it untouched! like this:"
   ]
  },
  {
   "cell_type": "markdown",
   "metadata": {
    "slideshow": {
     "slide_type": "fragment"
    }
   },
   "source": [
    "```haskell\n",
    "getEnvVar :: String -> Env String\n",
    "getEnvVar var = do\n",
    "    env <- Reader (\\r -> r)\n",
    "    undefined\n",
    "```"
   ]
  },
  {
   "cell_type": "markdown",
   "metadata": {
    "slideshow": {
     "slide_type": "skip"
    }
   },
   "source": [
    "And now that we have the value, we can use it the same as always:"
   ]
  },
  {
   "cell_type": "markdown",
   "metadata": {
    "slideshow": {
     "slide_type": "fragment"
    }
   },
   "source": [
    "```haskell\n",
    "getEnvVar :: String -> Env String\n",
    "getEnvVar var = do\n",
    "    env <- Reader (\\r -> r)\n",
    "    pure . fromJust . lookup var $ env\n",
    "```"
   ]
  },
  {
   "cell_type": "markdown",
   "metadata": {
    "slideshow": {
     "slide_type": "skip"
    }
   },
   "source": [
    "That could be it. However, the behavior of getting the value from the environment is so common that it has a name, and it's called ask:"
   ]
  },
  {
   "cell_type": "code",
   "execution_count": 31,
   "metadata": {
    "slideshow": {
     "slide_type": "slide"
    },
    "vscode": {
     "languageId": "plaintext"
    }
   },
   "outputs": [],
   "source": [
    "ask :: Reader r r\n",
    "ask = Reader id -- Same as: Reader (\\r -> r)"
   ]
  },
  {
   "cell_type": "markdown",
   "metadata": {
    "slideshow": {
     "slide_type": "skip"
    }
   },
   "source": [
    "And with that, the final expression for `getEnvVar` is:"
   ]
  },
  {
   "cell_type": "markdown",
   "metadata": {
    "slideshow": {
     "slide_type": "fragment"
    }
   },
   "source": [
    "```haskell\n",
    "getEnvVar :: String -> Env String\n",
    "getEnvVar var = do\n",
    "    env <- ask\n",
    "    pure . fromJust . lookup var $ env\n",
    "```"
   ]
  },
  {
   "cell_type": "markdown",
   "metadata": {
    "slideshow": {
     "slide_type": "skip"
    }
   },
   "source": [
    "And the whole working example looks like this:"
   ]
  },
  {
   "cell_type": "code",
   "execution_count": 32,
   "metadata": {
    "slideshow": {
     "slide_type": "slide"
    }
   },
   "outputs": [],
   "source": [
    "main :: IO ()\n",
    "main = do\n",
    "    env <- parseEnv <$> readFile \".env\"\n",
    "    runReader sendReminderToPayInvoice env\n",
    "\n",
    "parseEnv :: String -> Map String String\n",
    "parseEnv str = fromList $ map ((\\(k, v) -> (k, drop 1 v)) . break (== '=')) (lines str)\n",
    "\n",
    "sendReminderToPayInvoice :: Env (IO ())\n",
    "sendReminderToPayInvoice = do\n",
    "    debtors <- getDebtorsInfo\n",
    "    pure $ do\n",
    "        print \"We sent emails to:\"\n",
    "        debtors >>= print\n",
    "\n",
    "getDebtorsInfo :: Env (IO [User])\n",
    "getDebtorsInfo = do\n",
    "    users <- getUsersInfo\n",
    "    pure $ filter (\\u -> isPaid u && hasDebt u) <$> users\n",
    "\n",
    "getUsersInfo :: Env (IO [User])\n",
    "getUsersInfo = do\n",
    "    let query = \"SELECT * FROM public.users\"\n",
    "    callDatabase query\n",
    "\n",
    "callDatabase :: String -> Env (IO [User])\n",
    "callDatabase query = do\n",
    "    dbHost <- getEnvVar \"DB_HOST\"\n",
    "    dbPort <- getEnvVar \"DB_PORT\"\n",
    "    dbPass <- getEnvVar \"DB_PASSWORD\"\n",
    "    pure $ do\n",
    "        -- Fake call to the database using dbHost, dbPort, and dbPass\n",
    "        putStrLn $ \"Connecting to database at \" ++ dbHost ++ \":\" ++ dbPort\n",
    "        putStrLn $ \"Using password: \" ++ dbPass\n",
    "        putStrLn $ \"Fetching data with query: \" ++ query\n",
    "        pure\n",
    "            [ MkUser \"alice\" \"alice@example.com\" True False\n",
    "            , MkUser \"bob\" \"bob@example.com\" False False\n",
    "            , MkUser \"charlie\" \"charlie@example.com\" True True\n",
    "            , MkUser \"dave\" \"dave@example.com\" False False\n",
    "            ]\n",
    "\n",
    "getEnvVar :: String -> Env String\n",
    "getEnvVar var = do\n",
    "    env <- ask\n",
    "    pure . fromJust . lookup var $ env"
   ]
  },
  {
   "cell_type": "code",
   "execution_count": 33,
   "metadata": {
    "slideshow": {
     "slide_type": "slide"
    }
   },
   "outputs": [
    {
     "data": {
      "text/plain": [
       "\"We sent emails to:\"\n",
       "Connecting to database at localhost:5432\n",
       "Using password: lazyness123\n",
       "Fetching data with query: SELECT * FROM public.users\n",
       "[MkUser {userName = \"charlie\", userEmail = \"charlie@example.com\", isPaid = True, hasDebt = True}]"
      ]
     },
     "metadata": {},
     "output_type": "display_data"
    }
   ],
   "source": [
    "main"
   ]
  },
  {
   "cell_type": "markdown",
   "metadata": {
    "slideshow": {
     "slide_type": "skip"
    }
   },
   "source": [
    "Since the environment dependency is implicit, unless you use it like in the `getEnvVar` function, you wouldn't know about it if it weren't for the type signature. We completely hid that dependency and cleaned it up from the code that doesn't use it.\n",
    "\n",
    "Now, before we move on, there is one more behavior like the `ask` function that is available for reader monads, and that's the `local` function:"
   ]
  },
  {
   "cell_type": "code",
   "execution_count": 36,
   "metadata": {
    "slideshow": {
     "slide_type": "slide"
    }
   },
   "outputs": [],
   "source": [
    "local :: (r -> r) -> Reader r a -> Reader r a\n",
    "local f (Reader g) = Reader (g . f)"
   ]
  },
  {
   "cell_type": "markdown",
   "metadata": {
    "slideshow": {
     "slide_type": "skip"
    }
   },
   "source": [
    "The `local` function modifies the environment before running the action. So, if I run this:"
   ]
  },
  {
   "cell_type": "code",
   "execution_count": 37,
   "metadata": {
    "slideshow": {
     "slide_type": "fragment"
    }
   },
   "outputs": [
    {
     "data": {
      "text/plain": [
       "\"5432\""
      ]
     },
     "metadata": {},
     "output_type": "display_data"
    },
    {
     "data": {
      "text/plain": [
       "\"0000\""
      ]
     },
     "metadata": {},
     "output_type": "display_data"
    }
   ],
   "source": [
    "import Data.Map (insert)\n",
    "\n",
    "getEnvVarLocal :: String -> Env String\n",
    "getEnvVarLocal var = local (insert var \"0000\") $ getEnvVar var\n",
    "\n",
    "\n",
    "runReader (getEnvVar      \"DB_PORT\") $ fromList [(\"DB_PORT\", \"5432\")]\n",
    "runReader (getEnvVarLocal \"DB_PORT\") $ fromList [(\"DB_PORT\", \"5432\")]"
   ]
  },
  {
   "cell_type": "markdown",
   "metadata": {
    "slideshow": {
     "slide_type": "skip"
    }
   },
   "source": [
    "You'll see that, no matter the value that is actually on the environment, the `getEnvVarLocal` function will always return the same value because the `local` function replaces the environment.\n",
    "\n",
    "This could be useful in certain situations, like changing a default value depending on a condition."
   ]
  },
  {
   "cell_type": "markdown",
   "metadata": {
    "slideshow": {
     "slide_type": "skip"
    }
   },
   "source": [
    "And we're done with the `Reader` Monad. Let's move on to the final subject: The `State` monad."
   ]
  },
  {
   "cell_type": "markdown",
   "metadata": {
    "slideshow": {
     "slide_type": "slide"
    }
   },
   "source": [
    "# The `State` of things"
   ]
  },
  {
   "cell_type": "markdown",
   "metadata": {
    "slideshow": {
     "slide_type": "slide"
    }
   },
   "source": [
    "## Implementing a vending machine"
   ]
  },
  {
   "cell_type": "markdown",
   "metadata": {
    "slideshow": {
     "slide_type": "skip"
    }
   },
   "source": [
    "The last monad we'll explore in this lesson is the `State` monad. This monad is sort of the spiritual evolution of the `Reader` monad since we want an effect that cannot only read but also write to a state."
   ]
  },
  {
   "cell_type": "markdown",
   "metadata": {
    "slideshow": {
     "slide_type": "skip"
    }
   },
   "source": [
    "The example we'll use for this is a vending machine. If you've ever used a traditional vending machine, you'll know how they work. They take coins, and at any point in time, you can ask for the item. If the value of the coins is enough, you'll get the item and the change. Otherwise, you won't, but you can ask for the change back.\n",
    "\n",
    "Ok, so let's start with modelling our domain:"
   ]
  },
  {
   "cell_type": "code",
   "execution_count": 2,
   "metadata": {
    "slideshow": {
     "slide_type": "slide"
    },
    "vscode": {
     "languageId": "plaintext"
    }
   },
   "outputs": [],
   "source": [
    "data VendingState = MkVendingState { items :: Int, credit :: Int } deriving Show"
   ]
  },
  {
   "cell_type": "markdown",
   "metadata": {
    "slideshow": {
     "slide_type": "skip"
    }
   },
   "source": [
    "We have a pretty simple domain here. We have the `VendingState` type that  represents the state of the vending machine. Inside, it has the number of `items` inside the machine as an `Int`, and the `credit` or \"value\" added by the user that wants an item, also as an `Int`. So, at any point in time, we have to know how many items are still inside the vending machine and how much value the user has put inside via coins.\n",
    "\n",
    "Now, we can present the three ways of changing the state of a vending machine. The first change of state is when a user inserts a coin:"
   ]
  },
  {
   "cell_type": "code",
   "execution_count": 3,
   "metadata": {
    "slideshow": {
     "slide_type": "fragment"
    },
    "vscode": {
     "languageId": "plaintext"
    }
   },
   "outputs": [],
   "source": [
    "insertCoin :: Int -> VendingState -> ((), VendingState)\n",
    "insertCoin amount state = ((), state { credit = credit state + amount })"
   ]
  },
  {
   "cell_type": "markdown",
   "metadata": {
    "slideshow": {
     "slide_type": "skip"
    }
   },
   "source": [
    "The `insertCoin` function takes the value of the coin and the current state of the vending machine as parameters, and returns a tuple containing the result of the operation, which in this case is `()`, and the new state of the vending machine. If this were the only function, we could've dropped the tuple and just return the new vending machine state. However, this is part of several functions that need to work together in any order, and the other functions will return results besides the new state. So, we have to adapt our return type to accommodate that. In real life, you don't need to be an oracle looking into the future to avoid providing the wrong type. Since it's so easy to refactor Haskell code, you can just change it later if you where wrong.\n",
    "\n",
    "Regarding the actual implementation, the only thing we do is to add the coin amount to whatever amount was in the previous state and assign that as the credit of the new state. We'll use record notation for that. Since we're not touching the number of items, that remains the same as the initial state.\n",
    "\n",
    "Now, let's create the function that performs the vending action:"
   ]
  },
  {
   "cell_type": "code",
   "execution_count": 4,
   "metadata": {
    "slideshow": {
     "slide_type": "fragment"
    },
    "vscode": {
     "languageId": "plaintext"
    }
   },
   "outputs": [],
   "source": [
    "-- Attempts to vend an item. The price is, say, 25 credits.\n",
    "vend :: VendingState -> (String, VendingState) -- Returns a message and new state\n",
    "vend state\n",
    "  | items state <= 0 = (\"Out of stock\", state)\n",
    "  | credit state < 25 = (\"Not enough credit. Price: 25\", state)\n",
    "  | otherwise = (\"Item vended\", state { items = items state - 1, credit = credit state - 25 })"
   ]
  },
  {
   "cell_type": "markdown",
   "metadata": {
    "slideshow": {
     "slide_type": "skip"
    }
   },
   "source": [
    "The `vend` function takes the current vending state and tries to vend an item. We chose 25 credits to be the prize for an item. (In a real scenario, we could read the price from a database, for example.) So, there are three possible results:\n",
    "- If there are no items, the result is that we're out of stock and return the original state.\n",
    "- If there is but the credit is below the prize point, the result is that there's not enough credit, and we return the original state again.\n",
    "- In any other case, there are items, and we have enough credit, so we vend the item and update the state to have one item and 25 credits less than the previous state.\n",
    "\n",
    "Finally, we create the function to get the change back in case we put more than 25 credits worth of coins, or we change our mind halfway through."
   ]
  },
  {
   "cell_type": "code",
   "execution_count": 5,
   "metadata": {
    "slideshow": {
     "slide_type": "fragment"
    },
    "vscode": {
     "languageId": "plaintext"
    }
   },
   "outputs": [],
   "source": [
    "getChange :: VendingState -> (Int, VendingState)\n",
    "getChange state = (credit state, state { credit = 0 })"
   ]
  },
  {
   "cell_type": "markdown",
   "metadata": {
    "slideshow": {
     "slide_type": "skip"
    }
   },
   "source": [
    "The `getChange` function takes the current vending machine's state, returns as a result all the credits inside, and updates the state to have no credits. Again, in this case, the items remain untouched.\n",
    "\n",
    "Now that we have the basic building blocks, let's simulate a bunch of actions:"
   ]
  },
  {
   "cell_type": "code",
   "execution_count": 6,
   "metadata": {
    "slideshow": {
     "slide_type": "slide"
    },
    "vscode": {
     "languageId": "plaintext"
    }
   },
   "outputs": [
    {
     "data": {
      "text/plain": [
       "(\"Item vended | releasing change: 5\",MkVendingState {items = 2, credit = 0})"
      ]
     },
     "metadata": {},
     "output_type": "display_data"
    }
   ],
   "source": [
    "manualVendingSequence :: VendingState -> (String, VendingState)\n",
    "manualVendingSequence initialState =\n",
    "    let (()     , state1) = insertCoin 10 initialState\n",
    "        (()     , state2) = insertCoin 20 state1\n",
    "        (message, state3) = vend state2\n",
    "        (change , state4) = getChange state3\n",
    "    in  (message <> \" | releasing change: \" <> show change, state4)\n",
    "\n",
    "\n",
    "manualVendingSequence $ MkVendingState 3 0 -- Initial state with 3 items and zero credits"
   ]
  },
  {
   "cell_type": "markdown",
   "metadata": {
    "slideshow": {
     "slide_type": "skip"
    }
   },
   "source": [
    "As you can see, the `manualVendingSequence` has a single parameter: the initial state of the vending machine. Then, it performs several actions while threading the updated state from the previous step to the next every time. And, at the end, we return a tuple with the result and the final vending machine's state.\n",
    "\n",
    "We start by inserting a coin worth 10 credits and getting back the new `state1`. Since 10 credits are not enough to buy an item, we provide a second coin worth 20 credits. Make sure to provide `state1` instead of `initialState`, or we'd have lost the first 10 credits!\n",
    "\n",
    "Now we provide `state2`, which now has 30 credits, to the `vend` function and successfully vend the item and get charged 25 credits for it. \n",
    "\n",
    "Finally, we still have 5 credits, so we provide `state3` as the current state to the `getChange` function to get our change back, and return a message combining the result of the third and fourth actions.\n",
    "\n",
    "Notice how, on every step, we provide the previous state as input to the following action. This way of threading state is bad for several reasons:\n",
    "- One is that: Nothing stops us from mistakenly passing any other state instead of the one that corresponds! \n",
    "- It's also cumbersome to do.\n",
    "- And all the code to thread the state makes it difficult to understand the business logic that we're trying to convey!\n",
    "\n",
    "So, now that we identified a repeating pattern that we want to get rid of, let's abstract it away!"
   ]
  },
  {
   "cell_type": "markdown",
   "metadata": {
    "slideshow": {
     "slide_type": "slide"
    }
   },
   "source": [
    "## Extracting the pattern"
   ]
  },
  {
   "cell_type": "markdown",
   "metadata": {
    "slideshow": {
     "slide_type": "skip"
    }
   },
   "source": [
    "Let's start by isolating the essence of a step in the sequence:"
   ]
  },
  {
   "cell_type": "markdown",
   "metadata": {
    "slideshow": {
     "slide_type": "slide"
    }
   },
   "source": [
    "```haskell\n",
    "manualVendingSequence initialState =\n",
    "    let ((), state1) = insertCoin 10 initialState\n",
    "    in (message <> \" | releasing change: \" <> show change, state4)\n",
    "```"
   ]
  },
  {
   "cell_type": "markdown",
   "metadata": {
    "slideshow": {
     "slide_type": "skip"
    }
   },
   "source": [
    "Here we have the first and last lines of the `manualVendingSequence`. The other three lines just repeat the first one, so if we abstract this away, we'll be able to replace those as well.\n",
    "\n",
    "Now, let's generalize a bit the names:"
   ]
  },
  {
   "cell_type": "markdown",
   "metadata": {
    "slideshow": {
     "slide_type": "fragment"
    }
   },
   "source": [
    "```haskell\n",
    "bindState state =\n",
    "    let (result, newState) = action state\n",
    "    in ...\n",
    "```"
   ]
  },
  {
   "cell_type": "markdown",
   "metadata": {
    "slideshow": {
     "slide_type": "skip"
    }
   },
   "source": [
    "I renamed the function to `bindState` because we'll be binding the state through every step. Not surprising, I know. \n",
    "\n",
    "Then, we generalize the action of the first line to `action` and provide the current `state` as a parameter. We don't know what the action will do, but we know that it takes a state and returns a tuple of a result and the new state, so we just name those `result` and `newState`.\n",
    "\n",
    "Now, to generalize the next line, since we have no idea how this result and new state are going ot be used, let's just name whatever expression comes next as `continuation`. However, since we know that this continuation will use both the result and the state, we'll provide both as arguments like this:"
   ]
  },
  {
   "cell_type": "markdown",
   "metadata": {
    "slideshow": {
     "slide_type": "fragment"
    },
    "vscode": {
     "languageId": "plaintext"
    }
   },
   "source": [
    "```haskell\n",
    "bindState state =\n",
    "    let (result, newState) = action state\n",
    "    in continuation result newState\n",
    "```"
   ]
  },
  {
   "cell_type": "markdown",
   "metadata": {
    "slideshow": {
     "slide_type": "skip"
    }
   },
   "source": [
    "Finally, since we don't have the `action` and `continuation` values inside the body of the function, we have to take them from somewhere, so we provide them as parameters to get our final expression:"
   ]
  },
  {
   "cell_type": "code",
   "execution_count": 7,
   "metadata": {
    "slideshow": {
     "slide_type": "slide"
    },
    "vscode": {
     "languageId": "plaintext"
    }
   },
   "outputs": [],
   "source": [
    "bindState :: (VendingState -> (a, VendingState)) -> (a -> (VendingState -> (b, VendingState))) -> (VendingState -> (b, VendingState))\n",
    "bindState action continuation state =\n",
    "    let (result, newState) = action state\n",
    "    in continuation result newState"
   ]
  },
  {
   "cell_type": "markdown",
   "metadata": {
    "slideshow": {
     "slide_type": "skip"
    }
   },
   "source": [
    "For completeness this is how taking a value and a state and returning the state tuple looks like:"
   ]
  },
  {
   "cell_type": "code",
   "execution_count": 8,
   "metadata": {
    "slideshow": {
     "slide_type": "fragment"
    }
   },
   "outputs": [],
   "source": [
    "returnState :: a -> VendingState -> (a, VendingState)\n",
    "returnState value state = (value, state)"
   ]
  },
  {
   "cell_type": "markdown",
   "metadata": {
    "slideshow": {
     "slide_type": "skip"
    }
   },
   "source": [
    "Incredibly borring. However, now we can replace them in the original function to see what it would look like if we were to hide the state threading:"
   ]
  },
  {
   "cell_type": "code",
   "execution_count": 9,
   "metadata": {
    "scrolled": true,
    "slideshow": {
     "slide_type": "slide"
    },
    "vscode": {
     "languageId": "plaintext"
    }
   },
   "outputs": [
    {
     "data": {
      "text/plain": [
       "(\"Item vended | releasing change: 5\",MkVendingState {items = 2, credit = 0})"
      ]
     },
     "metadata": {},
     "output_type": "display_data"
    }
   ],
   "source": [
    "bindVendingSequence :: VendingState -> (String, VendingState)\n",
    "bindVendingSequence =\n",
    "    insertCoin 10 `bindState` \\_ ->\n",
    "    insertCoin 20 `bindState` \\_ ->\n",
    "    vend          `bindState` \\message ->\n",
    "    getChange     `bindState` \\change ->\n",
    "    returnState (message <> \" | releasing change: \" <> show (change :: Int))\n",
    "\n",
    "\n",
    "bindVendingSequence $ MkVendingState 3 0 -- Initial state with 3 items and zero credits"
   ]
  },
  {
   "cell_type": "markdown",
   "metadata": {
    "slideshow": {
     "slide_type": "skip"
    }
   },
   "source": [
    "Now, the cool part is that we already know that this looks suspiciously close to a monadic behavior. And, if you take a look at the type of `bindState`:"
   ]
  },
  {
   "cell_type": "markdown",
   "metadata": {
    "slideshow": {
     "slide_type": "slide"
    }
   },
   "source": [
    "```haskell\n",
    "bindState :: (VS -> (a, VS)) -> (a -> (VS -> (b, VS))) -> (VS -> (b, VS))\n",
    "(>>=)     ::      m a        ->      (a -> m b)        ->      m b\n",
    "```"
   ]
  },
  {
   "cell_type": "markdown",
   "metadata": {
    "slideshow": {
     "slide_type": "skip"
    }
   },
   "source": [
    "I had to replace the full `VendingState` type with a shorter `VS` type so it fits the slide.\n",
    "\n",
    "Howerver, you'll likely notice that it's the same type signature as monad's bind operator if the type were a function that takes a state and returns a tuple of a result of any type with the state.\n",
    "\n",
    "Cool! We just discovered the `State` monad! Now that we know what it looks like, let's implement it! As always, we start with the type, but that's the easy part; we just take whatever the `m` represents in the particular case of `bindState`, which is:"
   ]
  },
  {
   "cell_type": "code",
   "execution_count": 10,
   "metadata": {
    "slideshow": {
     "slide_type": "fragment"
    },
    "vscode": {
     "languageId": "plaintext"
    }
   },
   "outputs": [],
   "source": [
    "newtype State s a = MkState { runState :: s -> (a, s) }"
   ]
  },
  {
   "cell_type": "markdown",
   "metadata": {
    "slideshow": {
     "slide_type": "skip"
    }
   },
   "source": [
    "There you go! It's very close to the definition of the `Reader` monad, with the caveat that we get the input as part of the result.\n",
    "\n",
    "Now that we have the type and we know the effect that it is supposed to represent, we can start implementing the instances. The `Functor` instance looks a lot like the `Functor` instance for `Reader`:"
   ]
  },
  {
   "cell_type": "code",
   "execution_count": null,
   "metadata": {
    "slideshow": {
     "slide_type": "slide"
    },
    "vscode": {
     "languageId": "plaintext"
    }
   },
   "outputs": [],
   "source": [
    "instance Functor (State s) where\n",
    "--  fmap :: (a -> b) -> State s a -> State s b\n",
    "    fmap f (MkState g) = MkState $ \\s ->\n",
    "        undefined\n",
    "\n",
    "-- Remember:\n",
    "-- f :: a -> b\n",
    "-- g :: s -> (a, s)\n",
    "-- result needed: MkState wrapping a function of type s -> (b, s)"
   ]
  },
  {
   "cell_type": "markdown",
   "metadata": {
    "slideshow": {
     "slide_type": "skip"
    }
   },
   "source": [
    "As with `Reader`, we need to return a `State` wrapping a function. So, we can start by wrapping a function that takes the state in the `MkState` constructor. Now we have to figure out how to return the tuple of type `(b, s)` with the tools we have: `f`, `g`, and `s`.\n",
    "\n",
    "This is also not very hard to come up with, we need to apply `f` to a value of type `a` to get a `b`, and the only way to get a value of type `a` is by applying `g` to the state `s`, so we do just that:"
   ]
  },
  {
   "cell_type": "code",
   "execution_count": 11,
   "metadata": {
    "slideshow": {
     "slide_type": "slide"
    },
    "vscode": {
     "languageId": "plaintext"
    }
   },
   "outputs": [],
   "source": [
    "instance Functor (State s) where\n",
    "--  fmap :: (a -> b) -> State s a -> State s b\n",
    "    fmap f (MkState g) = MkState $ \\s ->\n",
    "        let (a, s') = g s\n",
    "        in (f a, s')\n",
    "\n",
    "-- Remember:\n",
    "-- f :: a -> b\n",
    "-- g :: s -> (a, s)\n",
    "-- result needed: MkState wrapping a function of type s -> (b, s)"
   ]
  },
  {
   "cell_type": "markdown",
   "metadata": {
    "slideshow": {
     "slide_type": "skip"
    }
   },
   "source": [
    "We apply `g` to `s` to get the tuple of type `(a, s)`. But, since we already have the initial state `s`, we'll name the new state `s'`. And now that we have the value of type `a`, we can return the final tuple containing the result of applying the function `f` to the value of type `a` and the final state `s'` generated by applying the function `g` to the original type `s`.\n",
    "\n",
    "I'll leave checking the `Functor` laws as homework and move on to the `Applicative` instance:"
   ]
  },
  {
   "cell_type": "code",
   "execution_count": null,
   "metadata": {
    "slideshow": {
     "slide_type": "slide"
    },
    "vscode": {
     "languageId": "plaintext"
    }
   },
   "outputs": [],
   "source": [
    "instance Applicative (State s) where\n",
    "--  pure :: a -> State s a\n",
    "    pure x = undefined\n",
    "\n",
    "--  (<*>) :: State s (a -> b) -> State s a -> State s b\n",
    "    (MkState f) <*> (MkState g) = undefined\n",
    "\n",
    "-- Remember:\n",
    "-- f :: s -> a -> (b, s)\n",
    "-- g :: s -> (a, s)\n",
    "-- result needed for (<*>): MkState wrapping a function of type s -> (b, s)"
   ]
  },
  {
   "cell_type": "markdown",
   "metadata": {
    "slideshow": {
     "slide_type": "skip"
    }
   },
   "source": [
    "We already said that the effect is to use or alter the state. So, to implement `pure`, we just need to ignore the state. However, we're required by the type to provide the state inside the tuple that we return, so the only option is to take a state and pass it along without using or modifying it. Like if we didn't have it. So, the clearest implementation for this case is this one:"
   ]
  },
  {
   "cell_type": "code",
   "execution_count": 12,
   "metadata": {
    "slideshow": {
     "slide_type": "slide"
    },
    "vscode": {
     "languageId": "plaintext"
    }
   },
   "outputs": [],
   "source": [
    "instance Applicative (State s) where\n",
    "--  pure :: a -> State s a\n",
    "    pure x = MkState $ \\s -> (x, s)\n",
    "\n",
    "--  (<*>) :: State s (a -> b) -> State s a -> State s b\n",
    "    (MkState f) <*> (MkState g) = undefined\n",
    "\n",
    "-- Remember:\n",
    "-- f :: s -> a -> (b, s)\n",
    "-- g :: s -> (a, s)\n",
    "-- result needed for (<*>): MkState wrapping a function of type s -> (b, s)"
   ]
  },
  {
   "cell_type": "markdown",
   "metadata": {
    "slideshow": {
     "slide_type": "skip"
    }
   },
   "source": [
    "`pure` takes a value and lifts it to the `Applicative` level by injecting it inside the `State` structure, but without interacting with the state at all.\n",
    "\n",
    "Now, let's see how we can tackle the `<*>` operator. This one is also pretty straightforward if you follow the types, with one caveat:"
   ]
  },
  {
   "cell_type": "code",
   "execution_count": 13,
   "metadata": {
    "slideshow": {
     "slide_type": "slide"
    },
    "vscode": {
     "languageId": "plaintext"
    }
   },
   "outputs": [],
   "source": [
    "instance Applicative (State s) where\n",
    "--  pure :: a -> State s a\n",
    "    pure x = MkState $ \\s -> (x, s)\n",
    "\n",
    "--  (<*>) :: State s (a -> b) -> State s a -> State s b\n",
    "    (MkState f) <*> (MkState g) = MkState $ \\s ->\n",
    "        let (f1  , s1) = f s\n",
    "            (a   , s2) = g s1\n",
    "        in  (f1 a, s2)\n",
    "\n",
    "-- Remember:\n",
    "-- f :: s -> (a -> b, s)\n",
    "-- g :: s -> (a, s)\n",
    "-- result needed for (<*>): MkState wrapping a function of type s -> (b, s)"
   ]
  },
  {
   "cell_type": "markdown",
   "metadata": {
    "slideshow": {
     "slide_type": "skip"
    }
   },
   "source": [
    "Since both `f` and `g` have to be applied to a value of type `s`, by only following the types, we coul have implemented this by applying `g` the original `s` and then `f` to the new `s1` state generated by `g`. However, we did it the other way around. Why is that? Because we understand conceptually the intent behind the `<*>` operator. When we learned about `Applicative`, we learned that this operator allows us to sequence effects in the order we write them. And because we know that, we understand we have to run the effect of `f`, the first function, before the effect of `g`, the second function.\n",
    "\n",
    "That was the only tricky part of this implementation. Now, we can follow the types as always.\n",
    "\n",
    "Once we have the results of \"running\" the effects of both inputs, we apply the function `f1 :: a -> b` to the value of type `a` and return it inside a tuple with the final state `s2`. And that's it!\n",
    "\n",
    "Now let's implement the Monad instance.\n",
    "\n",
    "Luckily, we can use the same logic we defined in the `bindState` function, but in a more general way:"
   ]
  },
  {
   "cell_type": "code",
   "execution_count": null,
   "metadata": {
    "slideshow": {
     "slide_type": "slide"
    },
    "vscode": {
     "languageId": "plaintext"
    }
   },
   "outputs": [],
   "source": [
    "instance Monad (State s) where\n",
    "--  (>>=) :: State s a -> (a -> State s b) -> State s b\n",
    "    (MkState g) >>= f = undefined\n",
    "\n",
    "-- Remember:\n",
    "-- g :: s -> (a, s)\n",
    "-- f :: a -> (s -> (b, s))\n",
    "-- result needed for (>>=): MkState wrapping a function of type s -> (b, s)"
   ]
  },
  {
   "cell_type": "markdown",
   "metadata": {
    "slideshow": {
     "slide_type": "skip"
    }
   },
   "source": [
    "We start by returning a function that takes the state `s` wrapped in a `MkState` constructor:"
   ]
  },
  {
   "cell_type": "code",
   "execution_count": null,
   "metadata": {
    "slideshow": {
     "slide_type": "slide"
    },
    "vscode": {
     "languageId": "plaintext"
    }
   },
   "outputs": [],
   "source": [
    "instance Monad (State s) where\n",
    "--  (>>=) :: State s a -> (a -> State s b) -> State s b\n",
    "    (MkState g) >>= f = MkState $ \\s ->\n",
    "        undefined\n",
    "\n",
    "-- Remember:\n",
    "-- g :: s -> (a, s)\n",
    "-- f :: a -> (s -> (b, s))\n",
    "-- result needed for (>>=): MkState wrapping a function of type s -> (b, s)"
   ]
  },
  {
   "cell_type": "markdown",
   "metadata": {
    "slideshow": {
     "slide_type": "skip"
    }
   },
   "source": [
    "Now, we have to figure out a way to return a tuple containing a value of type `b`:"
   ]
  },
  {
   "cell_type": "code",
   "execution_count": 14,
   "metadata": {
    "slideshow": {
     "slide_type": "slide"
    },
    "vscode": {
     "languageId": "plaintext"
    }
   },
   "outputs": [],
   "source": [
    "instance Monad (State s) where\n",
    "--  (>>=) :: State s a -> (a -> State s b) -> State s b\n",
    "    (MkState g) >>= f = MkState $ \\s ->\n",
    "        let (a, s') = g s\n",
    "            MkState h = f a\n",
    "        in  h s'\n",
    "\n",
    "-- Remember:\n",
    "-- g :: s -> (a, s)\n",
    "-- f :: a -> (s -> (b, s))\n",
    "-- h :: s -> (b, s)\n",
    "-- result needed for (>>=): MkState wrapping a function of type s -> (b, s)"
   ]
  },
  {
   "cell_type": "markdown",
   "metadata": {
    "slideshow": {
     "slide_type": "skip"
    }
   },
   "source": [
    "Our only option for getting a value of type `a` is to apply `g` to the initial state `s`. \n",
    "\n",
    "Once we do that, we can apply `f` to the resulting `a` to get a value of type `State s b`. However, we are already inside a `MkState` constructor, so what we really want is the tuple of `b` with the latest state, so what we do is pattern match to extract the function `h` and apply it to the latest state `s'`. That would return a new tuple containing the value of type `b` and a final state that we can provide as the final result of the expression.\n",
    "\n",
    "These instances might appear complicated the first time you see them. But, thanks to the guidance of GHC, you don't have to figure the whole thing in your head; you just have to solve each type error one by one, moving each step closer and closer to the final expression."
   ]
  },
  {
   "cell_type": "markdown",
   "metadata": {
    "slideshow": {
     "slide_type": "slide"
    }
   },
   "source": [
    "## Using the `State` Monad"
   ]
  },
  {
   "cell_type": "markdown",
   "metadata": {
    "slideshow": {
     "slide_type": "skip"
    }
   },
   "source": [
    "Now that we have our `State` monad, let's reimplement the example using it! Starting with the `insertCoin` function that was previously defined like this:"
   ]
  },
  {
   "cell_type": "code",
   "execution_count": null,
   "metadata": {
    "slideshow": {
     "slide_type": "slide"
    },
    "vscode": {
     "languageId": "plaintext"
    }
   },
   "outputs": [],
   "source": [
    "insertCoin :: Int -> VendingState -> ((), VendingState)\n",
    "insertCoin amount vmState = ((), vmState { credit = credit vmState + amount })"
   ]
  },
  {
   "cell_type": "markdown",
   "metadata": {
    "slideshow": {
     "slide_type": "skip"
    }
   },
   "source": [
    "Now that we can thread the state, we can replace this function. Or can we? \n",
    "\n",
    "It turns out that, similar to how in the `Reader` monad case, we had to define the function `ask` to actually get the value, we also have to add a few helper functions to make our lives easier when dealing with the `State` monad. \n",
    "\n",
    "More concretely, for the `Reader` monad, we only needed to `ask` the reader value, but for the `State` monad, we need to be able to `modify` the state, `put` new states, and `get` the current state.\n",
    "\n",
    "We can modify the state like this:"
   ]
  },
  {
   "cell_type": "code",
   "execution_count": 15,
   "metadata": {
    "slideshow": {
     "slide_type": "fragment"
    },
    "vscode": {
     "languageId": "plaintext"
    }
   },
   "outputs": [],
   "source": [
    "-- Helper function to modify the state\n",
    "modify :: (s -> s) -> State s ()\n",
    "modify f = MkState $ \\s -> ((), f s)"
   ]
  },
  {
   "cell_type": "markdown",
   "metadata": {
    "slideshow": {
     "slide_type": "skip"
    }
   },
   "source": [
    "This is sort of like the opposite of an `fmap`. We modify the state, the structure, instead of the value. And to do that, we take a function that modifies the state as a parameter and create a new state where we apply the function to the old state to return the new state. In this case, we return `()` as the first value of the tuple because we don't care about the result; we only care about modifying the state.\n",
    "\n",
    "Now that we have this function, we can use it to create our new `insertCoin` function:"
   ]
  },
  {
   "cell_type": "code",
   "execution_count": 16,
   "metadata": {
    "slideshow": {
     "slide_type": "fragment"
    },
    "vscode": {
     "languageId": "plaintext"
    }
   },
   "outputs": [],
   "source": [
    "insertCoin :: Int -> State VendingState ()\n",
    "insertCoin amount = modify $ \\state -> state { credit = credit state + amount }"
   ]
  },
  {
   "cell_type": "markdown",
   "metadata": {
    "slideshow": {
     "slide_type": "skip"
    }
   },
   "source": [
    "As you can see, the `modify` helper function takes the old state and changes its `credit` field by adding the `amount` provided as a parameter.\n",
    "\n",
    "You can also see in the type signature that the type of the returned value changed to a `State` monad action that holds the `VendingState` state and returns a `()`.\n",
    "\n",
    "The next function was `vend`:"
   ]
  },
  {
   "cell_type": "code",
   "execution_count": null,
   "metadata": {
    "slideshow": {
     "slide_type": "slide"
    },
    "vscode": {
     "languageId": "plaintext"
    }
   },
   "outputs": [],
   "source": [
    "vend :: VendingState -> (String, VendingState) -- Returns a message and new state\n",
    "vend state\n",
    "  | items state <= 0 = (\"Out of stock\", state)\n",
    "  | credit state < 25 = (\"Not enough credit. Price: 25\", state)\n",
    "  | otherwise = (\"Item vended\", state { items = items state - 1, credit = credit state - 25 })"
   ]
  },
  {
   "cell_type": "markdown",
   "metadata": {
    "slideshow": {
     "slide_type": "skip"
    }
   },
   "source": [
    "In this case, we will have to access the state to compare the values, and if everything is fine, we'll need to put a new state. So, we'll define these two helper functions:"
   ]
  },
  {
   "cell_type": "code",
   "execution_count": 17,
   "metadata": {
    "slideshow": {
     "slide_type": "slide"
    },
    "vscode": {
     "languageId": "plaintext"
    }
   },
   "outputs": [],
   "source": [
    "-- Helper function to get the current state\n",
    "get :: State s s\n",
    "get = MkState $ \\s -> (s, s)\n",
    "\n",
    "-- Helper function to put a new state\n",
    "put :: s -> State s ()\n",
    "put s = MkState $ \\_ -> ((), s)"
   ]
  },
  {
   "cell_type": "markdown",
   "metadata": {
    "slideshow": {
     "slide_type": "skip"
    }
   },
   "source": [
    "The `get` function takes a state `s` and provides it both as the state and as the result. That way, we can use the usual monad mechanics to run the effect and get the state as a result. Virtually the same as what we did with the `Reader` monad.\n",
    "\n",
    "In the case of `put`, we take a new `s` state as a parameter, ignore the one provided by the type, and put that state as the new state. That way, we can replace the state with a brand new one. In this case, we also return the `()` value as a result, since we don't care about the result, only the effect.\n",
    "\n",
    "Now that we have these helper functions, we can modify the `vend` function to use the `State` monad like this:"
   ]
  },
  {
   "cell_type": "code",
   "execution_count": 18,
   "metadata": {
    "slideshow": {
     "slide_type": "fragment"
    },
    "vscode": {
     "languageId": "plaintext"
    }
   },
   "outputs": [],
   "source": [
    "vend :: State VendingState String\n",
    "vend = do\n",
    "    state <- get\n",
    "    case (items state <= 0, credit state < 25) of\n",
    "        (True, _) -> pure \"Out of stock\"\n",
    "        (_, True) -> pure \"Not enough credit. Price: 25\"\n",
    "        _ -> do\n",
    "            put $ state { items = items state - 1, credit = credit state - 25 }\n",
    "            pure \"Item vended\""
   ]
  },
  {
   "cell_type": "markdown",
   "metadata": {
    "slideshow": {
     "slide_type": "skip"
    }
   },
   "source": [
    "Since we are inside the `State` monad, we can use `do` notation. So, we create a `do` block and get the value of the current state using the `get` helper function.\n",
    "\n",
    "Then, we create a tuple with the two conditions we want to check for and pattern match for each `True` value to return the correct message in case something is wrong. If neither of the two values is `True`, it means we can vend the item, so we put a new state that has one item and 25 credits less than the original one as the new vending machine state using the `put` helper function. At the end, we lift a string with a successful message as the result.\n",
    "\n",
    "Finally, we modify the `getChange` function to use our new `State` monad like this:"
   ]
  },
  {
   "cell_type": "code",
   "execution_count": 19,
   "metadata": {
    "slideshow": {
     "slide_type": "slide"
    },
    "vscode": {
     "languageId": "plaintext"
    }
   },
   "outputs": [],
   "source": [
    "getChange :: State VendingState Int\n",
    "getChange = do\n",
    "    state <- get\n",
    "    put $ state { credit = 0 }\n",
    "    pure $ credit state"
   ]
  },
  {
   "cell_type": "markdown",
   "metadata": {
    "slideshow": {
     "slide_type": "skip"
    }
   },
   "source": [
    "We also need to `get` the current state to know how many credits to return. After that, we reset the credits by setting a new state with zero credits and the same items as the previous state. The last line returns the `credits` from the `state` we got before the modification, and returns that as result.\n",
    "\n",
    "And that's it! Now that we refactored the whole example to use the `State` monad, we can enjoy the fruits of our hard work by re-implementing the same vending sequence as before. To highlight the results, this is how it was at the beginning:"
   ]
  },
  {
   "cell_type": "markdown",
   "metadata": {
    "slideshow": {
     "slide_type": "slide"
    }
   },
   "source": [
    "```haskell\n",
    "manualVendingSequence :: VendingState -> (String, VendingState)\n",
    "manualVendingSequence initialState =\n",
    "    let (()     , state1) = insertCoin 10 initialState\n",
    "        (()     , state2) = insertCoin 20 state1\n",
    "        (message, state3) = vend state2\n",
    "        (change , state4) = getChange state3\n",
    "    in (message <> \" | releasing change: \" <> show change, state4)\n",
    "```"
   ]
  },
  {
   "cell_type": "markdown",
   "metadata": {
    "slideshow": {
     "slide_type": "skip"
    }
   },
   "source": [
    "And this is how it looks now:"
   ]
  },
  {
   "cell_type": "code",
   "execution_count": 20,
   "metadata": {
    "slideshow": {
     "slide_type": "fragment"
    },
    "vscode": {
     "languageId": "plaintext"
    }
   },
   "outputs": [
    {
     "data": {
      "text/plain": [
       "(\"Item vended | releasing change: 5\",MkVendingState {items = 2, credit = 0})"
      ]
     },
     "metadata": {},
     "output_type": "display_data"
    }
   ],
   "source": [
    "vendingSequence :: State VendingState String\n",
    "vendingSequence = do\n",
    "    insertCoin 10\n",
    "    insertCoin 20\n",
    "    message <- vend\n",
    "    change  <- getChange\n",
    "    pure $ message <> \" | releasing change: \" <> show change\n",
    "    \n",
    "\n",
    "runState vendingSequence $ MkVendingState 3 0 -- Initial state with 3 items and zero credits"
   ]
  },
  {
   "cell_type": "markdown",
   "metadata": {
    "slideshow": {
     "slide_type": "skip"
    }
   },
   "source": [
    "Waaaaaaay better! The `vendingSequence` function:\n",
    "- Clearly shows the business logic, since there's no boilerplate in sight.\n",
    "- Doesn't allow for mistakes while threading the state because that is done automatically by the `State` monad.\n",
    "- It is easy to read and write.\n",
    "\n",
    "I'd call this a rotund success!"
   ]
  },
  {
   "cell_type": "markdown",
   "metadata": {
    "slideshow": {
     "slide_type": "slide"
    }
   },
   "source": [
    "## And that's it for today! 😃"
   ]
  },
  {
   "cell_type": "markdown",
   "metadata": {
    "slideshow": {
     "slide_type": "skip"
    }
   },
   "source": [
    "With this lecture, we have already seen more than enough Haskell for you to be able to start working on whatever you want to work on and figure things out along the way; however, we have one more thing to do: The final project.\n",
    "\n",
    "As your last homework assignment before the final project, try to prove that all these instances follow the `Functor`, `Applicative`, and `Monad` laws. Then, prepare to write a lot of code with me in the next few final lectures.\n",
    "\n",
    "As always, make sure to do your homework, and I'll see you in the next one!"
   ]
  }
 ],
 "metadata": {
  "celltoolbar": "Slideshow",
  "kernelspec": {
   "display_name": "Haskell",
   "language": "haskell",
   "name": "haskell"
  },
  "language_info": {
   "codemirror_mode": "ihaskell",
   "file_extension": ".hs",
   "mimetype": "text/x-haskell",
   "name": "haskell",
   "pygments_lexer": "Haskell",
   "version": "8.10.7"
  }
 },
 "nbformat": 4,
 "nbformat_minor": 4
}
