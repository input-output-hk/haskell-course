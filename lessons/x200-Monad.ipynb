{
 "cells": [
  {
   "cell_type": "code",
   "execution_count": 6,
   "metadata": {},
   "outputs": [],
   "source": [
    ":opt no-lint"
   ]
  },
  {
   "cell_type": "markdown",
   "metadata": {},
   "source": [
    "# Monad"
   ]
  },
  {
   "cell_type": "markdown",
   "metadata": {},
   "source": [
    "## Outline\n",
    "\n",
    "* Why `Monad`s?\n",
    "* Extracting the pattern for\n",
    "    * `Maybe`\n",
    "    * `Either e`\n",
    "    * `Log`\n",
    "* Abstracting the `Monad` Type Class\n",
    "* The abstraction `Monad`chy\n",
    "* The `Monad`ic Laws\n",
    "* `Monad` as defined in `base`\n",
    "* You have to `do` what you have to `do`"
   ]
  },
  {
   "cell_type": "markdown",
   "metadata": {},
   "source": [
    "Today, we will learn about the `Monad` type class and how you can use it. This lesson assumes you saw **and understood** all the lessons up until now and that you did the homework. Especially lesson 11 about \"Basic IO\", lesson 18 about \"Functor\", and lesson 19 about \"Applicative and Effects\". This lesson is easy in comparison. So, if this lesson feels too hard, you need to review those first."
   ]
  },
  {
   "cell_type": "markdown",
   "metadata": {},
   "source": [
    "## Why `Monad`s?"
   ]
  },
  {
   "cell_type": "markdown",
   "metadata": {},
   "source": [
    "To understand why we need the `Monad` type class, we first need to see the limits of the `Applicative` type class.\n",
    "\n",
    "Let's say we are working on the backend of an app that requires users to sign up, and we have to validate the values somehow.\n",
    "\n",
    "Here's the data type for a user:"
   ]
  },
  {
   "cell_type": "code",
   "execution_count": 1,
   "metadata": {},
   "outputs": [],
   "source": [
    "-- Data type to represent a user\n",
    "data User = User\n",
    "  { userName     :: String\n",
    "  , userPassHash :: String\n",
    "  , userEmail    :: String\n",
    "  } deriving (Show, Eq)"
   ]
  },
  {
   "cell_type": "markdown",
   "metadata": {},
   "source": [
    "And here are a few dummy functions to validate the values:"
   ]
  },
  {
   "cell_type": "code",
   "execution_count": 2,
   "metadata": {},
   "outputs": [],
   "source": [
    "import Data.Char (isAlphaNum, isDigit, isLower, isUpper, toLower)\n",
    "\n",
    "normalizeUsername :: String -> Either String String\n",
    "normalizeUsername uname\n",
    "  | length uname < 3 = Left \"Name must be at least 3 characters long\"\n",
    "  | all (\\c -> isAlphaNum c || c == '_') uname = Right (map toLower uname)\n",
    "  | otherwise = Left \"Name must contain only alphanumeric characters and underscores\"\n",
    "\n",
    "checkAndGeneratePasswordHash :: String -> Either String String\n",
    "checkAndGeneratePasswordHash password \n",
    "  | length password < 8 = Left \"Password must be at least 8 characters long\"\n",
    "  | otherwise =\n",
    "      if any isUpper password && any isLower password && any isDigit password\n",
    "        then Right password -- In a real implementation, this should properly hash the password\n",
    "        else Left \"Password must contain at least one uppercase, one lowercase, and one digit\"\n",
    "\n",
    "normalizeEmail :: String -> Either String String\n",
    "normalizeEmail email\n",
    "  | '@' `notElem` email = Left \"Email must contain @ character\"\n",
    "  | otherwise = Right (map toLower email)"
   ]
  },
  {
   "cell_type": "markdown",
   "metadata": {},
   "source": [
    "Of course, these functions should not be used in production code. The important part is not how they are implemented; the important part is how we use them.\n",
    "\n",
    "Now, let's create a new function that takes the username, password, and email and creates a user if everything is ok:"
   ]
  },
  {
   "cell_type": "code",
   "execution_count": 3,
   "metadata": {},
   "outputs": [],
   "source": [
    "createUser :: String -> String -> String -> Either String User\n",
    "createUser uname pass email =\n",
    "  case normalizeUsername uname of\n",
    "    Left err -> Left err\n",
    "    Right normUname ->\n",
    "      case checkAndGeneratePasswordHash pass of\n",
    "        Left err -> Left err\n",
    "        Right passHash ->\n",
    "          case normalizeEmail email of\n",
    "            Left err -> Left err\n",
    "            Right normEmail ->\n",
    "              Right (User normUname passHash normEmail)"
   ]
  },
  {
   "cell_type": "markdown",
   "metadata": {},
   "source": [
    "As you can see, we have to deal with all the failure cases individually, and if everything is fine, we apply the `User` constructor to all our results at the end.\n",
    "\n",
    "But wait a minute; we did a lot of work in the previous lesson to define the `Applicative` type class precisely so we could easily deal with this! `Applicative` allows us to apply a regular function (in this case, the `User` type constructor) to three values at the `Applycative` level (in this case, the `Either e` Applicative level). So we can simplify the function by using the apply (`<*>`) operator like this:"
   ]
  },
  {
   "cell_type": "code",
   "execution_count": 4,
   "metadata": {},
   "outputs": [],
   "source": [
    "createUser' :: String -> String -> String -> Either String User\n",
    "createUser' uname pass email =\n",
    "  User\n",
    "    <$> normalizeUsername uname\n",
    "    <*> checkAndGeneratePasswordHash pass\n",
    "    <*> normalizeEmail email"
   ]
  },
  {
   "cell_type": "markdown",
   "metadata": {},
   "source": [
    "There you go! Much better. Now, we can clearly see that we're creating a `User` by applying its constructor to values that result from running the possibly failing `Either e` effect of `normalizeUsername`, `checkAndGeneratePasswordHash`, and `normalizeEmail` functions.\n",
    "\n",
    "We can run it to check if it works, of course:"
   ]
  },
  {
   "cell_type": "code",
   "execution_count": 11,
   "metadata": {},
   "outputs": [
    {
     "data": {
      "text/plain": [
       "Right (User {userName = \"john\", userPassHash = \"paSs123456\", userEmail = \"john@example.com\"})"
      ]
     },
     "metadata": {},
     "output_type": "display_data"
    },
    {
     "data": {
      "text/plain": [
       "Left \"Name must be at least 3 characters long\""
      ]
     },
     "metadata": {},
     "output_type": "display_data"
    },
    {
     "data": {
      "text/plain": [
       "Left \"Password must be at least 8 characters long\""
      ]
     },
     "metadata": {},
     "output_type": "display_data"
    },
    {
     "data": {
      "text/plain": [
       "Left \"Email must contain @ character\""
      ]
     },
     "metadata": {},
     "output_type": "display_data"
    },
    {
     "data": {
      "text/plain": [
       "True"
      ]
     },
     "metadata": {},
     "output_type": "display_data"
    }
   ],
   "source": [
    "-- Example usage:\n",
    "createUser' \"John\" \"paSs123456\" \"john@example.com\"\n",
    "createUser' \"\"     \"pass123\"    \"john@example.com\" \n",
    "createUser' \"John\" \"john\"       \"john@example.com\" \n",
    "createUser' \"John\" \"Johnny1990\" \"john\"            \n",
    "\n",
    "\n",
    "(createUser \"John\" \"paSs123456\" \"john@example.com\") == (createUser' \"John\" \"paSs123456\" \"john@example.com\")"
   ]
  },
  {
   "cell_type": "markdown",
   "metadata": {},
   "source": [
    "We knew all this from the previous lesson. If it didn't seem obvious, you might want to review the Applicative Functor lesson. \n",
    "\n",
    "If it made sense so far, let's make the code slightly more realistic. Start by changing the `User` type to this `UserAccount` one:"
   ]
  },
  {
   "cell_type": "code",
   "execution_count": 12,
   "metadata": {},
   "outputs": [],
   "source": [
    "type UserId = String\n",
    "type PasswordHash = String\n",
    "type Email = String\n",
    "\n",
    "data UserAccount = UserAccount\n",
    "  { userId            :: UserId\n",
    "  , userName          :: String\n",
    "  , userPassHash      :: PasswordHash\n",
    "  , userEmail         :: Email\n",
    "  , userHasEnterprise :: Bool\n",
    "  }\n",
    "  deriving (Show, Eq)\n"
   ]
  },
  {
   "cell_type": "markdown",
   "metadata": {},
   "source": [
    "As you can see, we used a few type synonyms to help with readability, and we changed the fields to more realistic ones:\n",
    "\n",
    "- We have `userId` that holds a unique ID generated by our backend, which will never change.\n",
    "- We have `userName` that holds the unique username chosen by the user and that it could be modified in the future.\n",
    "- The `userPassHash` that holds the user's hashed password to verify its identity when they log in.\n",
    "- `userEmail` is the one that holds the user's email.\n",
    "- And `userHasEnterprise` is a boolean flag indicating if the user is part of the \"Enterprise\" plan.\n",
    "\n",
    "There are six dummy functions to validate all these fields. Here are the first three:"
   ]
  },
  {
   "cell_type": "code",
   "execution_count": 14,
   "metadata": {},
   "outputs": [],
   "source": [
    "normalizeUsername :: String -> Maybe String\n",
    "normalizeUsername uname\n",
    "  | length uname < 3 = Nothing\n",
    "  | all (\\c -> isAlphaNum c || c == '_') uname = Just (map toLower uname)\n",
    "  | otherwise = Nothing\n",
    "\n",
    "checkUsernameAvailable :: String -> Maybe Bool\n",
    "checkUsernameAvailable uname =\n",
    "  -- In a real implementation, this would query a database\n",
    "  case uname of\n",
    "    \"admin\" -> Nothing\n",
    "    \"root\"  -> Nothing\n",
    "    _       -> Just True\n",
    "\n",
    "checkAndGeneratePasswordHash :: String -> String -> Maybe String\n",
    "checkAndGeneratePasswordHash password uname\n",
    "  | length password < 8 = Nothing\n",
    "  | password == uname = Nothing\n",
    "  | otherwise =\n",
    "      if any isUpper password && any isLower password && any isDigit password\n",
    "        then Just password -- In a real implementation, this should properly hash the password\n",
    "        else Nothing"
   ]
  },
  {
   "cell_type": "markdown",
   "metadata": {},
   "source": [
    "We're doing two things to reduce the noise around the point we're trying to make:\n",
    "\n",
    "- One is that we use `Maybe` instead of `Either` to avoid the `String`s explaining the errors all over the code.\n",
    "- The second one is that, in some cases, we would have to use `IO` effects. For example, to connect to a database. We also ignore this since it's irrelevant to what we want to learn.\n",
    "\n",
    "As before, the actual implementations of these functions don't matter. What matters is how we use them.\n",
    "\n",
    "Here are the other three:"
   ]
  },
  {
   "cell_type": "code",
   "execution_count": 15,
   "metadata": {},
   "outputs": [],
   "source": [
    "generateUserID :: Maybe String\n",
    "generateUserID =\n",
    "  -- In a real implementation, this should generate a unique ID\n",
    "  Just \"123456\"\n",
    "\n",
    "checkForEnterprisePlan :: String -> Maybe Bool\n",
    "checkForEnterprisePlan email\n",
    "  | '@' `elem` email = Just $ dropWhile (/= '@') email == \"@enterprise.com\"\n",
    "  | otherwise = Nothing\n",
    "\n",
    "-- Simulate database insertion, which could fail or return UserAccount if successful\n",
    "insertUserIntoDatabase :: UserId -> String -> PasswordHash -> Email -> Bool -> Maybe UserAccount\n",
    "insertUserIntoDatabase userID uname password email hasEnterpr =\n",
    "  Just $ UserAccount userID uname email password hasEnterpr"
   ]
  },
  {
   "cell_type": "markdown",
   "metadata": {},
   "source": [
    "Ok, we have all the building blocks we need to write our `registerUser` function. Same as before, let's see how it looks dealing with the effect manually:"
   ]
  },
  {
   "cell_type": "code",
   "execution_count": 16,
   "metadata": {},
   "outputs": [],
   "source": [
    "registerUser :: String -> String -> String -> Maybe UserAccount\n",
    "registerUser uname password email =\n",
    "  case normalizeUsername uname of\n",
    "    Nothing -> Nothing\n",
    "    Just normUname ->\n",
    "      case checkUsernameAvailable normUname of\n",
    "        Nothing -> Nothing\n",
    "        Just _ ->\n",
    "          case checkAndGeneratePasswordHash password normUname of\n",
    "            Nothing -> Nothing\n",
    "            Just passHash ->\n",
    "              case generateUserID of\n",
    "                Nothing -> Nothing\n",
    "                Just userID ->\n",
    "                  case checkForEnterprisePlan email of\n",
    "                    Nothing -> Nothing\n",
    "                    Just hasEnterp -> insertUserIntoDatabase userID normUname passHash email hasEnterp"
   ]
  },
  {
   "cell_type": "markdown",
   "metadata": {},
   "source": [
    "Ok, so, what does the `registerUser` function do? Well:\n",
    "- It first normalizes the username, \n",
    "- then checks if that normalized username is available, \n",
    "- then checks if the password is weak and generates the password hash if it's not, \n",
    "- then we generate a unique user id, \n",
    "- then check if the user is part of an enterprise plan, \n",
    "- After all that, we insert the user into the database and return it.\n",
    "\n",
    "This function looks a lot like `createUser`. Pause the lesson and try to simplify it using `Applicative` operators, the same way we did with `createUser`. Then come back, and we'll do it together."
   ]
  },
  {
   "cell_type": "markdown",
   "metadata": {},
   "source": [
    "Pause the video. Open this link (TODO), and simplify the `registerUser` function using Applicative Functors."
   ]
  },
  {
   "cell_type": "markdown",
   "metadata": {},
   "source": [
    "Ok. Could you do it? What issue did you encounter? If you actually tried, you might've noticed a small but key difference between the `createUser` function that we could greatly simplify by using Applicative Functor and the `registerUser` function we couldn't. And that is:"
   ]
  },
  {
   "cell_type": "markdown",
   "metadata": {},
   "source": [
    "Unlike with `createUser`, where all actions/effects are **independent** and the results are used all at once at the end, in `registerUser`, **we use the results** of some actions/effects **as inputs to other actions/effects**."
   ]
  },
  {
   "cell_type": "markdown",
   "metadata": {},
   "source": [
    "For example, `checkUsernameAvailable` takes as input the result of running the `normalizeUsername` effect.\n",
    "\n",
    "It turns out that using the result of one action as input to another action is very common, but we don't have an abstraction to deal with this yet.\n",
    "\n",
    "Don't worry, we just have to do the same thing we did to extract `map`, `Functor`, `Applicative`, and all the abstractions we extracted so far:"
   ]
  },
  {
   "cell_type": "markdown",
   "metadata": {},
   "source": [
    "We identify a repeating pattern, extract it, and use the abstraction instead of writing the whole pattern."
   ]
  },
  {
   "cell_type": "markdown",
   "metadata": {},
   "source": [
    "## Extracting the pattern for `Maybe`"
   ]
  },
  {
   "cell_type": "markdown",
   "metadata": {},
   "source": [
    "So, what's the repeating pattern here?:"
   ]
  },
  {
   "cell_type": "code",
   "execution_count": 17,
   "metadata": {},
   "outputs": [],
   "source": [
    "registerUser :: String -> String -> String -> Maybe UserAccount\n",
    "registerUser uname password email =\n",
    "  case normalizeUsername uname of\n",
    "    Nothing -> Nothing\n",
    "    Just normUname ->\n",
    "      case checkUsernameAvailable normUname of\n",
    "        Nothing -> Nothing\n",
    "        Just _ ->\n",
    "          case checkAndGeneratePasswordHash password normUname of\n",
    "            Nothing -> Nothing\n",
    "            Just passHash ->\n",
    "              case generateUserID of\n",
    "                Nothing -> Nothing\n",
    "                Just userID ->\n",
    "                  case checkForEnterprisePlan email of\n",
    "                    Nothing -> Nothing\n",
    "                    Just hasEnterp -> insertUserIntoDatabase userID normUname passHash email hasEnterp"
   ]
  },
  {
   "cell_type": "markdown",
   "metadata": {},
   "source": [
    "The case expressions are clearly the repeating pattern; more specifically, we could start by identifying this block of code:"
   ]
  },
  {
   "cell_type": "markdown",
   "metadata": {},
   "source": [
    "```haskell\n",
    "case normalizeUsername uname of\n",
    "  Nothing -> Nothing\n",
    "  Just normUname -> ...\n",
    "```"
   ]
  },
  {
   "cell_type": "markdown",
   "metadata": {},
   "source": [
    "Now, if we see the original function, the expression we provide to the `case` expression constantly changes, and it's always of type `Maybe something`. Let's say the first \"something\" is of type `a`, so we can name the value `ma` for `Maybe a`:"
   ]
  },
  {
   "cell_type": "markdown",
   "metadata": {},
   "source": [
    "```haskell\n",
    "case ma of\n",
    "  Nothing -> Nothing\n",
    "  Just normUname -> ...\n",
    "```"
   ]
  },
  {
   "cell_type": "markdown",
   "metadata": {},
   "source": [
    "The `Nothing -> Nothing` part is always the same, so we leave it as is. And the `Just` part always starts with `Just` but the name of the result changes, so we can put a generic name to it like `val`, of type `a`, of course because it's the result of successfully evaluating `ma`:"
   ]
  },
  {
   "cell_type": "markdown",
   "metadata": {},
   "source": [
    "```haskell\n",
    "case ma of\n",
    "  Nothing -> Nothing\n",
    "  Just val -> ...\n",
    "```"
   ]
  },
  {
   "cell_type": "markdown",
   "metadata": {},
   "source": [
    "Now we have reached the three dots, where the pattern starts repeating. This part is always a bit different, but one thing is the same: The code that comes after uses `val` in some way, so we have to provide it as a parameter. \n",
    "\n",
    "We can name the whole thing that comes after `cont` for \"continuation\" because it's what continues after our pattern, and provide `val` as parameter:"
   ]
  },
  {
   "cell_type": "markdown",
   "metadata": {},
   "source": [
    "```haskell\n",
    "case ma of\n",
    "  Nothing -> Nothing\n",
    "  Just val -> cont val\n",
    "```"
   ]
  },
  {
   "cell_type": "markdown",
   "metadata": {},
   "source": [
    "Awesome. We have extracted our pattern with generic names. Now, we have to wrap it in a function. We can use any name for the function. However, this code binds two `Maybe`s together by providing the result of the first `Maybe` as parameter to the second `Maybe`, so we can call it `bindMaybe`: "
   ]
  },
  {
   "cell_type": "markdown",
   "metadata": {},
   "source": [
    "```haskell\n",
    "bindMaybe = case ma of\n",
    "  Nothing -> Nothing\n",
    "  Just val -> cont val\n",
    "```"
   ]
  },
  {
   "cell_type": "markdown",
   "metadata": {},
   "source": [
    "If we run this code, though, we'll get two errors because we don't have the `ma` and `cont` values; we're creating them out of thin air! The solution is the same as always: if our function needs more values, it can take them as parameters:"
   ]
  },
  {
   "cell_type": "code",
   "execution_count": 19,
   "metadata": {},
   "outputs": [
    {
     "data": {
      "text/html": [
       "<style>/* Styles used for the Hoogle display in the pager */\n",
       ".hoogle-doc {\n",
       "display: block;\n",
       "padding-bottom: 1.3em;\n",
       "padding-left: 0.4em;\n",
       "}\n",
       ".hoogle-code {\n",
       "display: block;\n",
       "font-family: monospace;\n",
       "white-space: pre;\n",
       "}\n",
       ".hoogle-text {\n",
       "display: block;\n",
       "}\n",
       ".hoogle-name {\n",
       "color: green;\n",
       "font-weight: bold;\n",
       "}\n",
       ".hoogle-head {\n",
       "font-weight: bold;\n",
       "}\n",
       ".hoogle-sub {\n",
       "display: block;\n",
       "margin-left: 0.4em;\n",
       "}\n",
       ".hoogle-package {\n",
       "font-weight: bold;\n",
       "font-style: italic;\n",
       "}\n",
       ".hoogle-module {\n",
       "font-weight: bold;\n",
       "}\n",
       ".hoogle-class {\n",
       "font-weight: bold;\n",
       "}\n",
       ".get-type {\n",
       "color: green;\n",
       "font-weight: bold;\n",
       "font-family: monospace;\n",
       "display: block;\n",
       "white-space: pre-wrap;\n",
       "}\n",
       ".show-type {\n",
       "color: green;\n",
       "font-weight: bold;\n",
       "font-family: monospace;\n",
       "margin-left: 1em;\n",
       "}\n",
       ".mono {\n",
       "font-family: monospace;\n",
       "display: block;\n",
       "}\n",
       ".err-msg {\n",
       "color: red;\n",
       "font-style: italic;\n",
       "font-family: monospace;\n",
       "white-space: pre;\n",
       "display: block;\n",
       "}\n",
       "#unshowable {\n",
       "color: red;\n",
       "font-weight: bold;\n",
       "}\n",
       ".err-msg.in.collapse {\n",
       "padding-top: 0.7em;\n",
       "}\n",
       ".highlight-code {\n",
       "white-space: pre;\n",
       "font-family: monospace;\n",
       "}\n",
       ".suggestion-warning { \n",
       "font-weight: bold;\n",
       "color: rgb(200, 130, 0);\n",
       "}\n",
       ".suggestion-error { \n",
       "font-weight: bold;\n",
       "color: red;\n",
       "}\n",
       ".suggestion-name {\n",
       "font-weight: bold;\n",
       "}\n",
       "</style><span class='get-type'>bindMaybe :: forall t a. Maybe t -> (t -> Maybe a) -> Maybe a</span>"
      ],
      "text/plain": [
       "bindMaybe :: forall t a. Maybe t -> (t -> Maybe a) -> Maybe a"
      ]
     },
     "metadata": {},
     "output_type": "display_data"
    }
   ],
   "source": [
    "bindMaybe ma cont = case ma of\n",
    "  Nothing -> Nothing\n",
    "  Just val -> cont val\n",
    "\n",
    ":t bindMaybe"
   ]
  },
  {
   "cell_type": "markdown",
   "metadata": {},
   "source": [
    "And that's it! We extracted the pattern to handle the effect of running `ma` and provide the result for the rest of the code.\n",
    "\n",
    "Now, we can replace all instances of the pattern with this function:"
   ]
  },
  {
   "cell_type": "code",
   "execution_count": 20,
   "metadata": {},
   "outputs": [],
   "source": [
    "registerUser' :: String -> String -> String -> Maybe UserAccount\n",
    "registerUser' uname password email =\n",
    "  bindMaybe (normalizeUsername uname)                         ( \\normUname ->\n",
    "  bindMaybe (checkUsernameAvailable normUname)                ( \\_ ->\n",
    "  bindMaybe (checkAndGeneratePasswordHash password normUname) ( \\passHash ->\n",
    "  bindMaybe generateUserID                                    ( \\userID ->\n",
    "  bindMaybe (checkForEnterprisePlan email)                    ( \\hasEnterp ->\n",
    "  insertUserIntoDatabase userID normUname passHash email hasEnterp)))))"
   ]
  },
  {
   "cell_type": "markdown",
   "metadata": {},
   "source": [
    "This is significantly easier to read. On each line, the first argument is the function we're evaluating, and the second is the rest of the code. We use lambda functions at each step to capture the resulting value as a parameter and provide the rest of the code as the body.\n",
    "as\n",
    "We can make it even more explicit by infixing `bindMaybe`. That way, we have the action being evaluated to the left and the continuation to the right:"
   ]
  },
  {
   "cell_type": "code",
   "execution_count": 22,
   "metadata": {},
   "outputs": [
    {
     "data": {
      "text/plain": [
       "Just (UserAccount {userId = \"123456\", userName = \"john\", userPassHash = \"john@enterprise.com\", userEmail = \"paSs123456\", userHasEnterprise = True})"
      ]
     },
     "metadata": {},
     "output_type": "display_data"
    },
    {
     "data": {
      "text/plain": [
       "Nothing"
      ]
     },
     "metadata": {},
     "output_type": "display_data"
    },
    {
     "data": {
      "text/plain": [
       "Nothing"
      ]
     },
     "metadata": {},
     "output_type": "display_data"
    }
   ],
   "source": [
    "registerUser' :: String -> String -> String -> Maybe UserAccount\n",
    "registerUser' uname password email =\n",
    "  normalizeUsername uname                         `bindMaybe` ( \\normUname ->\n",
    "  checkUsernameAvailable normUname                `bindMaybe` ( \\_ ->\n",
    "  checkAndGeneratePasswordHash password normUname `bindMaybe` ( \\passHash ->\n",
    "  generateUserID                                  `bindMaybe` ( \\userID ->\n",
    "  checkForEnterprisePlan email                    `bindMaybe` ( \\hasEnterp ->\n",
    "  insertUserIntoDatabase userID normUname passHash email hasEnterp)))))\n",
    "\n",
    "\n",
    "registerUser' \"John\"  \"paSs123456\" \"john@enterprise.com\"\n",
    "registerUser' \"Alice\" \"alice\"      \"alice@gmail.com\"\n",
    "registerUser' \"root\"  \"root123456\" \"root@example.com\""
   ]
  },
  {
   "cell_type": "markdown",
   "metadata": {},
   "source": [
    "And that's it! We're done extracting the pattern and replacing it in the code. We'll return to this, but let's do a couple more first."
   ]
  },
  {
   "cell_type": "markdown",
   "metadata": {},
   "source": [
    "## Extracting the pattern for `Either e`"
   ]
  },
  {
   "cell_type": "markdown",
   "metadata": {},
   "source": [
    "For completeness, let's do the same for a `registerUser` function that uses the `Either e` type.\n",
    "\n",
    "Let's start by redefining the helper functions. Here are the first three:"
   ]
  },
  {
   "cell_type": "code",
   "execution_count": 24,
   "metadata": {},
   "outputs": [],
   "source": [
    "normalizeUsername :: String -> Either String String\n",
    "normalizeUsername uname\n",
    "  | length uname < 3 = Left \"Username must be at least 3 characters\"\n",
    "  | all (\\c -> isAlphaNum c || c == '_') uname = Right (map toLower uname)\n",
    "  | otherwise = Left \"Username can only contain alphanumeric characters and underscores\"\n",
    "\n",
    "\n",
    "checkUsernameAvailable :: String -> Either String Bool\n",
    "checkUsernameAvailable uname =\n",
    "  -- In a real implementation, this would query a database\n",
    "  case uname of\n",
    "    \"admin\" -> Left \"Username 'admin' is reserved\"\n",
    "    \"root\"  -> Left \"Username 'root' is reserved\"\n",
    "    _       -> Right True\n",
    "\n",
    "checkAndGeneratePasswordHash :: String -> String -> Either String String\n",
    "checkAndGeneratePasswordHash password uname\n",
    "  | length password < 8 = Left \"Password must be at least 8 characters\"\n",
    "  | password == uname = Left \"Password cannot be the same as username\"\n",
    "  | otherwise =\n",
    "      if any isUpper password && any isLower password && any isDigit password\n",
    "        then Right password -- In a real implementation, this should properly hash the password\n",
    "        else Left \"Password must contain uppercase, lowercase, and digit characters\""
   ]
  },
  {
   "cell_type": "markdown",
   "metadata": {},
   "source": [
    "And here're the othe three:"
   ]
  },
  {
   "cell_type": "code",
   "execution_count": 25,
   "metadata": {},
   "outputs": [],
   "source": [
    "generateUserID :: Either String String\n",
    "generateUserID =\n",
    "  -- In a real implementation, this should generate a unique ID\n",
    "  Right \"123456\"\n",
    "\n",
    "checkForEnterprisePlan :: String -> Either String Bool\n",
    "checkForEnterprisePlan email\n",
    "  | '@' `elem` email = Right $ dropWhile (/= '@') email == \"@enterprise.com\"\n",
    "  | otherwise = Left \"Invalid email format\"\n",
    "\n",
    "-- Simulate database insertion, which could fail or return UserAccount if successful\n",
    "insertUserIntoDatabase :: UserId -> String -> PasswordHash -> Email -> Bool -> Either String UserAccount\n",
    "insertUserIntoDatabase userID uname password email hasEnterpr =\n",
    "  Right $ UserAccount userID uname email password hasEnterpr"
   ]
  },
  {
   "cell_type": "markdown",
   "metadata": {},
   "source": [
    "Now that we are finished with the boilerplate, this is the new `registerUser` with better errors:"
   ]
  },
  {
   "cell_type": "code",
   "execution_count": 26,
   "metadata": {},
   "outputs": [],
   "source": [
    "registerUser :: String -> String -> String -> Either String UserAccount\n",
    "registerUser uname password email =\n",
    "  case normalizeUsername uname of\n",
    "    Left err -> Left err\n",
    "    Right normUname ->\n",
    "      case checkUsernameAvailable normUname of\n",
    "        Left err -> Left err\n",
    "        Right _ ->\n",
    "          case checkAndGeneratePasswordHash password normUname of\n",
    "            Left err -> Left err\n",
    "            Right passHash ->\n",
    "              case generateUserID of\n",
    "                Left err -> Left err\n",
    "                Right userID ->\n",
    "                  case checkForEnterprisePlan email of\n",
    "                    Left err -> Left err\n",
    "                    Right hasEnterp -> insertUserIntoDatabase userID normUname passHash email hasEnterp"
   ]
  },
  {
   "cell_type": "markdown",
   "metadata": {},
   "source": [
    "Based on what you know now, pause the lesson and extract the pattern in a function called `bindEither`.\n",
    "\n",
    "Hopefully, you arrived to something like this:"
   ]
  },
  {
   "cell_type": "code",
   "execution_count": 27,
   "metadata": {},
   "outputs": [],
   "source": [
    "bindEither :: Either String a -> (a -> Either String b) -> Either String b\n",
    "bindEither ea cont = case ea of\n",
    "  Left err -> Left err\n",
    "  Right val -> cont val"
   ]
  },
  {
   "cell_type": "markdown",
   "metadata": {},
   "source": [
    "It's virtually the same as `bindMaybe` but with `Left err` instead of `Nothing` and `Right val` instead of `Just val`. Now, pause the lesson again and replace the pattern with the infix `bindEither` function.\n",
    "\n",
    "Done? You should have something like this:"
   ]
  },
  {
   "cell_type": "code",
   "execution_count": 29,
   "metadata": {},
   "outputs": [
    {
     "data": {
      "text/plain": [
       "Right (UserAccount {userId = \"123456\", userName = \"john\", userPassHash = \"john@enterprise.com\", userEmail = \"paSs123456\", userHasEnterprise = True})"
      ]
     },
     "metadata": {},
     "output_type": "display_data"
    },
    {
     "data": {
      "text/plain": [
       "Left \"Password must be at least 8 characters\""
      ]
     },
     "metadata": {},
     "output_type": "display_data"
    },
    {
     "data": {
      "text/plain": [
       "Left \"Username 'root' is reserved\""
      ]
     },
     "metadata": {},
     "output_type": "display_data"
    }
   ],
   "source": [
    "registerUser' :: String -> String -> String -> Either String UserAccount\n",
    "registerUser' uname password email =\n",
    "  normalizeUsername uname                         `bindEither` ( \\normUname ->\n",
    "  checkUsernameAvailable normUname                `bindEither` ( \\_ ->\n",
    "  checkAndGeneratePasswordHash password normUname `bindEither` ( \\passHash ->\n",
    "  generateUserID                                  `bindEither` ( \\userID ->\n",
    "  checkForEnterprisePlan email                    `bindEither` ( \\hasEnterp ->\n",
    "  insertUserIntoDatabase userID normUname passHash email hasEnterp)))))\n",
    "\n",
    "\n",
    "registerUser' \"John\"  \"paSs123456\" \"john@enterprise.com\"\n",
    "registerUser' \"Alice\" \"alice\"      \"alice@gmail.com\"\n",
    "registerUser' \"root\"  \"root123456\" \"root@example.com\""
   ]
  },
  {
   "cell_type": "markdown",
   "metadata": {},
   "source": [
    "So far, so good. Let's do one a bit different."
   ]
  },
  {
   "cell_type": "markdown",
   "metadata": {},
   "source": [
    "## Extracting the pattern for `Log`"
   ]
  },
  {
   "cell_type": "markdown",
   "metadata": {},
   "source": [
    "Let's say we have a data type that contains the result of a computation plus a log that contains an explanation related to that computation. One possible implementation could be this one:"
   ]
  },
  {
   "cell_type": "code",
   "execution_count": 31,
   "metadata": {
    "vscode": {
     "languageId": "plaintext"
    }
   },
   "outputs": [
    {
     "data": {
      "text/plain": [
       "Log [\"Added 4 and 6\"] 10"
      ]
     },
     "metadata": {},
     "output_type": "display_data"
    },
    {
     "data": {
      "text/plain": [
       "Log [\"Added 3 and 7\"] 10"
      ]
     },
     "metadata": {},
     "output_type": "display_data"
    }
   ],
   "source": [
    "data Log a = Log [String] a deriving (Show, Eq)\n",
    "\n",
    "add :: Int -> Int -> Log Int\n",
    "add x y = Log [\"Added \" ++ show x ++ \" and \" ++ show y] (x + y)\n",
    "\n",
    "\n",
    "add 4 6\n",
    "add 3 7"
   ]
  },
  {
   "cell_type": "markdown",
   "metadata": {},
   "source": [
    "In both cases, the function returns ten, but the inputs are different. We wouldn't know the difference if it weren't for the logs. And whenever something breaks, you really want to have logs about it. I should point out that this is a highly inefficient and hard-to-use type. Don't use this if you want to add logs to your production code. However, it'll be simple enough to use it as a tool to learn `Monads` without much overhead.\n",
    "\n",
    "Okay, for the sake of this lesson, let's change the original example to use `Log`. To avoid complicating things, we'll assume the functions can't fail anymore. You'll learn how to combine effects in the future.\n",
    "\n",
    "So, our first three helper functions now look like this:"
   ]
  },
  {
   "cell_type": "code",
   "execution_count": 32,
   "metadata": {
    "vscode": {
     "languageId": "plaintext"
    }
   },
   "outputs": [],
   "source": [
    "import Data.Char (toLower)\n",
    "\n",
    "normalizeUsername :: String -> Log String\n",
    "normalizeUsername uname =\n",
    "  if length uname < 3\n",
    "  then Log [\"Username too short: \" ++ uname] (map toLower uname)\n",
    "  else Log [\"Username normalized: \" ++ uname] (map toLower uname)\n",
    "\n",
    "checkUsernameAvailable :: String -> Log Bool\n",
    "checkUsernameAvailable uname =\n",
    "  case uname of\n",
    "    \"admin\" -> Log [\"Username unavailable: \" ++ uname] True\n",
    "    \"root\" -> Log [\"Username unavailable: \" ++ uname] True\n",
    "    _ -> Log [\"Username is available: \" ++ uname] True\n",
    "\n",
    "checkAndGeneratePasswordHash :: String -> String -> Log String\n",
    "checkAndGeneratePasswordHash password uname\n",
    "  | length password < 8 = Log [\"Password too short\"] password\n",
    "  | password == uname = Log [\"Password matches username (insecure)\"] password\n",
    "  | otherwise = Log [\"Password validated and hashed\"] password"
   ]
  },
  {
   "cell_type": "markdown",
   "metadata": {},
   "source": [
    "As you can see, the logic inside the functions never fails. Instead, it keeps going but logs what is wrong using the `String`. Of course, in real implementations, you'd have both the effect of logging information and failing. As in the first two examples, what matters is not these definitions but what we do with them.\n",
    "\n",
    "And here are the other three:"
   ]
  },
  {
   "cell_type": "code",
   "execution_count": 33,
   "metadata": {
    "vscode": {
     "languageId": "plaintext"
    }
   },
   "outputs": [],
   "source": [
    "generateUserID :: Log String\n",
    "generateUserID = Log [\"Generated user ID: 123456\"] \"123456\"\n",
    "\n",
    "checkForEnterprisePlan :: String -> Log Bool\n",
    "checkForEnterprisePlan email =\n",
    "  if '@' `elem` email\n",
    "  then Log [\"Checked enterprise status for: \" ++ email] (takeWhile (/= '@') email == \"@enterprise.com\")\n",
    "  else Log [\"Invalid email format: \" ++ email] False\n",
    "\n",
    "insertUserIntoDatabase :: UserId -> String -> PasswordHash -> Email -> Bool -> Log UserAccount\n",
    "insertUserIntoDatabase userID uname password email hasEnterpr =\n",
    "  Log [\"Inserted user into database: \" ++ uname] $ UserAccount userID uname password email hasEnterpr"
   ]
  },
  {
   "cell_type": "markdown",
   "metadata": {},
   "source": [
    "Now that we have the boilerplate out of the way, let's do the interesting part.\n",
    "\n",
    "This is how we can handle the effect of logging by hand in our new `registerUser` function:"
   ]
  },
  {
   "cell_type": "code",
   "execution_count": 34,
   "metadata": {
    "vscode": {
     "languageId": "plaintext"
    }
   },
   "outputs": [],
   "source": [
    "registerUser :: String -> String -> String -> Log UserAccount\n",
    "registerUser uname password email =\n",
    "  case normalizeUsername uname of\n",
    "    Log logs1 normUname ->\n",
    "      case checkUsernameAvailable normUname of\n",
    "        Log logs2 _ ->\n",
    "          case checkAndGeneratePasswordHash password normUname of\n",
    "            Log logs3 passHash ->\n",
    "              case generateUserID of\n",
    "                Log logs4 userID ->\n",
    "                  case checkForEnterprisePlan email of\n",
    "                    Log logs5 hasEnterp ->\n",
    "                      case insertUserIntoDatabase userID normUname passHash email hasEnterp of\n",
    "                        Log logs6 account ->\n",
    "                          Log (logs1 ++ logs2 ++ logs3 ++ logs4 ++ logs5 ++ logs6) account\n"
   ]
  },
  {
   "cell_type": "markdown",
   "metadata": {},
   "source": [
    "Notice that the pattern is similar to the previous ones but with one important difference: The results are binded between functions as before, but the logs are accumulated at the end. That will slightly affect the implementation, but the concept will remain the same. \n",
    "\n",
    "Ok. So, we see that we repeat the `case` and `Log` lines 6 times and have an extra `Log` line at the end. Let's copy the final five lines:"
   ]
  },
  {
   "cell_type": "markdown",
   "metadata": {},
   "source": [
    "```haskell\n",
    "bindLog = case checkForEnterprisePlan email of\n",
    "            Log logs5 hasEnterp ->\n",
    "              case insertUserIntoDatabase userID normUname passHash email hasEnterp of\n",
    "                Log logs6 account ->\n",
    "                  Log (logs1 ++ logs2 ++ logs3 ++ logs4 ++ logs5 ++ logs6) account\n",
    "\n",
    "```"
   ]
  },
  {
   "cell_type": "markdown",
   "metadata": {},
   "source": [
    "We just took the last two case statements at the end and named them `bindLog`. Why use two case statements instead of just one? Well, in the previous two cases, we could handle the errors independently, one at a time. This time, however, we need to specify how we will combine the logs, and we need two logs to do that.\n",
    "\n",
    "Now, let's generalize the first case statement:"
   ]
  },
  {
   "cell_type": "markdown",
   "metadata": {},
   "source": [
    "```haskell\n",
    "bindLog = case l1 of\n",
    "            Log logs1 val1 ->\n",
    "              case insertUserIntoDatabase userID normUname passHash email hasEnterp of\n",
    "                Log logs6 account ->\n",
    "                  Log (logs1 ++ logs2 ++ logs3 ++ logs4 ++ logs5 ++ logs6) account\n",
    "\n",
    "```"
   ]
  },
  {
   "cell_type": "markdown",
   "metadata": {},
   "source": [
    "We can give the first `Log` action the name `l1`, which contains the `logs1` list of Strings and `val1` as a result. \n",
    "\n",
    "Now, how should we call what continues next? Right now, it's a super-long function name with a bunch of parameters, but in reality, we can generalize this to a function that takes `val1` as a parameter. We have already done this before and called it `cont` for continuation, so let's do that."
   ]
  },
  {
   "cell_type": "markdown",
   "metadata": {},
   "source": [
    "```haskell\n",
    "bindLog = case l1 of\n",
    "            Log logs1 val1 ->\n",
    "              case cont val1 of\n",
    "                Log logs6 account ->\n",
    "                  Log (logs1 ++ logs2 ++ logs3 ++ logs4 ++ logs5 ++ logs6) account\n",
    "\n",
    "```"
   ]
  },
  {
   "cell_type": "markdown",
   "metadata": {},
   "source": [
    "The result of applying `cont` to `val1` and evaluating the `Log` effect generates a new `Log` value that contains the `logs2` list of `String`s and `val2` result:"
   ]
  },
  {
   "cell_type": "markdown",
   "metadata": {},
   "source": [
    "```haskell\n",
    "bindLog = case l1 of\n",
    "            Log logs1 val1 ->\n",
    "              case cont val1 of\n",
    "                Log logs2 val2 ->\n",
    "                  Log (logs1 ++ logs2 ++ logs3 ++ logs4 ++ logs5 ++ logs6) account\n",
    "```"
   ]
  },
  {
   "cell_type": "markdown",
   "metadata": {},
   "source": [
    "Excellent, so we \"ran\" two log effects, generating two `logs` values. The first effect returns the value `val1` that we provided to `cont` to generate the second value `val2`. Now, what we want is to make sure all our logs are present, so we'll concatenate them in the order they were performed and return the final value:"
   ]
  },
  {
   "cell_type": "markdown",
   "metadata": {},
   "source": [
    "```haskell\n",
    "bindLog = case l1 of\n",
    "            Log logs1 val1 ->\n",
    "              case cont val1 of\n",
    "                Log logs2 val2 ->\n",
    "                  Log (logs1 ++ logs2) val2\n",
    "```"
   ]
  },
  {
   "cell_type": "markdown",
   "metadata": {},
   "source": [
    "Ok, we have generalized the pattern here. But, same as before, we're creating `l1` and `cont` out of thin air, so let's provide them as arguments:"
   ]
  },
  {
   "cell_type": "code",
   "execution_count": 35,
   "metadata": {
    "vscode": {
     "languageId": "plaintext"
    }
   },
   "outputs": [
    {
     "data": {
      "text/html": [
       "<style>/* Styles used for the Hoogle display in the pager */\n",
       ".hoogle-doc {\n",
       "display: block;\n",
       "padding-bottom: 1.3em;\n",
       "padding-left: 0.4em;\n",
       "}\n",
       ".hoogle-code {\n",
       "display: block;\n",
       "font-family: monospace;\n",
       "white-space: pre;\n",
       "}\n",
       ".hoogle-text {\n",
       "display: block;\n",
       "}\n",
       ".hoogle-name {\n",
       "color: green;\n",
       "font-weight: bold;\n",
       "}\n",
       ".hoogle-head {\n",
       "font-weight: bold;\n",
       "}\n",
       ".hoogle-sub {\n",
       "display: block;\n",
       "margin-left: 0.4em;\n",
       "}\n",
       ".hoogle-package {\n",
       "font-weight: bold;\n",
       "font-style: italic;\n",
       "}\n",
       ".hoogle-module {\n",
       "font-weight: bold;\n",
       "}\n",
       ".hoogle-class {\n",
       "font-weight: bold;\n",
       "}\n",
       ".get-type {\n",
       "color: green;\n",
       "font-weight: bold;\n",
       "font-family: monospace;\n",
       "display: block;\n",
       "white-space: pre-wrap;\n",
       "}\n",
       ".show-type {\n",
       "color: green;\n",
       "font-weight: bold;\n",
       "font-family: monospace;\n",
       "margin-left: 1em;\n",
       "}\n",
       ".mono {\n",
       "font-family: monospace;\n",
       "display: block;\n",
       "}\n",
       ".err-msg {\n",
       "color: red;\n",
       "font-style: italic;\n",
       "font-family: monospace;\n",
       "white-space: pre;\n",
       "display: block;\n",
       "}\n",
       "#unshowable {\n",
       "color: red;\n",
       "font-weight: bold;\n",
       "}\n",
       ".err-msg.in.collapse {\n",
       "padding-top: 0.7em;\n",
       "}\n",
       ".highlight-code {\n",
       "white-space: pre;\n",
       "font-family: monospace;\n",
       "}\n",
       ".suggestion-warning { \n",
       "font-weight: bold;\n",
       "color: rgb(200, 130, 0);\n",
       "}\n",
       ".suggestion-error { \n",
       "font-weight: bold;\n",
       "color: red;\n",
       "}\n",
       ".suggestion-name {\n",
       "font-weight: bold;\n",
       "}\n",
       "</style><span class='get-type'>bindLog :: forall t a. Log t -> (t -> Log a) -> Log a</span>"
      ],
      "text/plain": [
       "bindLog :: forall t a. Log t -> (t -> Log a) -> Log a"
      ]
     },
     "metadata": {},
     "output_type": "display_data"
    }
   ],
   "source": [
    "bindLog l1 cont = case l1 of\n",
    "                     Log logs1 val1 ->\n",
    "                       case cont val1 of\n",
    "                         Log logs2 val2 ->\n",
    "                           Log (logs1 ++ logs2) val2\n",
    "\n",
    ":t bindLog"
   ]
  },
  {
   "cell_type": "markdown",
   "metadata": {},
   "source": [
    "And we're done. We can explain the pattern by saying: \"We take a `Log` action and a continuation. We evaluate the action and provide the result to the continuation. Then, we evaluate the continuation to get the final result and return it wrapped in a `Log` constructor with the logs combined in the correct sequence.\n",
    "\n",
    "The only change with respect to the previous bindings is that we needed to extract a bigger pattern to specify how to combine the logs. However, that's just an implementation detail. How we define the bind function depends highly on the \"effect\" we want to represent. What stays the same is the type and meaning of the function.\n",
    "\n",
    "We can replace the patterns with the `bindLog` function to get our final expression for `registerUser`:"
   ]
  },
  {
   "cell_type": "code",
   "execution_count": 37,
   "metadata": {
    "vscode": {
     "languageId": "plaintext"
    }
   },
   "outputs": [
    {
     "data": {
      "text/plain": [
       "Log [\"Username normalized: John\",\"Username is available: john\",\"Password validated and hashed\",\"Generated user ID: 123456\",\"Checked enterprise status for: john@enterprise.com\",\"Inserted user into database: john\"] (UserAccount {userId = \"123456\", userName = \"john\", userPassHash = \"pass123456\", userEmail = \"john@enterprise.com\", userHasEnterprise = False})"
      ]
     },
     "metadata": {},
     "output_type": "display_data"
    },
    {
     "data": {
      "text/plain": [
       "Log [\"Username normalized: Alice\",\"Username is available: alice\",\"Password too short\",\"Generated user ID: 123456\",\"Checked enterprise status for: alice@gmail.com\",\"Inserted user into database: alice\"] (UserAccount {userId = \"123456\", userName = \"alice\", userPassHash = \"alice\", userEmail = \"alice@gmail.com\", userHasEnterprise = False})"
      ]
     },
     "metadata": {},
     "output_type": "display_data"
    },
    {
     "data": {
      "text/plain": [
       "Log [\"Username normalized: root\",\"Username unavailable: root\",\"Password validated and hashed\",\"Generated user ID: 123456\",\"Checked enterprise status for: root@example.com\",\"Inserted user into database: root\"] (UserAccount {userId = \"123456\", userName = \"root\", userPassHash = \"root123456\", userEmail = \"root@example.com\", userHasEnterprise = False})"
      ]
     },
     "metadata": {},
     "output_type": "display_data"
    }
   ],
   "source": [
    "registerUser' :: String -> String -> String -> Log UserAccount\n",
    "registerUser' uname password email =\n",
    "  normalizeUsername uname                         `bindLog` ( \\normUname ->\n",
    "  checkUsernameAvailable normUname                `bindLog` ( \\_ ->\n",
    "  checkAndGeneratePasswordHash password normUname `bindLog` ( \\passHash ->\n",
    "  generateUserID                                  `bindLog` ( \\userID ->\n",
    "  checkForEnterprisePlan email                    `bindLog` ( \\hasEnterp ->\n",
    "  insertUserIntoDatabase userID normUname passHash email hasEnterp)))))\n",
    "\n",
    "\n",
    "registerUser' \"John\"  \"pass123456\" \"john@enterprise.com\"\n",
    "registerUser' \"Alice\" \"alice\"      \"alice@gmail.com\"\n",
    "registerUser' \"root\"  \"root123456\" \"root@example.com\""
   ]
  },
  {
   "cell_type": "markdown",
   "metadata": {},
   "source": [
    "Awesome! We did enough groundwork to present our first definition for the Monad type class:"
   ]
  },
  {
   "cell_type": "markdown",
   "metadata": {},
   "source": [
    "## Abstracting the `Monad` Type Class"
   ]
  },
  {
   "cell_type": "markdown",
   "metadata": {},
   "source": [
    "If we zoom out a little bit, there are two things that we have accomplished so far. One is that if we take any of the `registerUser` definitions we had so far and change the name of the `bindSomething` function to just `bind`, we completely hide the effects and only leave the sequence of logical steps visible:"
   ]
  },
  {
   "cell_type": "markdown",
   "metadata": {},
   "source": [
    "```haskell\n",
    "registerUser' uname password email =\n",
    "  normalizeUsername uname                         `bind` ( \\normUname ->\n",
    "  checkUsernameAvailable normUname                `bind` ( \\_ ->\n",
    "  checkAndGeneratePasswordHash password normUname `bind` ( \\passHash ->\n",
    "  generateUserID                                  `bind` ( \\userID ->\n",
    "  checkForEnterprisePlan email                    `bind` ( \\hasEnterp ->\n",
    "  insertUserIntoDatabase userID normUname passHash email hasEnterp)))))\n",
    "```"
   ]
  },
  {
   "cell_type": "markdown",
   "metadata": {},
   "source": [
    "This is an amazing accomplishment! The next person who reads the code will be able to focus on the logic of our function instead of dealing with the effects.\n",
    "\n",
    "On top of that, we generated three higher-order functions that have the same interface and represent the same concept!:"
   ]
  },
  {
   "cell_type": "markdown",
   "metadata": {
    "vscode": {
     "languageId": "plaintext"
    }
   },
   "source": [
    "```haskell\n",
    "bindMaybe  :: Maybe    a -> (a -> Maybe    b) -> Maybe    b\n",
    "bindEither :: Either e a -> (a -> Either e b) -> Either e b\n",
    "bindLog    :: Log      a -> (a -> Log      b) -> Log      b\n",
    "```"
   ]
  },
  {
   "cell_type": "markdown",
   "metadata": {},
   "source": [
    "You can clearly see that the interface is the same. A function that takes an action of type `Something a` as a first parameter, runs the action to extract the value of type `a`, and applies the function provided as second parameter to this value of type `a` to get a new action of type `Something b`.\n",
    "\n",
    "In other words, we're binding effects by allowing the second effect to use the result of the first effect. Something we didn't have an abstraction for before.\n",
    "\n",
    "This seems (and it is!) a pretty useful concept, so we'll create a type class to represent it. Here's our initial approximation of the `Monad` typeclass definition:"
   ]
  },
  {
   "cell_type": "markdown",
   "metadata": {},
   "source": [
    "**Initial approximation:**\n",
    "\n",
    "\"A `Monad` is a type with an operator to sequentially compose two actions, passing any value produced by the first as an argument to the second.\"\n",
    "\n",
    "```haskell\n",
    "class Monad m where\n",
    "    (>>=) :: m a -> (a -> m b) -> m b\n",
    "```"
   ]
  },
  {
   "cell_type": "markdown",
   "metadata": {},
   "source": [
    "This is not the final type class. But it already encapsulates the concept of `Monad`, and it's enough to define a couple of instances to have something to work with while we figure out the rest.\n",
    "\n",
    "Why do I use this weird symbol instead of writing something like `bindM` like the previous examples? Well, in all three examples, it looked better to put the `bindSomehting` function as an infix function. So, it's best to create this function as an infix operator from the get-go. Same as with `Applicative`'s \"apply\" (`<*>`) operator."
   ]
  },
  {
   "cell_type": "markdown",
   "metadata": {},
   "source": [
    "Using this definition, we could implement the `Monad` instances for `Maybe`, `Either e`, and `Log` like this:"
   ]
  },
  {
   "cell_type": "markdown",
   "metadata": {},
   "source": [
    "```haskell\n",
    "instance Monad Maybe where\n",
    "    -- (>>=) :: Maybe a -> (a -> Maybe b) -> Maybe b\n",
    "    (>>=) = bindMaybe\n",
    "\n",
    "instance Monad (Either e) where\n",
    "    -- (>>=) :: Either e a -> (a -> Either e b) -> Either e b\n",
    "    (>>=) = bindEither\n",
    "\n",
    "instance Monad Log where\n",
    "    -- (>>=) :: Log a -> (a -> Log b) -> Log b\n",
    "    (>>=) = bindLog\n",
    "```"
   ]
  },
  {
   "cell_type": "markdown",
   "metadata": {},
   "source": [
    "Having the name of the functions may be too much of an indirection, so let's replace the names with their bodies and simplify a bit to get the same instances:"
   ]
  },
  {
   "cell_type": "markdown",
   "metadata": {},
   "source": [
    "```haskell\n",
    "instance Monad Maybe where\n",
    "    -- (>>=) :: Maybe a -> (a -> Maybe b) -> Maybe b\n",
    "    (Just x) >>= k      = k x\n",
    "    Nothing  >>= _      = Nothing\n",
    "\n",
    "instance Monad (Either e) where\n",
    "    -- (>>=) :: Either e a -> (a -> Either e b) -> Either e b\n",
    "    Left  l >>= _ = Left l\n",
    "    Right r >>= k = k r\n",
    "\n",
    "instance Monad Log where\n",
    "     -- (>>=) :: Log a -> (a -> Log b) -> Log b\n",
    "    (Log logs val) >>= k =\n",
    "      case k val of\n",
    "        Log newLogs newVal -> Log (logs ++ newLogs) newVal\n",
    "```"
   ]
  },
  {
   "cell_type": "markdown",
   "metadata": {},
   "source": [
    "These are the same definitions we derived earlier but with a few aesthetic changes. We pattern match instead of using case expressions, and we changed the name of the continuation function from `cont` to `k` because that's the name we use as a convention. "
   ]
  },
  {
   "cell_type": "markdown",
   "metadata": {},
   "source": [
    "And with these instances, all definitions of `registerUser` would look like this:"
   ]
  },
  {
   "cell_type": "markdown",
   "metadata": {},
   "source": [
    "```haskell\n",
    "registerUser' uname password email =\n",
    "  normalizeUsername uname                         >>= ( \\normUname ->\n",
    "  checkUsernameAvailable normUname                >>= ( \\_ ->\n",
    "  checkAndGeneratePasswordHash password normUname >>= ( \\passHash ->\n",
    "  generateUserID                                  >>= ( \\userID ->\n",
    "  checkForEnterprisePlan email                    >>= ( \\hasEnterp ->\n",
    "  insertUserIntoDatabase userID normUname passHash email hasEnterp)))))\n",
    "```"
   ]
  },
  {
   "cell_type": "markdown",
   "metadata": {},
   "source": [
    "## The abstraction `Monad`chy"
   ]
  },
  {
   "cell_type": "markdown",
   "metadata": {},
   "source": [
    "To better understand the `Monad` type class, let's see how it relates to `Functor` and `Applicative`.\n",
    "\n",
    "The relationship between `Functor`, `Applicative`, and `Monad` has a clear hierarchy in theory and practice. We won't discuss their relationship from the category theory point of view in this course because you don't need to know that to be an effective Haskell developer. But what you do need to know to be an effective Haskell developer is how these type classes relate to each other and which one you should use when."
   ]
  },
  {
   "cell_type": "markdown",
   "metadata": {},
   "source": [
    "In the past, Phil Wadler discovered that the concept of `Monad` would be helpful to sequence effects in our lazy language. We also knew that `Functor` was a powerful concept. So, in the first Haskell report of '98, we had those two type classes, but they were unrelated:"
   ]
  },
  {
   "cell_type": "markdown",
   "metadata": {},
   "source": [
    "<img src=\"../images/haskell98_typeclasses.gif\"\n",
    "  style=\"\n",
    "  display:block;\n",
    "  margin-left: 20%;\n",
    "  margin-right: auto;\n",
    "  width: 64%;\"/>"
   ]
  },
  {
   "cell_type": "markdown",
   "metadata": {},
   "source": [
    "This diagram shows the hierarchy of Haskell type classes defined in the Prelude and the types that are instances of these classes.\n",
    "\n",
    "As you can see at the bottom, `Monad` had no dependencies, `Functor` didn't relate to any other type class, and there was no `Applicative`. On top of that, the functions that these type classes provided were slightly different than the modern ones.\n",
    "\n",
    "Even though the details of how this evolved to the current state and how it will still evolve are interesting, for the sake of time, this is the overview:"
   ]
  },
  {
   "cell_type": "markdown",
   "metadata": {},
   "source": [
    "- 1998: \"The Haskell 98 Report\" is presented. It contains `Functor` typeclass with one behavior (`fmap`) and the `Monad` type class with four behaviors (`>>=`,`>>`, `return`, and `fail`).\n",
    "\n",
    "- 2008: In their paper \"Applicative programming with effects\", Conor McBride and Ross Paterson present the `Applicative` type class, which fills a conceptual gap between `Functor` and `Monad` by enabling function application within a context/effect.\n",
    "\n",
    "- 2014: \"The Applicative-Monad Proposal (AMP)\" was presented to reconcile the mathematical hierarchy—where every Monad is an Applicative Functor—with the language’s implementation. The key motivation was to reduce code duplication, make Haskell more beginner friendly, and achieve theoretical consistency. The AMP proposal added `Applicative` to the Prelude and made it a superclass of `Monad`.\n",
    "\n",
    "- 2018: \"The MonadFail Proposal (MFP)\" was presented to remove the `fail` behavior from `Monad`. The problem with having this is that `fail` cannot be sensibly implemented for many monads, defaulting to `error` for those cases. As a consequence, you couldn't use `Monad` polymorphic code safely."
   ]
  },
  {
   "cell_type": "markdown",
   "metadata": {},
   "source": [
    "Ok, then, you might ask, why should I care about the history of these type classes? Why not just tell me the current state, and that's it? Well, because code doesn't magically update itself once we decide to change something. Things take time, and transitions that could potentially break thousands of projects and libraries must be done carefully. ThForou, the beginner, methis ans that you might see things that don't make sense, assume there's a reason you don't understand, and become frustrated.\n",
    "\n",
    "The reality is that most of the things that confuse beginners stop being confusing after learning the history behind them. The `Monad` type class is an example. This is the current `Monad` type class as defined in the `base` library at the time of recording:"
   ]
  },
  {
   "cell_type": "markdown",
   "metadata": {},
   "source": [
    "```haskell\n",
    "class Applicative m => Monad m where\n",
    "    -- Sequentially compose two actions, passing any value produced by the first as an argument to the second.\n",
    "    (>>=) :: m a -> (a -> m b) -> m b\n",
    "\n",
    "    -- Sequentially compose two actions, discarding any value produced by the first.\n",
    "    -- Conceptually the same as *>\n",
    "    (>>)  :: m a -> m b -> m b\n",
    "    m >> k = m >>= \\_ -> k \n",
    "\n",
    "    -- Inject a value into the monadic type.\n",
    "    -- Exactly the same as pure\n",
    "    return      :: a -> m a\n",
    "    return      = pure \n",
    "```"
   ]
  },
  {
   "cell_type": "markdown",
   "metadata": {},
   "source": [
    "As you can see, the `m` type variable in `Monad m` is constrained by the `Applicative` type class. This makes sense since, in 2014, we added the requirement that every `Monad` is an `Applicative` Functor.\n",
    "\n",
    "Another thing that makes sense is the bind operator (`>>=`) since it's the function that represents the concept of the `Monad` type class. It's all good so far. However, what comes next could be confusing for newcomers.\n",
    "\n",
    "You might remember the second operator from the IO lesson. We call it the \"then\" operator (`>>`). This operator sequentially composes two actions, discarding any value produced by the first. The default definition highlights this by using the bind operator but discarding whatever is returned from the previous action with a lambda function.\n",
    "But wait, what? We already have an operator that does that using the `Applicative` type class (`*>`). The `>>` operator is defined using the `>>=` operator, so its implementation might differ, but we're creating a new operator for the same concept!\n",
    "\n",
    "To make things worse, we see that the last behavior, `return` (which we also remember from the IO lesson), not only represents the same concept as `pure`, lifting a pure value to the `Applicative` and now `Monadic` context, but it also uses `Applicative`'s `pure` as the fault definition! Even the implementation is the same!\n",
    "\n",
    "What is going on here!?\n",
    "\n",
    "Well, you guessed it, history is what's going on. Because we didn't have the `Applicative` type class when `Monad` was introduced, all behaviors related to lifting and sequencing were part of the `Monad` type class. And now that we do have the `Applicative` type class, we have a lot of repetition.\n",
    "\n",
    "Sadly, this is not the only case like this, but we're working on it! In 2021, \"The Monad of no return\" proposal was presented. It aims to remove `return` and `>>` from the `Monad` type class. However, **this proposal is still in discussion to this day**. Some like the proposal, others don't. Whatever is the case now or in the future, you know now the reason and use case of every behavior in the `Monad` type class, but there's one question we have to answer for the current time being, and that is:"
   ]
  },
  {
   "cell_type": "markdown",
   "metadata": {},
   "source": [
    "Which type class should I use if more than one would do?"
   ]
  },
  {
   "cell_type": "markdown",
   "metadata": {},
   "source": [
    "Due to the close relationship between these type classes, sometimes you can achieve the same thing with more than one. For example, if you want to sequence effects ignoring the values, you could use both `Applicative` or `Monad`. So, which one should you use?\n",
    "\n",
    "Here's a diagram that might help:"
   ]
  },
  {
   "cell_type": "markdown",
   "metadata": {},
   "source": [
    "<img src=\"../images/abstraction_pyramid.png\"\n",
    "  style=\"\n",
    "  display:block;\n",
    "  margin-left: 20%;\n",
    "  margin-right: auto;\n",
    "  width: 64%;\"/>"
   ]
  },
  {
   "cell_type": "markdown",
   "metadata": {},
   "source": [
    "This stack of cylinders clearly states the hierarchy between these type classes. All Applicatives are Functors, and all Monads are Applicatives, but not vice versa. So, many types will be able to have a meaningful Functor instance that follows all Functors' laws. A smaller subset of those types will be able to have a meaningful Applicative instance that follows all Applicative laws. Finally, an even smaller subset will be able to have a meaningful Monad instance that follows all Monadic laws. \n",
    "\n",
    "The more up you go, the more restrictive it is (because your type has to comply with stricter rules), but the more power that type will have in exchange.\n",
    "\n",
    "In general, you want to restrict your implementations as little as possible, so unless there's a reason not to, you should prefer the less restrictive type. If, further along the line, you realize you need more power, you can move up the ladder.\n",
    "\n",
    "In other words, always use the least powerful abstraction that satisfies your needs. This will help you write more general and reusable code."
   ]
  },
  {
   "cell_type": "markdown",
   "metadata": {},
   "source": [
    "Now, before moving on to figuring out the `Monad` laws, let's do some quick mental exercises. What is the result of:"
   ]
  },
  {
   "cell_type": "code",
   "execution_count": 39,
   "metadata": {},
   "outputs": [
    {
     "data": {
      "text/plain": [
       "Just 3"
      ]
     },
     "metadata": {},
     "output_type": "display_data"
    }
   ],
   "source": [
    "return 3 :: Maybe Int"
   ]
  },
  {
   "cell_type": "code",
   "execution_count": 40,
   "metadata": {},
   "outputs": [
    {
     "data": {
      "text/plain": [
       "Right \"Hey!\""
      ]
     },
     "metadata": {},
     "output_type": "display_data"
    }
   ],
   "source": [
    "Right \"Hey\" >>= (\\x -> Right (x ++ \"!\"))"
   ]
  },
  {
   "cell_type": "code",
   "execution_count": 41,
   "metadata": {},
   "outputs": [
    {
     "data": {
      "text/plain": [
       "Left \"Hey\""
      ]
     },
     "metadata": {},
     "output_type": "display_data"
    }
   ],
   "source": [
    "Left \"Hey\" >>= (\\x -> Right (x ++ \"!\"))"
   ]
  },
  {
   "cell_type": "code",
   "execution_count": 42,
   "metadata": {},
   "outputs": [
    {
     "ename": "",
     "evalue": "",
     "output_type": "error",
     "traceback": [
      "<interactive>:1:1: error:\n    • No instance for (Monad Log) arising from a use of ‘>>=’\n    • In the expression: return True >>= unoReverse >>= unoReverse\n      In an equation for ‘it’: it = return True >>= unoReverse >>= unoReverse"
     ]
    }
   ],
   "source": [
    "unoReverse x = Log [\"uno reverse\"] (not x)\n",
    "\n",
    "return True >>= unoReverse >>= unoReverse"
   ]
  },
  {
   "cell_type": "markdown",
   "metadata": {},
   "source": [
    "Ahaha! What happened here? `Maybe` and `Either`'s `Monad` instances come out of the box, but we just came up with the `Log` type, so we have to define the `Monad` instance. And because of what we just discussed, we need the `Applicative` instance to define the `Monad` instance, which in turn needs the `Functor` instance. So, let's define them in order. This is the `Functor` instance for the `Log` type:"
   ]
  },
  {
   "cell_type": "code",
   "execution_count": 43,
   "metadata": {},
   "outputs": [
    {
     "data": {
      "text/plain": [
       "True"
      ]
     },
     "metadata": {},
     "output_type": "display_data"
    }
   ],
   "source": [
    "instance Functor Log where\n",
    "  fmap f (Log logs val) = Log logs (f val)\n",
    "\n",
    "---------------- Check laws ----------------\n",
    "-- If it follows identity law, it implicitly follows the composition law)\n",
    "fmap id (Log [\"test\"] 1) == id (Log [\"test\"] 1)"
   ]
  },
  {
   "cell_type": "markdown",
   "metadata": {},
   "source": [
    "In the case of `Log`, the logs are part of the structure, so we only apply the function to the value. We also check that the instance follows the Functor laws. \n",
    "\n",
    "Now, we can define the `Applicative` instance like this:"
   ]
  },
  {
   "cell_type": "code",
   "execution_count": 44,
   "metadata": {},
   "outputs": [
    {
     "data": {
      "text/plain": [
       "True"
      ]
     },
     "metadata": {},
     "output_type": "display_data"
    },
    {
     "data": {
      "text/plain": [
       "True"
      ]
     },
     "metadata": {},
     "output_type": "display_data"
    },
    {
     "data": {
      "text/plain": [
       "True"
      ]
     },
     "metadata": {},
     "output_type": "display_data"
    },
    {
     "data": {
      "text/plain": [
       "True"
      ]
     },
     "metadata": {},
     "output_type": "display_data"
    }
   ],
   "source": [
    "instance Applicative Log where\n",
    "  pure = Log []\n",
    "  (Log logs1 f) <*> (Log logs2 val) = Log (logs1 ++ logs2) (f val)\n",
    "  --(Log logs1 f) <*> (Log logs2 val) = Log logs2 (f val)\n",
    "\n",
    "---------------- Check laws ----------------\n",
    "valueLog = Log [\"some value\"] 6\n",
    "timesTwoLog = Log [\"times two\"] (*2)\n",
    "showLog = Log [\"show it\"] show\n",
    "\n",
    "(pure id <*> valueLog) == valueLog -- Identity\n",
    "\n",
    "(pure show <*> pure 3) == ((pure (show 3)) :: Log String) -- Homomorphism\n",
    "\n",
    "((pure (.) <*> showLog <*> timesTwoLog) <*> valueLog) == (showLog <*> (timesTwoLog <*> valueLog)) -- Composition\n",
    "\n",
    "(timesTwoLog <*> pure 3) == (pure (\\f -> f 3) <*> timesTwoLog ) -- Interchange"
   ]
  },
  {
   "cell_type": "markdown",
   "metadata": {},
   "source": [
    "For the `Applicative` instance, we said that the `Log` type represents the effect of logging. So, to define `pure`, we need to produce a `Log` value with no effect. What would be to produce no logging effect? In our implementation, we can provide a list of logs but with no log inside it. No logs, no effect. That is it for the `pure` function.\n",
    "\n",
    "The apply operator is a bit more complicated. We use pattern matching to extract the logs and values of both structures. Then, because we know that the first value is a function that we need to apply to the second value, we just do that. \n",
    "\n",
    "The value is taken care of. But what about the effect? We could think of two obvious things:\n",
    "- One is that we could keep the last one only, losing all previous logs.\n",
    "- The other is to concatenate them in the order we evaluated them. \n",
    "\n",
    "Any other choice wouldn't make sense.\n",
    "\n",
    "So, between these two, the second choice would keep all the logs in the same order as the expressions we evaluated, which is the desired effect, so that's intuitively the best choice. And if you're not convinced it's the best choice, why not check with the laws?\n",
    "\n",
    "If we check all four Applicative laws for the case of keeping only the last log, we see that our instance breaks the \"Interchange law\". However, if we concatenate the logs, which is the option that makes more sense, we'll see that we do respect all laws.\n",
    "\n",
    "Great! Now, we can define the `Monad` instance by defining `>>=` like this:"
   ]
  },
  {
   "cell_type": "code",
   "execution_count": 45,
   "metadata": {},
   "outputs": [],
   "source": [
    "instance Monad Log where\n",
    "     -- (>>=) :: Log a -> (a -> Log b) -> Log b\n",
    "    (Log logs val) >>= k =\n",
    "      case k val of\n",
    "        Log newLogs newVal -> Log (logs ++ newLogs) newVal"
   ]
  },
  {
   "cell_type": "markdown",
   "metadata": {},
   "source": [
    "Now, let's try the mental exercise that didn't work again. What is the result of:"
   ]
  },
  {
   "cell_type": "code",
   "execution_count": 46,
   "metadata": {},
   "outputs": [
    {
     "data": {
      "text/plain": [
       "Log [\"uno reverse\",\"uno reverse\"] True"
      ]
     },
     "metadata": {},
     "output_type": "display_data"
    }
   ],
   "source": [
    "unoReverse x = Log [\"uno reverse\"] (not x)\n",
    "\n",
    "return True >>= unoReverse >>= unoReverse"
   ]
  },
  {
   "cell_type": "markdown",
   "metadata": {},
   "source": [
    "Thanks to our logs, we know that the final `True` value was reversed two times before being returned. We have a working instance of `Monad` for a type we invented.\n",
    "\n",
    "Sadly, as with `Semigroup`, `Monoid`, `Functor`, and `Applicative`, not everything is reflected in the type class definition. So, we have to complement it with a few laws."
   ]
  },
  {
   "cell_type": "markdown",
   "metadata": {},
   "source": [
    "## The `Monad`ic Laws"
   ]
  },
  {
   "cell_type": "markdown",
   "metadata": {},
   "source": [
    "Monads have three laws that we must look out for when creating instances of the type class. \n",
    "\n",
    "The first one is the **left identity** law:"
   ]
  },
  {
   "cell_type": "markdown",
   "metadata": {},
   "source": [
    "**Left identity**\n",
    "\n",
    "```haskell\n",
    "return a >>= k = k a\n",
    "```"
   ]
  },
  {
   "cell_type": "markdown",
   "metadata": {},
   "source": [
    "`return` is just a regular function equal to `pure`, `a` is any value, and `k` is the continuation function. So, lifting a pure value to the `Monad` level and binding that with the continuation function is equal to directly applying the continuation function to the pure value. Let's see how this looks for all the instances we have worked with so far, starting with the `Maybe` type:"
   ]
  },
  {
   "cell_type": "code",
   "execution_count": 47,
   "metadata": {
    "scrolled": true,
    "vscode": {
     "languageId": "plaintext"
    }
   },
   "outputs": [
    {
     "data": {
      "text/plain": [
       "True"
      ]
     },
     "metadata": {},
     "output_type": "display_data"
    },
    {
     "data": {
      "text/plain": [
       "True"
      ]
     },
     "metadata": {},
     "output_type": "display_data"
    },
    {
     "data": {
      "text/plain": [
       "Just 4"
      ]
     },
     "metadata": {},
     "output_type": "display_data"
    }
   ],
   "source": [
    "k1 x = Just (x + 1) -- Some computation that might fail\n",
    "k2 _ = Nothing      -- Some computation that might fail\n",
    "\n",
    "(return 3 >>= k1) == (k1 3) \n",
    "(return 3 >>= k2) == (k2 3) \n",
    "\n",
    "(return 3 >>= k1)"
   ]
  },
  {
   "cell_type": "markdown",
   "metadata": {},
   "source": [
    "We have two continuation functions: one where the function succeeds and another fails. We can see that the Left Identity law is respected in both cases.\n",
    "\n",
    "Trivially, the same can be seen for the `Eiter e` type:"
   ]
  },
  {
   "cell_type": "code",
   "execution_count": 48,
   "metadata": {
    "vscode": {
     "languageId": "plaintext"
    }
   },
   "outputs": [
    {
     "data": {
      "text/plain": [
       "True"
      ]
     },
     "metadata": {},
     "output_type": "display_data"
    },
    {
     "data": {
      "text/plain": [
       "True"
      ]
     },
     "metadata": {},
     "output_type": "display_data"
    },
    {
     "data": {
      "text/plain": [
       "Left \"I failed\""
      ]
     },
     "metadata": {},
     "output_type": "display_data"
    }
   ],
   "source": [
    "k1 x = Right (x + 1)    -- Some operation that might fail with `Either e`\n",
    "k2 x = Left \"I failed\"  -- Some operation that might fail with `Either e`\n",
    "\n",
    "(return 3 >>= k1) == (k1 3) \n",
    "(return 3 >>= k2) == (k2 3) \n",
    "\n",
    "(return 3 >>= k2)"
   ]
  },
  {
   "cell_type": "markdown",
   "metadata": {},
   "source": [
    "And finally, we can also check this law for our `Log` type:"
   ]
  },
  {
   "cell_type": "code",
   "execution_count": 49,
   "metadata": {},
   "outputs": [
    {
     "data": {
      "text/plain": [
       "True"
      ]
     },
     "metadata": {},
     "output_type": "display_data"
    },
    {
     "data": {
      "text/plain": [
       "Log [\"I added 1 to 3\"] 4"
      ]
     },
     "metadata": {},
     "output_type": "display_data"
    }
   ],
   "source": [
    "k1 x = Log [\"Added 1 to \" ++ show x] (1+x) -- Some operation that logs\n",
    "\n",
    "(return 3 >>= k1) == (k1 3) \n",
    "(return 3 >>= k1)"
   ]
  },
  {
   "cell_type": "markdown",
   "metadata": {},
   "source": [
    "We have a continuation function that takes any number and adds one to it. However, it also logs its action. Since `return` is just `pure`, which we defined as equal to an empty log (`Log [] x`), `return 3` is just `Log [] 3`. Then, if we run the effect of that with the binding operation, we get the pure three back, and we concatenate the empty list with whatever string `k1` has. So, we end up with the exact `String` `k1` had. \n",
    "\n",
    "At the end of the day, the whole thing on the left side of the equals sign is the same as directly applying the continuation function to the `3` since concatenating an empty list with a list is the same as the original list."
   ]
  },
  {
   "cell_type": "markdown",
   "metadata": {},
   "source": [
    "Ok, we have one down, two to go! The next one is also super easy:"
   ]
  },
  {
   "cell_type": "markdown",
   "metadata": {},
   "source": [
    "**Right identity**\n",
    "```haskell\n",
    "    m >>= return = m\n",
    "```"
   ]
  },
  {
   "cell_type": "markdown",
   "metadata": {},
   "source": [
    "Binding an action with `return` is the same as the original action. This is because the bind operation runs the effect and provides the result to `return`, which in turn lifts the result back to the `Monad` level but without any effect.\n",
    "\n",
    "Let's see a few examples:"
   ]
  },
  {
   "cell_type": "code",
   "execution_count": 50,
   "metadata": {
    "scrolled": true
   },
   "outputs": [
    {
     "data": {
      "text/plain": [
       "True"
      ]
     },
     "metadata": {},
     "output_type": "display_data"
    },
    {
     "data": {
      "text/plain": [
       "True"
      ]
     },
     "metadata": {},
     "output_type": "display_data"
    },
    {
     "data": {
      "text/plain": [
       "True"
      ]
     },
     "metadata": {},
     "output_type": "display_data"
    }
   ],
   "source": [
    "(Just 3 >>= return) == Just 3\n",
    "\n",
    "(Left \"error\" >>= return) == Left \"error\"\n",
    "\n",
    "(Log [\"something\"] 3 >>= return) == Log [\"something\"] 3"
   ]
  },
  {
   "cell_type": "markdown",
   "metadata": {},
   "source": [
    "Between the left and right identity laws, we have proven that the `return` function can lift values or functions to the `Monad` level on both sides of the bind operator without changing the effects. Using the terminology we used for previous lessons, the `return` function should respect the `Monad`'s structure."
   ]
  },
  {
   "cell_type": "markdown",
   "metadata": {},
   "source": [
    "The third and last law is the **Associativity law**:"
   ]
  },
  {
   "cell_type": "markdown",
   "metadata": {},
   "source": [
    "**Associativity**\n",
    "```haskell\n",
    "    m >>= (\\x -> k x >>= h) = (m >>= k) >>= h\n",
    "```"
   ]
  },
  {
   "cell_type": "markdown",
   "metadata": {},
   "source": [
    "Much like `Applicative`'s composition law, the Associativity law ensures that monadic composition is associative. \n",
    "\n",
    "**Binding the first action with the result of binding the second and third actions is the same as binding the first and second actions and then binding the third action.**\n",
    "\n",
    "In practice, this means we can regroup actions and nest binds in a way that makes sense to us and our software's logic without changing the resulting effect or value.\n",
    "\n",
    "Let's check if our instances follow this law:"
   ]
  },
  {
   "cell_type": "code",
   "execution_count": 51,
   "metadata": {},
   "outputs": [
    {
     "data": {
      "text/plain": [
       "True"
      ]
     },
     "metadata": {},
     "output_type": "display_data"
    },
    {
     "data": {
      "text/plain": [
       "Just 13"
      ]
     },
     "metadata": {},
     "output_type": "display_data"
    }
   ],
   "source": [
    "m = Just 5\n",
    "k x = Just (x * 2)\n",
    "--k x = Nothing\n",
    "h x = Just (x + 3)\n",
    "\n",
    "leftSide = m >>= (\\x -> k x >>= h)\n",
    "rightSide = (m >>= k) >>= h\n",
    "\n",
    "\n",
    "leftSide == rightSide\n",
    "leftSide"
   ]
  },
  {
   "cell_type": "markdown",
   "metadata": {},
   "source": [
    "We chose `Just 5` as the first action. Then, the two actions that we'll bind will be one that multiplies by two and one that adds three. If this law holds, it means that we should get `5*2+3 = 13` independent of how we group the actions.\n",
    "\n",
    "This law should also hold if any of the actions fail; We can check that by changing the result of any of the actions to `Nothing`.\n",
    "\n",
    "The law holds in both cases. So, we have a valid `Monad` instance for the `Maybe` type. Let's keep going."
   ]
  },
  {
   "cell_type": "code",
   "execution_count": 52,
   "metadata": {},
   "outputs": [
    {
     "data": {
      "text/plain": [
       "True"
      ]
     },
     "metadata": {},
     "output_type": "display_data"
    },
    {
     "data": {
      "text/plain": [
       "Right 13"
      ]
     },
     "metadata": {},
     "output_type": "display_data"
    }
   ],
   "source": [
    "m = Right 5\n",
    "k x = Right (x * 2)\n",
    "--k x = Left \"Error\"\n",
    "h x = Right (x + 3)\n",
    "\n",
    "leftSide = m >>= (\\x -> k x >>= h)\n",
    "rightSide =(m >>= k) >>= h\n",
    "\n",
    "\n",
    "leftSide == rightSide\n",
    "leftSide"
   ]
  },
  {
   "cell_type": "markdown",
   "metadata": {},
   "source": [
    "Here, we can see that the `Either e` instance also follows the associativity law in both cases. This means we have a valid `Monad` instance for the `Either e` type. Not surprising, I know.\n",
    "\n",
    "What about our custom `Log` type?:"
   ]
  },
  {
   "cell_type": "code",
   "execution_count": 53,
   "metadata": {},
   "outputs": [
    {
     "data": {
      "text/plain": [
       "True"
      ]
     },
     "metadata": {},
     "output_type": "display_data"
    },
    {
     "data": {
      "text/plain": [
       "Log [\"initial\",\"5 times two\",\"10 plus three\"] 13"
      ]
     },
     "metadata": {},
     "output_type": "display_data"
    }
   ],
   "source": [
    "m = Log [\"initial\"] 5\n",
    "k x = Log [show x ++ \" times two\"] (x * 2)\n",
    "h x = Log [show x ++ \" plus three\"] (x + 3)\n",
    "\n",
    "leftSide = m >>= (\\x -> k x >>= h)\n",
    "rightSide =(m >>= k) >>= h\n",
    "\n",
    "\n",
    "leftSide == rightSide\n",
    "leftSide"
   ]
  },
  {
   "cell_type": "markdown",
   "metadata": {},
   "source": [
    "Here, we have the same action and functions but with `Log` effects. As you can see, each action has a different log. Based on what we know, would the law hold?\n",
    "\n",
    "If we run this, we see that, yes! It indeed holds. In both cases, the logs are in the correct order, and the value is also `13`. We can also see in the logs that the order the effects were run was correct: first, `5*2`, and then the result of that, `10`, plus `3`. "
   ]
  },
  {
   "cell_type": "markdown",
   "metadata": {},
   "source": [
    "And those are the three Monadic laws. Way easier than `Applicative` laws, right?\n",
    "\n",
    "With this, we covered everything needed to show our final definition of the `Monad` type class."
   ]
  },
  {
   "cell_type": "markdown",
   "metadata": {},
   "source": [
    "## `Monad` as defined in `base`"
   ]
  },
  {
   "cell_type": "markdown",
   "metadata": {},
   "source": [
    "The `Monad` type class is currently defined in `base` as:"
   ]
  },
  {
   "cell_type": "markdown",
   "metadata": {},
   "source": [
    "**A `Monad` is an `Applicative` with operations to embed pure expressions (`return`) and to sequentially compose two actions, both passing any value produced by the first as an argument to the second (`>>=`) and discarding any value produced by the first (`>>`)**\n",
    "\n",
    "```haskell\n",
    "class Applicative m => Monad m where\n",
    "    (>>=) :: m a -> (a -> m b) -> m b\n",
    "\n",
    "    (>>)  :: m a -> m b -> m b\n",
    "    m >> k = m >>= \\_ -> k\n",
    "\n",
    "    return      :: a -> m a\n",
    "    return      = pure\n",
    "\n",
    "\n",
    "```\n",
    "**That follows these laws:**\n",
    "\n",
    "```haskell\n",
    "return a >>= k = k a -- Left identity\n",
    "\n",
    "m >>= return = m -- Right identity\n",
    "\n",
    "m >>= (\\x -> k x >>= h) = (m >>= k) >>= h -- Associativity\n",
    "```"
   ]
  },
  {
   "cell_type": "markdown",
   "metadata": {},
   "source": [
    "By the time you're watching this recording, this might or might not still be the definition in `base`. If \"The Monad of no return\" proposal we discussed earlier or a similar one is implemented, either or both of `return` and `>>` might be removed from the `Monad` type class. This doesn't mean you shouldn't use them, since they'll still likely be left somewhere as helper functions, but it does hint at the one thing unique to the `Monad` class, the bind (`>>=`) operator."
   ]
  },
  {
   "cell_type": "markdown",
   "metadata": {},
   "source": [
    "And that's it! You know everything you need to know about the `Monad` type class. From now on, every time you see a type that is an instance of the `Monad` type class, you only have to figure out the effect it represents. If you know that, you don't even need to know how it's implemented under the hood because you already know the behaviors of all `Monad`s. The `IO` Monad is an example; we didn't explore how it works under the hood, but we can use its full power through the Monad interface. Which reminds me:"
   ]
  },
  {
   "cell_type": "markdown",
   "metadata": {},
   "source": [
    "## You have to `do` what you have to `do`"
   ]
  },
  {
   "cell_type": "markdown",
   "metadata": {},
   "source": [
    "If you recall lesson 10, we learned about basic `IO` and how Haskell provides the `do` notation as syntactic sugar for expressions composed by the bind (`>>=`) and then (`>>`) `IO` operators:"
   ]
  },
  {
   "cell_type": "code",
   "execution_count": 54,
   "metadata": {},
   "outputs": [
    {
     "data": {
      "text/plain": [
       "Write a bunch of numbers and letters scrambled together:\n",
       "Numbers: 564\n",
       "Letters: akjd"
      ]
     },
     "metadata": {},
     "output_type": "display_data"
    }
   ],
   "source": [
    "unscramble :: IO ()\n",
    "unscramble = do\n",
    "  putStrLn \"Write a bunch of numbers and letters scrambled together:\"\n",
    "  arg <- getLine\n",
    "  let numbers = filter (`elem` \"1234567890\") arg\n",
    "      letters = filter (`notElem` numbers) arg\n",
    "  putStrLn $ \"Numbers: \" ++ numbers\n",
    "  putStrLn $ \"Letters: \" ++ letters\n",
    "\n",
    "\n",
    "unscramble"
   ]
  },
  {
   "cell_type": "markdown",
   "metadata": {},
   "source": [
    "Well, everything you learned in that lesson about `do` notation applies not only to the `IO` Monad but to every type that implements the `Monad` type class!! That means we can do this, for example:"
   ]
  },
  {
   "cell_type": "code",
   "execution_count": 55,
   "metadata": {},
   "outputs": [
    {
     "data": {
      "text/plain": [
       "Log [\"Username normalized: admin\",\"Username unavailable: admin\",\"Password validated and hashed\",\"Generated user ID: 123456\",\"Checked enterprise status for: person@enterprise.com\",\"Inserted user into database: admin\"] (UserAccount {userId = \"123456\", userName = \"admin\", userPassHash = \"admin123\", userEmail = \"person@enterprise.com\", userHasEnterprise = False})"
      ]
     },
     "metadata": {},
     "output_type": "display_data"
    }
   ],
   "source": [
    "registerUser :: String -> String -> String -> Log UserAccount\n",
    "registerUser uname password email = do\n",
    "  normUname <- normalizeUsername uname\n",
    "  _         <- checkUsernameAvailable normUname\n",
    "  passHash  <- checkAndGeneratePasswordHash password normUname\n",
    "  userID    <- generateUserID\n",
    "  hasEnterp <- checkForEnterprisePlan email\n",
    "  insertUserIntoDatabase userID normUname passHash email hasEnterp\n",
    "\n",
    "\n",
    "registerUser \"admin\" \"admin123\" \"person@enterprise.com\""
   ]
  },
  {
   "cell_type": "markdown",
   "metadata": {},
   "source": [
    "This is the same function we wrote before, but since we created an instance of the `Monad` class for `Log`, we can now use the `do` notation.\n",
    "\n",
    "We won't go into all the examples and details again since you can see lesson 10 for that, and the lesson is already quite long. So, let's finish here for now."
   ]
  },
  {
   "cell_type": "markdown",
   "metadata": {},
   "source": [
    "## And that's it for today! 😃"
   ]
  },
  {
   "cell_type": "markdown",
   "metadata": {},
   "source": [
    "We haven't talked about all the functions you get for free when you create an instance of the `Monad` type class, and that's because your homework is to go to the `Control.Monad` module in the `base` library and explore them! Take your time to understand and try all of them. In some cases, you'll see that a few functions are also constrained by other type classes that we haven't discussed. During this course, you have seen me go through over a dozen type classes; you now know how to do it, try it yourself! I believe in you!\n",
    "\n",
    "Make sure to do your homework, and I'll see you in the next one!"
   ]
  }
 ],
 "metadata": {
  "kernelspec": {
   "display_name": "Haskell",
   "language": "haskell",
   "name": "haskell"
  },
  "language_info": {
   "codemirror_mode": "ihaskell",
   "file_extension": ".hs",
   "mimetype": "text/x-haskell",
   "name": "haskell",
   "pygments_lexer": "Haskell",
   "version": "8.10.7"
  }
 },
 "nbformat": 4,
 "nbformat_minor": 4
}
